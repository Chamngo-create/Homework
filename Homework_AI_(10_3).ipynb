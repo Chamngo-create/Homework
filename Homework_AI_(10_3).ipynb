{
  "cells": [
    {
      "cell_type": "markdown",
      "metadata": {
        "id": "view-in-github",
        "colab_type": "text"
      },
      "source": [
        "<a href=\"https://colab.research.google.com/github/Chamngo-create/Homework/blob/main/Homework_AI_(10_3).ipynb\" target=\"_parent\"><img src=\"https://colab.research.google.com/assets/colab-badge.svg\" alt=\"Open In Colab\"/></a>"
      ]
    },
    {
      "cell_type": "code",
      "execution_count": null,
      "metadata": {
        "colab": {
          "base_uri": "https://localhost:8080/"
        },
        "id": "yE-hMmcwoyJ4",
        "outputId": "6a99ec0c-a220-4012-e933-08970c75da1b"
      },
      "outputs": [
        {
          "output_type": "stream",
          "name": "stdout",
          "text": [
            "Downloading data from https://storage.googleapis.com/tensorflow/tf-keras-datasets/mnist.npz\n",
            "\u001b[1m11490434/11490434\u001b[0m \u001b[32m━━━━━━━━━━━━━━━━━━━━\u001b[0m\u001b[37m\u001b[0m \u001b[1m0s\u001b[0m 0us/step\n"
          ]
        },
        {
          "output_type": "stream",
          "name": "stderr",
          "text": [
            "/usr/local/lib/python3.11/dist-packages/keras/src/layers/core/dense.py:87: UserWarning: Do not pass an `input_shape`/`input_dim` argument to a layer. When using Sequential models, prefer using an `Input(shape)` object as the first layer in the model instead.\n",
            "  super().__init__(activity_regularizer=activity_regularizer, **kwargs)\n"
          ]
        },
        {
          "output_type": "stream",
          "name": "stdout",
          "text": [
            "Epoch 1/150\n",
            "\u001b[1m938/938\u001b[0m \u001b[32m━━━━━━━━━━━━━━━━━━━━\u001b[0m\u001b[37m\u001b[0m \u001b[1m11s\u001b[0m 9ms/step - accuracy: 0.8568 - loss: 0.4755 - val_accuracy: 0.9597 - val_loss: 0.1250\n",
            "Epoch 2/150\n",
            "\u001b[1m938/938\u001b[0m \u001b[32m━━━━━━━━━━━━━━━━━━━━\u001b[0m\u001b[37m\u001b[0m \u001b[1m8s\u001b[0m 7ms/step - accuracy: 0.9699 - loss: 0.1003 - val_accuracy: 0.9728 - val_loss: 0.0825\n",
            "Epoch 3/150\n",
            "\u001b[1m938/938\u001b[0m \u001b[32m━━━━━━━━━━━━━━━━━━━━\u001b[0m\u001b[37m\u001b[0m \u001b[1m9s\u001b[0m 6ms/step - accuracy: 0.9800 - loss: 0.0641 - val_accuracy: 0.9730 - val_loss: 0.0875\n",
            "Epoch 4/150\n",
            "\u001b[1m938/938\u001b[0m \u001b[32m━━━━━━━━━━━━━━━━━━━━\u001b[0m\u001b[37m\u001b[0m \u001b[1m7s\u001b[0m 7ms/step - accuracy: 0.9848 - loss: 0.0469 - val_accuracy: 0.9740 - val_loss: 0.0799\n",
            "Epoch 5/150\n",
            "\u001b[1m938/938\u001b[0m \u001b[32m━━━━━━━━━━━━━━━━━━━━\u001b[0m\u001b[37m\u001b[0m \u001b[1m10s\u001b[0m 7ms/step - accuracy: 0.9878 - loss: 0.0387 - val_accuracy: 0.9773 - val_loss: 0.0784\n",
            "Epoch 6/150\n",
            "\u001b[1m938/938\u001b[0m \u001b[32m━━━━━━━━━━━━━━━━━━━━\u001b[0m\u001b[37m\u001b[0m \u001b[1m10s\u001b[0m 7ms/step - accuracy: 0.9904 - loss: 0.0308 - val_accuracy: 0.9761 - val_loss: 0.0855\n",
            "Epoch 7/150\n",
            "\u001b[1m938/938\u001b[0m \u001b[32m━━━━━━━━━━━━━━━━━━━━\u001b[0m\u001b[37m\u001b[0m \u001b[1m10s\u001b[0m 6ms/step - accuracy: 0.9901 - loss: 0.0308 - val_accuracy: 0.9817 - val_loss: 0.0684\n",
            "Epoch 8/150\n",
            "\u001b[1m938/938\u001b[0m \u001b[32m━━━━━━━━━━━━━━━━━━━━\u001b[0m\u001b[37m\u001b[0m \u001b[1m10s\u001b[0m 6ms/step - accuracy: 0.9926 - loss: 0.0239 - val_accuracy: 0.9792 - val_loss: 0.0757\n",
            "Epoch 9/150\n",
            "\u001b[1m938/938\u001b[0m \u001b[32m━━━━━━━━━━━━━━━━━━━━\u001b[0m\u001b[37m\u001b[0m \u001b[1m10s\u001b[0m 6ms/step - accuracy: 0.9933 - loss: 0.0195 - val_accuracy: 0.9797 - val_loss: 0.0820\n",
            "Epoch 10/150\n",
            "\u001b[1m938/938\u001b[0m \u001b[32m━━━━━━━━━━━━━━━━━━━━\u001b[0m\u001b[37m\u001b[0m \u001b[1m7s\u001b[0m 7ms/step - accuracy: 0.9939 - loss: 0.0196 - val_accuracy: 0.9790 - val_loss: 0.0936\n",
            "Epoch 11/150\n",
            "\u001b[1m938/938\u001b[0m \u001b[32m━━━━━━━━━━━━━━━━━━━━\u001b[0m\u001b[37m\u001b[0m \u001b[1m6s\u001b[0m 6ms/step - accuracy: 0.9953 - loss: 0.0140 - val_accuracy: 0.9794 - val_loss: 0.0930\n",
            "Epoch 12/150\n",
            "\u001b[1m938/938\u001b[0m \u001b[32m━━━━━━━━━━━━━━━━━━━━\u001b[0m\u001b[37m\u001b[0m \u001b[1m7s\u001b[0m 7ms/step - accuracy: 0.9956 - loss: 0.0128 - val_accuracy: 0.9776 - val_loss: 0.0917\n",
            "Epoch 13/150\n",
            "\u001b[1m938/938\u001b[0m \u001b[32m━━━━━━━━━━━━━━━━━━━━\u001b[0m\u001b[37m\u001b[0m \u001b[1m6s\u001b[0m 6ms/step - accuracy: 0.9953 - loss: 0.0147 - val_accuracy: 0.9775 - val_loss: 0.0927\n",
            "Epoch 14/150\n",
            "\u001b[1m938/938\u001b[0m \u001b[32m━━━━━━━━━━━━━━━━━━━━\u001b[0m\u001b[37m\u001b[0m \u001b[1m7s\u001b[0m 7ms/step - accuracy: 0.9956 - loss: 0.0129 - val_accuracy: 0.9802 - val_loss: 0.0966\n",
            "Epoch 15/150\n",
            "\u001b[1m938/938\u001b[0m \u001b[32m━━━━━━━━━━━━━━━━━━━━\u001b[0m\u001b[37m\u001b[0m \u001b[1m6s\u001b[0m 6ms/step - accuracy: 0.9957 - loss: 0.0138 - val_accuracy: 0.9807 - val_loss: 0.0861\n",
            "Epoch 16/150\n",
            "\u001b[1m938/938\u001b[0m \u001b[32m━━━━━━━━━━━━━━━━━━━━\u001b[0m\u001b[37m\u001b[0m \u001b[1m14s\u001b[0m 10ms/step - accuracy: 0.9968 - loss: 0.0100 - val_accuracy: 0.9769 - val_loss: 0.1041\n",
            "Epoch 17/150\n",
            "\u001b[1m938/938\u001b[0m \u001b[32m━━━━━━━━━━━━━━━━━━━━\u001b[0m\u001b[37m\u001b[0m \u001b[1m7s\u001b[0m 8ms/step - accuracy: 0.9978 - loss: 0.0077 - val_accuracy: 0.9809 - val_loss: 0.0852\n",
            "Epoch 18/150\n",
            "\u001b[1m938/938\u001b[0m \u001b[32m━━━━━━━━━━━━━━━━━━━━\u001b[0m\u001b[37m\u001b[0m \u001b[1m10s\u001b[0m 8ms/step - accuracy: 0.9963 - loss: 0.0112 - val_accuracy: 0.9831 - val_loss: 0.0894\n",
            "Epoch 19/150\n",
            "\u001b[1m938/938\u001b[0m \u001b[32m━━━━━━━━━━━━━━━━━━━━\u001b[0m\u001b[37m\u001b[0m \u001b[1m6s\u001b[0m 6ms/step - accuracy: 0.9978 - loss: 0.0074 - val_accuracy: 0.9783 - val_loss: 0.1026\n",
            "Epoch 20/150\n",
            "\u001b[1m938/938\u001b[0m \u001b[32m━━━━━━━━━━━━━━━━━━━━\u001b[0m\u001b[37m\u001b[0m \u001b[1m7s\u001b[0m 7ms/step - accuracy: 0.9970 - loss: 0.0096 - val_accuracy: 0.9819 - val_loss: 0.0894\n",
            "Epoch 21/150\n",
            "\u001b[1m938/938\u001b[0m \u001b[32m━━━━━━━━━━━━━━━━━━━━\u001b[0m\u001b[37m\u001b[0m \u001b[1m9s\u001b[0m 6ms/step - accuracy: 0.9968 - loss: 0.0102 - val_accuracy: 0.9831 - val_loss: 0.0863\n",
            "Epoch 22/150\n",
            "\u001b[1m938/938\u001b[0m \u001b[32m━━━━━━━━━━━━━━━━━━━━\u001b[0m\u001b[37m\u001b[0m \u001b[1m10s\u001b[0m 6ms/step - accuracy: 0.9975 - loss: 0.0086 - val_accuracy: 0.9795 - val_loss: 0.0949\n",
            "Epoch 23/150\n",
            "\u001b[1m938/938\u001b[0m \u001b[32m━━━━━━━━━━━━━━━━━━━━\u001b[0m\u001b[37m\u001b[0m \u001b[1m7s\u001b[0m 8ms/step - accuracy: 0.9971 - loss: 0.0093 - val_accuracy: 0.9806 - val_loss: 0.0997\n",
            "Epoch 24/150\n",
            "\u001b[1m938/938\u001b[0m \u001b[32m━━━━━━━━━━━━━━━━━━━━\u001b[0m\u001b[37m\u001b[0m \u001b[1m6s\u001b[0m 6ms/step - accuracy: 0.9975 - loss: 0.0078 - val_accuracy: 0.9778 - val_loss: 0.1230\n",
            "Epoch 25/150\n",
            "\u001b[1m938/938\u001b[0m \u001b[32m━━━━━━━━━━━━━━━━━━━━\u001b[0m\u001b[37m\u001b[0m \u001b[1m10s\u001b[0m 6ms/step - accuracy: 0.9974 - loss: 0.0080 - val_accuracy: 0.9810 - val_loss: 0.1128\n",
            "Epoch 26/150\n",
            "\u001b[1m938/938\u001b[0m \u001b[32m━━━━━━━━━━━━━━━━━━━━\u001b[0m\u001b[37m\u001b[0m \u001b[1m7s\u001b[0m 7ms/step - accuracy: 0.9975 - loss: 0.0079 - val_accuracy: 0.9800 - val_loss: 0.1039\n",
            "Epoch 27/150\n",
            "\u001b[1m938/938\u001b[0m \u001b[32m━━━━━━━━━━━━━━━━━━━━\u001b[0m\u001b[37m\u001b[0m \u001b[1m11s\u001b[0m 8ms/step - accuracy: 0.9976 - loss: 0.0077 - val_accuracy: 0.9812 - val_loss: 0.1054\n",
            "Epoch 28/150\n",
            "\u001b[1m938/938\u001b[0m \u001b[32m━━━━━━━━━━━━━━━━━━━━\u001b[0m\u001b[37m\u001b[0m \u001b[1m6s\u001b[0m 6ms/step - accuracy: 0.9987 - loss: 0.0042 - val_accuracy: 0.9805 - val_loss: 0.1176\n",
            "Epoch 29/150\n",
            "\u001b[1m938/938\u001b[0m \u001b[32m━━━━━━━━━━━━━━━━━━━━\u001b[0m\u001b[37m\u001b[0m \u001b[1m11s\u001b[0m 7ms/step - accuracy: 0.9976 - loss: 0.0095 - val_accuracy: 0.9804 - val_loss: 0.1084\n",
            "Epoch 30/150\n",
            "\u001b[1m938/938\u001b[0m \u001b[32m━━━━━━━━━━━━━━━━━━━━\u001b[0m\u001b[37m\u001b[0m \u001b[1m11s\u001b[0m 7ms/step - accuracy: 0.9976 - loss: 0.0075 - val_accuracy: 0.9787 - val_loss: 0.1315\n",
            "Epoch 31/150\n",
            "\u001b[1m938/938\u001b[0m \u001b[32m━━━━━━━━━━━━━━━━━━━━\u001b[0m\u001b[37m\u001b[0m \u001b[1m6s\u001b[0m 6ms/step - accuracy: 0.9979 - loss: 0.0070 - val_accuracy: 0.9764 - val_loss: 0.1410\n",
            "Epoch 32/150\n",
            "\u001b[1m938/938\u001b[0m \u001b[32m━━━━━━━━━━━━━━━━━━━━\u001b[0m\u001b[37m\u001b[0m \u001b[1m7s\u001b[0m 7ms/step - accuracy: 0.9975 - loss: 0.0088 - val_accuracy: 0.9818 - val_loss: 0.1073\n",
            "Epoch 33/150\n",
            "\u001b[1m938/938\u001b[0m \u001b[32m━━━━━━━━━━━━━━━━━━━━\u001b[0m\u001b[37m\u001b[0m \u001b[1m10s\u001b[0m 7ms/step - accuracy: 0.9991 - loss: 0.0033 - val_accuracy: 0.9830 - val_loss: 0.1023\n",
            "Epoch 34/150\n",
            "\u001b[1m938/938\u001b[0m \u001b[32m━━━━━━━━━━━━━━━━━━━━\u001b[0m\u001b[37m\u001b[0m \u001b[1m6s\u001b[0m 6ms/step - accuracy: 0.9987 - loss: 0.0042 - val_accuracy: 0.9806 - val_loss: 0.1281\n",
            "Epoch 35/150\n",
            "\u001b[1m938/938\u001b[0m \u001b[32m━━━━━━━━━━━━━━━━━━━━\u001b[0m\u001b[37m\u001b[0m \u001b[1m11s\u001b[0m 7ms/step - accuracy: 0.9973 - loss: 0.0091 - val_accuracy: 0.9803 - val_loss: 0.1189\n",
            "Epoch 36/150\n",
            "\u001b[1m938/938\u001b[0m \u001b[32m━━━━━━━━━━━━━━━━━━━━\u001b[0m\u001b[37m\u001b[0m \u001b[1m7s\u001b[0m 7ms/step - accuracy: 0.9984 - loss: 0.0058 - val_accuracy: 0.9825 - val_loss: 0.1052\n",
            "Epoch 37/150\n",
            "\u001b[1m938/938\u001b[0m \u001b[32m━━━━━━━━━━━━━━━━━━━━\u001b[0m\u001b[37m\u001b[0m \u001b[1m9s\u001b[0m 6ms/step - accuracy: 0.9993 - loss: 0.0022 - val_accuracy: 0.9824 - val_loss: 0.1105\n",
            "Epoch 38/150\n",
            "\u001b[1m938/938\u001b[0m \u001b[32m━━━━━━━━━━━━━━━━━━━━\u001b[0m\u001b[37m\u001b[0m \u001b[1m7s\u001b[0m 7ms/step - accuracy: 0.9970 - loss: 0.0111 - val_accuracy: 0.9827 - val_loss: 0.1021\n",
            "Epoch 39/150\n",
            "\u001b[1m938/938\u001b[0m \u001b[32m━━━━━━━━━━━━━━━━━━━━\u001b[0m\u001b[37m\u001b[0m \u001b[1m6s\u001b[0m 6ms/step - accuracy: 0.9986 - loss: 0.0052 - val_accuracy: 0.9831 - val_loss: 0.0960\n",
            "Epoch 40/150\n",
            "\u001b[1m938/938\u001b[0m \u001b[32m━━━━━━━━━━━━━━━━━━━━\u001b[0m\u001b[37m\u001b[0m \u001b[1m10s\u001b[0m 6ms/step - accuracy: 0.9982 - loss: 0.0067 - val_accuracy: 0.9787 - val_loss: 0.1136\n",
            "Epoch 41/150\n",
            "\u001b[1m938/938\u001b[0m \u001b[32m━━━━━━━━━━━━━━━━━━━━\u001b[0m\u001b[37m\u001b[0m \u001b[1m10s\u001b[0m 6ms/step - accuracy: 0.9984 - loss: 0.0065 - val_accuracy: 0.9827 - val_loss: 0.1041\n",
            "Epoch 42/150\n",
            "\u001b[1m938/938\u001b[0m \u001b[32m━━━━━━━━━━━━━━━━━━━━\u001b[0m\u001b[37m\u001b[0m \u001b[1m11s\u001b[0m 7ms/step - accuracy: 0.9991 - loss: 0.0030 - val_accuracy: 0.9829 - val_loss: 0.0999\n",
            "Epoch 43/150\n",
            "\u001b[1m938/938\u001b[0m \u001b[32m━━━━━━━━━━━━━━━━━━━━\u001b[0m\u001b[37m\u001b[0m \u001b[1m11s\u001b[0m 8ms/step - accuracy: 0.9976 - loss: 0.0083 - val_accuracy: 0.9842 - val_loss: 0.0962\n",
            "Epoch 44/150\n",
            "\u001b[1m938/938\u001b[0m \u001b[32m━━━━━━━━━━━━━━━━━━━━\u001b[0m\u001b[37m\u001b[0m \u001b[1m6s\u001b[0m 6ms/step - accuracy: 0.9989 - loss: 0.0031 - val_accuracy: 0.9843 - val_loss: 0.0968\n",
            "Epoch 45/150\n",
            "\u001b[1m938/938\u001b[0m \u001b[32m━━━━━━━━━━━━━━━━━━━━\u001b[0m\u001b[37m\u001b[0m \u001b[1m7s\u001b[0m 7ms/step - accuracy: 0.9986 - loss: 0.0051 - val_accuracy: 0.9829 - val_loss: 0.1106\n",
            "Epoch 46/150\n",
            "\u001b[1m938/938\u001b[0m \u001b[32m━━━━━━━━━━━━━━━━━━━━\u001b[0m\u001b[37m\u001b[0m \u001b[1m6s\u001b[0m 6ms/step - accuracy: 0.9987 - loss: 0.0047 - val_accuracy: 0.9799 - val_loss: 0.1332\n",
            "Epoch 47/150\n",
            "\u001b[1m938/938\u001b[0m \u001b[32m━━━━━━━━━━━━━━━━━━━━\u001b[0m\u001b[37m\u001b[0m \u001b[1m7s\u001b[0m 7ms/step - accuracy: 0.9982 - loss: 0.0075 - val_accuracy: 0.9815 - val_loss: 0.1135\n",
            "Epoch 48/150\n",
            "\u001b[1m938/938\u001b[0m \u001b[32m━━━━━━━━━━━━━━━━━━━━\u001b[0m\u001b[37m\u001b[0m \u001b[1m7s\u001b[0m 7ms/step - accuracy: 0.9984 - loss: 0.0063 - val_accuracy: 0.9849 - val_loss: 0.0938\n",
            "Epoch 49/150\n",
            "\u001b[1m938/938\u001b[0m \u001b[32m━━━━━━━━━━━━━━━━━━━━\u001b[0m\u001b[37m\u001b[0m \u001b[1m6s\u001b[0m 7ms/step - accuracy: 0.9991 - loss: 0.0039 - val_accuracy: 0.9848 - val_loss: 0.0995\n",
            "Epoch 50/150\n",
            "\u001b[1m938/938\u001b[0m \u001b[32m━━━━━━━━━━━━━━━━━━━━\u001b[0m\u001b[37m\u001b[0m \u001b[1m7s\u001b[0m 8ms/step - accuracy: 0.9994 - loss: 0.0019 - val_accuracy: 0.9832 - val_loss: 0.1115\n",
            "Epoch 51/150\n",
            "\u001b[1m938/938\u001b[0m \u001b[32m━━━━━━━━━━━━━━━━━━━━\u001b[0m\u001b[37m\u001b[0m \u001b[1m6s\u001b[0m 6ms/step - accuracy: 0.9990 - loss: 0.0038 - val_accuracy: 0.9804 - val_loss: 0.1240\n",
            "Epoch 52/150\n",
            "\u001b[1m938/938\u001b[0m \u001b[32m━━━━━━━━━━━━━━━━━━━━\u001b[0m\u001b[37m\u001b[0m \u001b[1m11s\u001b[0m 7ms/step - accuracy: 0.9982 - loss: 0.0056 - val_accuracy: 0.9834 - val_loss: 0.1196\n",
            "Epoch 53/150\n",
            "\u001b[1m938/938\u001b[0m \u001b[32m━━━━━━━━━━━━━━━━━━━━\u001b[0m\u001b[37m\u001b[0m \u001b[1m11s\u001b[0m 7ms/step - accuracy: 0.9987 - loss: 0.0045 - val_accuracy: 0.9832 - val_loss: 0.1173\n",
            "Epoch 54/150\n",
            "\u001b[1m938/938\u001b[0m \u001b[32m━━━━━━━━━━━━━━━━━━━━\u001b[0m\u001b[37m\u001b[0m \u001b[1m6s\u001b[0m 6ms/step - accuracy: 0.9990 - loss: 0.0050 - val_accuracy: 0.9820 - val_loss: 0.1303\n",
            "Epoch 55/150\n",
            "\u001b[1m938/938\u001b[0m \u001b[32m━━━━━━━━━━━━━━━━━━━━\u001b[0m\u001b[37m\u001b[0m \u001b[1m10s\u001b[0m 6ms/step - accuracy: 0.9986 - loss: 0.0056 - val_accuracy: 0.9835 - val_loss: 0.1119\n",
            "Epoch 56/150\n",
            "\u001b[1m938/938\u001b[0m \u001b[32m━━━━━━━━━━━━━━━━━━━━\u001b[0m\u001b[37m\u001b[0m \u001b[1m7s\u001b[0m 7ms/step - accuracy: 0.9994 - loss: 0.0017 - val_accuracy: 0.9827 - val_loss: 0.1307\n",
            "Epoch 57/150\n",
            "\u001b[1m938/938\u001b[0m \u001b[32m━━━━━━━━━━━━━━━━━━━━\u001b[0m\u001b[37m\u001b[0m \u001b[1m6s\u001b[0m 6ms/step - accuracy: 0.9989 - loss: 0.0044 - val_accuracy: 0.9841 - val_loss: 0.1322\n",
            "Epoch 58/150\n",
            "\u001b[1m938/938\u001b[0m \u001b[32m━━━━━━━━━━━━━━━━━━━━\u001b[0m\u001b[37m\u001b[0m \u001b[1m7s\u001b[0m 7ms/step - accuracy: 0.9992 - loss: 0.0026 - val_accuracy: 0.9805 - val_loss: 0.1328\n",
            "Epoch 59/150\n",
            "\u001b[1m938/938\u001b[0m \u001b[32m━━━━━━━━━━━━━━━━━━━━\u001b[0m\u001b[37m\u001b[0m \u001b[1m6s\u001b[0m 6ms/step - accuracy: 0.9985 - loss: 0.0048 - val_accuracy: 0.9833 - val_loss: 0.1361\n",
            "Epoch 60/150\n",
            "\u001b[1m938/938\u001b[0m \u001b[32m━━━━━━━━━━━━━━━━━━━━\u001b[0m\u001b[37m\u001b[0m \u001b[1m7s\u001b[0m 7ms/step - accuracy: 0.9990 - loss: 0.0040 - val_accuracy: 0.9850 - val_loss: 0.1393\n",
            "Epoch 61/150\n",
            "\u001b[1m938/938\u001b[0m \u001b[32m━━━━━━━━━━━━━━━━━━━━\u001b[0m\u001b[37m\u001b[0m \u001b[1m6s\u001b[0m 7ms/step - accuracy: 0.9994 - loss: 0.0022 - val_accuracy: 0.9839 - val_loss: 0.1359\n",
            "Epoch 62/150\n",
            "\u001b[1m938/938\u001b[0m \u001b[32m━━━━━━━━━━━━━━━━━━━━\u001b[0m\u001b[37m\u001b[0m \u001b[1m7s\u001b[0m 8ms/step - accuracy: 0.9988 - loss: 0.0043 - val_accuracy: 0.9821 - val_loss: 0.1653\n",
            "Epoch 63/150\n",
            "\u001b[1m938/938\u001b[0m \u001b[32m━━━━━━━━━━━━━━━━━━━━\u001b[0m\u001b[37m\u001b[0m \u001b[1m6s\u001b[0m 6ms/step - accuracy: 0.9979 - loss: 0.0093 - val_accuracy: 0.9835 - val_loss: 0.1176\n",
            "Epoch 64/150\n",
            "\u001b[1m938/938\u001b[0m \u001b[32m━━━━━━━━━━━━━━━━━━━━\u001b[0m\u001b[37m\u001b[0m \u001b[1m10s\u001b[0m 6ms/step - accuracy: 0.9998 - loss: 6.8245e-04 - val_accuracy: 0.9838 - val_loss: 0.1289\n",
            "Epoch 65/150\n",
            "\u001b[1m938/938\u001b[0m \u001b[32m━━━━━━━━━━━━━━━━━━━━\u001b[0m\u001b[37m\u001b[0m \u001b[1m10s\u001b[0m 6ms/step - accuracy: 0.9993 - loss: 0.0034 - val_accuracy: 0.9799 - val_loss: 0.1578\n",
            "Epoch 66/150\n",
            "\u001b[1m938/938\u001b[0m \u001b[32m━━━━━━━━━━━━━━━━━━━━\u001b[0m\u001b[37m\u001b[0m \u001b[1m11s\u001b[0m 7ms/step - accuracy: 0.9985 - loss: 0.0059 - val_accuracy: 0.9823 - val_loss: 0.1460\n",
            "Epoch 67/150\n",
            "\u001b[1m938/938\u001b[0m \u001b[32m━━━━━━━━━━━━━━━━━━━━\u001b[0m\u001b[37m\u001b[0m \u001b[1m7s\u001b[0m 7ms/step - accuracy: 0.9990 - loss: 0.0040 - val_accuracy: 0.9832 - val_loss: 0.1279\n",
            "Epoch 68/150\n",
            "\u001b[1m938/938\u001b[0m \u001b[32m━━━━━━━━━━━━━━━━━━━━\u001b[0m\u001b[37m\u001b[0m \u001b[1m9s\u001b[0m 6ms/step - accuracy: 0.9995 - loss: 0.0026 - val_accuracy: 0.9854 - val_loss: 0.1261\n",
            "Epoch 69/150\n",
            "\u001b[1m938/938\u001b[0m \u001b[32m━━━━━━━━━━━━━━━━━━━━\u001b[0m\u001b[37m\u001b[0m \u001b[1m7s\u001b[0m 8ms/step - accuracy: 0.9997 - loss: 0.0016 - val_accuracy: 0.9842 - val_loss: 0.1355\n",
            "Epoch 70/150\n",
            "\u001b[1m938/938\u001b[0m \u001b[32m━━━━━━━━━━━━━━━━━━━━\u001b[0m\u001b[37m\u001b[0m \u001b[1m10s\u001b[0m 7ms/step - accuracy: 0.9996 - loss: 0.0020 - val_accuracy: 0.9826 - val_loss: 0.1363\n",
            "Epoch 71/150\n",
            "\u001b[1m938/938\u001b[0m \u001b[32m━━━━━━━━━━━━━━━━━━━━\u001b[0m\u001b[37m\u001b[0m \u001b[1m9s\u001b[0m 7ms/step - accuracy: 0.9986 - loss: 0.0046 - val_accuracy: 0.9831 - val_loss: 0.1337\n",
            "Epoch 72/150\n",
            "\u001b[1m938/938\u001b[0m \u001b[32m━━━━━━━━━━━━━━━━━━━━\u001b[0m\u001b[37m\u001b[0m \u001b[1m7s\u001b[0m 7ms/step - accuracy: 0.9996 - loss: 0.0014 - val_accuracy: 0.9819 - val_loss: 0.1510\n",
            "Epoch 73/150\n",
            "\u001b[1m938/938\u001b[0m \u001b[32m━━━━━━━━━━━━━━━━━━━━\u001b[0m\u001b[37m\u001b[0m \u001b[1m10s\u001b[0m 8ms/step - accuracy: 0.9992 - loss: 0.0032 - val_accuracy: 0.9822 - val_loss: 0.1372\n",
            "Epoch 74/150\n",
            "\u001b[1m938/938\u001b[0m \u001b[32m━━━━━━━━━━━━━━━━━━━━\u001b[0m\u001b[37m\u001b[0m \u001b[1m6s\u001b[0m 6ms/step - accuracy: 0.9990 - loss: 0.0033 - val_accuracy: 0.9850 - val_loss: 0.1224\n",
            "Epoch 75/150\n",
            "\u001b[1m938/938\u001b[0m \u001b[32m━━━━━━━━━━━━━━━━━━━━\u001b[0m\u001b[37m\u001b[0m \u001b[1m10s\u001b[0m 6ms/step - accuracy: 0.9998 - loss: 0.0011 - val_accuracy: 0.9832 - val_loss: 0.1565\n",
            "Epoch 76/150\n",
            "\u001b[1m938/938\u001b[0m \u001b[32m━━━━━━━━━━━━━━━━━━━━\u001b[0m\u001b[37m\u001b[0m \u001b[1m7s\u001b[0m 8ms/step - accuracy: 0.9976 - loss: 0.0105 - val_accuracy: 0.9813 - val_loss: 0.1403\n",
            "Epoch 77/150\n",
            "\u001b[1m938/938\u001b[0m \u001b[32m━━━━━━━━━━━━━━━━━━━━\u001b[0m\u001b[37m\u001b[0m \u001b[1m6s\u001b[0m 6ms/step - accuracy: 0.9993 - loss: 0.0024 - val_accuracy: 0.9841 - val_loss: 0.1259\n",
            "Epoch 78/150\n",
            "\u001b[1m938/938\u001b[0m \u001b[32m━━━━━━━━━━━━━━━━━━━━\u001b[0m\u001b[37m\u001b[0m \u001b[1m10s\u001b[0m 7ms/step - accuracy: 0.9995 - loss: 0.0018 - val_accuracy: 0.9824 - val_loss: 0.1310\n",
            "Epoch 79/150\n",
            "\u001b[1m938/938\u001b[0m \u001b[32m━━━━━━━━━━━━━━━━━━━━\u001b[0m\u001b[37m\u001b[0m \u001b[1m7s\u001b[0m 8ms/step - accuracy: 0.9989 - loss: 0.0033 - val_accuracy: 0.9838 - val_loss: 0.1424\n",
            "Epoch 80/150\n",
            "\u001b[1m938/938\u001b[0m \u001b[32m━━━━━━━━━━━━━━━━━━━━\u001b[0m\u001b[37m\u001b[0m \u001b[1m6s\u001b[0m 6ms/step - accuracy: 0.9994 - loss: 0.0024 - val_accuracy: 0.9836 - val_loss: 0.1414\n",
            "Epoch 81/150\n",
            "\u001b[1m938/938\u001b[0m \u001b[32m━━━━━━━━━━━━━━━━━━━━\u001b[0m\u001b[37m\u001b[0m \u001b[1m10s\u001b[0m 7ms/step - accuracy: 0.9991 - loss: 0.0026 - val_accuracy: 0.9808 - val_loss: 0.1482\n",
            "Epoch 82/150\n",
            "\u001b[1m938/938\u001b[0m \u001b[32m━━━━━━━━━━━━━━━━━━━━\u001b[0m\u001b[37m\u001b[0m \u001b[1m11s\u001b[0m 8ms/step - accuracy: 0.9991 - loss: 0.0040 - val_accuracy: 0.9844 - val_loss: 0.1278\n",
            "Epoch 83/150\n",
            "\u001b[1m938/938\u001b[0m \u001b[32m━━━━━━━━━━━━━━━━━━━━\u001b[0m\u001b[37m\u001b[0m \u001b[1m6s\u001b[0m 6ms/step - accuracy: 0.9994 - loss: 0.0023 - val_accuracy: 0.9839 - val_loss: 0.1366\n",
            "Epoch 84/150\n",
            "\u001b[1m938/938\u001b[0m \u001b[32m━━━━━━━━━━━━━━━━━━━━\u001b[0m\u001b[37m\u001b[0m \u001b[1m7s\u001b[0m 8ms/step - accuracy: 0.9995 - loss: 0.0027 - val_accuracy: 0.9826 - val_loss: 0.1386\n",
            "Epoch 85/150\n",
            "\u001b[1m938/938\u001b[0m \u001b[32m━━━━━━━━━━━━━━━━━━━━\u001b[0m\u001b[37m\u001b[0m \u001b[1m6s\u001b[0m 6ms/step - accuracy: 0.9996 - loss: 0.0013 - val_accuracy: 0.9814 - val_loss: 0.1456\n",
            "Epoch 86/150\n",
            "\u001b[1m938/938\u001b[0m \u001b[32m━━━━━━━━━━━━━━━━━━━━\u001b[0m\u001b[37m\u001b[0m \u001b[1m7s\u001b[0m 7ms/step - accuracy: 0.9980 - loss: 0.0072 - val_accuracy: 0.9822 - val_loss: 0.1533\n",
            "Epoch 87/150\n",
            "\u001b[1m938/938\u001b[0m \u001b[32m━━━━━━━━━━━━━━━━━━━━\u001b[0m\u001b[37m\u001b[0m \u001b[1m6s\u001b[0m 6ms/step - accuracy: 0.9995 - loss: 0.0021 - val_accuracy: 0.9838 - val_loss: 0.1446\n",
            "Epoch 88/150\n",
            "\u001b[1m938/938\u001b[0m \u001b[32m━━━━━━━━━━━━━━━━━━━━\u001b[0m\u001b[37m\u001b[0m \u001b[1m7s\u001b[0m 7ms/step - accuracy: 0.9998 - loss: 7.6051e-04 - val_accuracy: 0.9821 - val_loss: 0.1696\n",
            "Epoch 89/150\n",
            "\u001b[1m938/938\u001b[0m \u001b[32m━━━━━━━━━━━━━━━━━━━━\u001b[0m\u001b[37m\u001b[0m \u001b[1m10s\u001b[0m 8ms/step - accuracy: 0.9990 - loss: 0.0044 - val_accuracy: 0.9833 - val_loss: 0.1555\n",
            "Epoch 90/150\n",
            "\u001b[1m938/938\u001b[0m \u001b[32m━━━━━━━━━━━━━━━━━━━━\u001b[0m\u001b[37m\u001b[0m \u001b[1m6s\u001b[0m 6ms/step - accuracy: 0.9997 - loss: 0.0015 - val_accuracy: 0.9830 - val_loss: 0.1601\n",
            "Epoch 91/150\n",
            "\u001b[1m938/938\u001b[0m \u001b[32m━━━━━━━━━━━━━━━━━━━━\u001b[0m\u001b[37m\u001b[0m \u001b[1m10s\u001b[0m 6ms/step - accuracy: 0.9994 - loss: 0.0016 - val_accuracy: 0.9823 - val_loss: 0.1752\n",
            "Epoch 92/150\n",
            "\u001b[1m938/938\u001b[0m \u001b[32m━━━━━━━━━━━━━━━━━━━━\u001b[0m\u001b[37m\u001b[0m \u001b[1m7s\u001b[0m 8ms/step - accuracy: 0.9994 - loss: 0.0054 - val_accuracy: 0.9845 - val_loss: 0.1593\n",
            "Epoch 93/150\n",
            "\u001b[1m938/938\u001b[0m \u001b[32m━━━━━━━━━━━━━━━━━━━━\u001b[0m\u001b[37m\u001b[0m \u001b[1m6s\u001b[0m 6ms/step - accuracy: 0.9999 - loss: 5.4307e-04 - val_accuracy: 0.9829 - val_loss: 0.1856\n",
            "Epoch 94/150\n",
            "\u001b[1m938/938\u001b[0m \u001b[32m━━━━━━━━━━━━━━━━━━━━\u001b[0m\u001b[37m\u001b[0m \u001b[1m7s\u001b[0m 8ms/step - accuracy: 0.9984 - loss: 0.0078 - val_accuracy: 0.9832 - val_loss: 0.1596\n",
            "Epoch 95/150\n",
            "\u001b[1m938/938\u001b[0m \u001b[32m━━━━━━━━━━━━━━━━━━━━\u001b[0m\u001b[37m\u001b[0m \u001b[1m10s\u001b[0m 8ms/step - accuracy: 0.9991 - loss: 0.0041 - val_accuracy: 0.9855 - val_loss: 0.1374\n",
            "Epoch 96/150\n",
            "\u001b[1m938/938\u001b[0m \u001b[32m━━━━━━━━━━━━━━━━━━━━\u001b[0m\u001b[37m\u001b[0m \u001b[1m9s\u001b[0m 6ms/step - accuracy: 0.9997 - loss: 0.0013 - val_accuracy: 0.9850 - val_loss: 0.1447\n",
            "Epoch 97/150\n",
            "\u001b[1m938/938\u001b[0m \u001b[32m━━━━━━━━━━━━━━━━━━━━\u001b[0m\u001b[37m\u001b[0m \u001b[1m7s\u001b[0m 8ms/step - accuracy: 0.9998 - loss: 5.4014e-04 - val_accuracy: 0.9847 - val_loss: 0.1529\n",
            "Epoch 98/150\n",
            "\u001b[1m938/938\u001b[0m \u001b[32m━━━━━━━━━━━━━━━━━━━━\u001b[0m\u001b[37m\u001b[0m \u001b[1m6s\u001b[0m 6ms/step - accuracy: 0.9990 - loss: 0.0043 - val_accuracy: 0.9856 - val_loss: 0.1472\n",
            "Epoch 99/150\n",
            "\u001b[1m938/938\u001b[0m \u001b[32m━━━━━━━━━━━━━━━━━━━━\u001b[0m\u001b[37m\u001b[0m \u001b[1m10s\u001b[0m 7ms/step - accuracy: 0.9994 - loss: 0.0029 - val_accuracy: 0.9830 - val_loss: 0.1893\n",
            "Epoch 100/150\n",
            "\u001b[1m938/938\u001b[0m \u001b[32m━━━━━━━━━━━━━━━━━━━━\u001b[0m\u001b[37m\u001b[0m \u001b[1m10s\u001b[0m 6ms/step - accuracy: 0.9996 - loss: 0.0017 - val_accuracy: 0.9811 - val_loss: 0.2009\n",
            "Epoch 101/150\n",
            "\u001b[1m938/938\u001b[0m \u001b[32m━━━━━━━━━━━━━━━━━━━━\u001b[0m\u001b[37m\u001b[0m \u001b[1m11s\u001b[0m 7ms/step - accuracy: 0.9994 - loss: 0.0027 - val_accuracy: 0.9845 - val_loss: 0.1925\n",
            "Epoch 102/150\n",
            "\u001b[1m938/938\u001b[0m \u001b[32m━━━━━━━━━━━━━━━━━━━━\u001b[0m\u001b[37m\u001b[0m \u001b[1m11s\u001b[0m 8ms/step - accuracy: 0.9998 - loss: 9.9065e-04 - val_accuracy: 0.9841 - val_loss: 0.2017\n",
            "Epoch 103/150\n",
            "\u001b[1m938/938\u001b[0m \u001b[32m━━━━━━━━━━━━━━━━━━━━\u001b[0m\u001b[37m\u001b[0m \u001b[1m10s\u001b[0m 8ms/step - accuracy: 0.9992 - loss: 0.0040 - val_accuracy: 0.9833 - val_loss: 0.1682\n",
            "Epoch 104/150\n",
            "\u001b[1m938/938\u001b[0m \u001b[32m━━━━━━━━━━━━━━━━━━━━\u001b[0m\u001b[37m\u001b[0m \u001b[1m6s\u001b[0m 6ms/step - accuracy: 0.9992 - loss: 0.0031 - val_accuracy: 0.9850 - val_loss: 0.1824\n",
            "Epoch 105/150\n",
            "\u001b[1m938/938\u001b[0m \u001b[32m━━━━━━━━━━━━━━━━━━━━\u001b[0m\u001b[37m\u001b[0m \u001b[1m7s\u001b[0m 7ms/step - accuracy: 0.9994 - loss: 0.0024 - val_accuracy: 0.9830 - val_loss: 0.1943\n",
            "Epoch 106/150\n",
            "\u001b[1m938/938\u001b[0m \u001b[32m━━━━━━━━━━━━━━━━━━━━\u001b[0m\u001b[37m\u001b[0m \u001b[1m6s\u001b[0m 6ms/step - accuracy: 0.9995 - loss: 0.0017 - val_accuracy: 0.9834 - val_loss: 0.1778\n",
            "Epoch 107/150\n",
            "\u001b[1m938/938\u001b[0m \u001b[32m━━━━━━━━━━━━━━━━━━━━\u001b[0m\u001b[37m\u001b[0m \u001b[1m7s\u001b[0m 8ms/step - accuracy: 0.9992 - loss: 0.0029 - val_accuracy: 0.9845 - val_loss: 0.1667\n",
            "Epoch 108/150\n",
            "\u001b[1m938/938\u001b[0m \u001b[32m━━━━━━━━━━━━━━━━━━━━\u001b[0m\u001b[37m\u001b[0m \u001b[1m6s\u001b[0m 6ms/step - accuracy: 0.9993 - loss: 0.0022 - val_accuracy: 0.9826 - val_loss: 0.1686\n",
            "Epoch 109/150\n",
            "\u001b[1m938/938\u001b[0m \u001b[32m━━━━━━━━━━━━━━━━━━━━\u001b[0m\u001b[37m\u001b[0m \u001b[1m7s\u001b[0m 8ms/step - accuracy: 0.9994 - loss: 0.0022 - val_accuracy: 0.9821 - val_loss: 0.2082\n",
            "Epoch 110/150\n",
            "\u001b[1m938/938\u001b[0m \u001b[32m━━━━━━━━━━━━━━━━━━━━\u001b[0m\u001b[37m\u001b[0m \u001b[1m6s\u001b[0m 6ms/step - accuracy: 0.9993 - loss: 0.0031 - val_accuracy: 0.9856 - val_loss: 0.1719\n",
            "Epoch 111/150\n",
            "\u001b[1m938/938\u001b[0m \u001b[32m━━━━━━━━━━━━━━━━━━━━\u001b[0m\u001b[37m\u001b[0m \u001b[1m7s\u001b[0m 8ms/step - accuracy: 0.9992 - loss: 0.0039 - val_accuracy: 0.9824 - val_loss: 0.1797\n",
            "Epoch 112/150\n",
            "\u001b[1m938/938\u001b[0m \u001b[32m━━━━━━━━━━━━━━━━━━━━\u001b[0m\u001b[37m\u001b[0m \u001b[1m6s\u001b[0m 6ms/step - accuracy: 0.9994 - loss: 0.0020 - val_accuracy: 0.9833 - val_loss: 0.1669\n",
            "Epoch 113/150\n",
            "\u001b[1m938/938\u001b[0m \u001b[32m━━━━━━━━━━━━━━━━━━━━\u001b[0m\u001b[37m\u001b[0m \u001b[1m10s\u001b[0m 6ms/step - accuracy: 0.9998 - loss: 5.7007e-04 - val_accuracy: 0.9847 - val_loss: 0.1560\n",
            "Epoch 114/150\n",
            "\u001b[1m938/938\u001b[0m \u001b[32m━━━━━━━━━━━━━━━━━━━━\u001b[0m\u001b[37m\u001b[0m \u001b[1m10s\u001b[0m 7ms/step - accuracy: 0.9998 - loss: 7.7078e-04 - val_accuracy: 0.9819 - val_loss: 0.1921\n",
            "Epoch 115/150\n",
            "\u001b[1m938/938\u001b[0m \u001b[32m━━━━━━━━━━━━━━━━━━━━\u001b[0m\u001b[37m\u001b[0m \u001b[1m7s\u001b[0m 7ms/step - accuracy: 0.9989 - loss: 0.0047 - val_accuracy: 0.9839 - val_loss: 0.1519\n",
            "Epoch 116/150\n",
            "\u001b[1m938/938\u001b[0m \u001b[32m━━━━━━━━━━━━━━━━━━━━\u001b[0m\u001b[37m\u001b[0m \u001b[1m9s\u001b[0m 6ms/step - accuracy: 0.9997 - loss: 0.0018 - val_accuracy: 0.9831 - val_loss: 0.1734\n",
            "Epoch 117/150\n",
            "\u001b[1m938/938\u001b[0m \u001b[32m━━━━━━━━━━━━━━━━━━━━\u001b[0m\u001b[37m\u001b[0m \u001b[1m7s\u001b[0m 8ms/step - accuracy: 0.9995 - loss: 0.0023 - val_accuracy: 0.9821 - val_loss: 0.1584\n",
            "Epoch 118/150\n",
            "\u001b[1m938/938\u001b[0m \u001b[32m━━━━━━━━━━━━━━━━━━━━\u001b[0m\u001b[37m\u001b[0m \u001b[1m10s\u001b[0m 8ms/step - accuracy: 0.9991 - loss: 0.0049 - val_accuracy: 0.9848 - val_loss: 0.1523\n",
            "Epoch 119/150\n",
            "\u001b[1m938/938\u001b[0m \u001b[32m━━━━━━━━━━━━━━━━━━━━\u001b[0m\u001b[37m\u001b[0m \u001b[1m9s\u001b[0m 6ms/step - accuracy: 0.9994 - loss: 0.0024 - val_accuracy: 0.9844 - val_loss: 0.1478\n",
            "Epoch 120/150\n",
            "\u001b[1m938/938\u001b[0m \u001b[32m━━━━━━━━━━━━━━━━━━━━\u001b[0m\u001b[37m\u001b[0m \u001b[1m10s\u001b[0m 6ms/step - accuracy: 0.9999 - loss: 4.4544e-04 - val_accuracy: 0.9840 - val_loss: 0.1722\n",
            "Epoch 121/150\n",
            "\u001b[1m938/938\u001b[0m \u001b[32m━━━━━━━━━━━━━━━━━━━━\u001b[0m\u001b[37m\u001b[0m \u001b[1m7s\u001b[0m 8ms/step - accuracy: 0.9999 - loss: 8.2364e-04 - val_accuracy: 0.9813 - val_loss: 0.2033\n",
            "Epoch 122/150\n",
            "\u001b[1m938/938\u001b[0m \u001b[32m━━━━━━━━━━━━━━━━━━━━\u001b[0m\u001b[37m\u001b[0m \u001b[1m6s\u001b[0m 6ms/step - accuracy: 0.9987 - loss: 0.0058 - val_accuracy: 0.9830 - val_loss: 0.1738\n",
            "Epoch 123/150\n",
            "\u001b[1m938/938\u001b[0m \u001b[32m━━━━━━━━━━━━━━━━━━━━\u001b[0m\u001b[37m\u001b[0m \u001b[1m7s\u001b[0m 8ms/step - accuracy: 0.9997 - loss: 0.0016 - val_accuracy: 0.9828 - val_loss: 0.1998\n",
            "Epoch 124/150\n",
            "\u001b[1m938/938\u001b[0m \u001b[32m━━━━━━━━━━━━━━━━━━━━\u001b[0m\u001b[37m\u001b[0m \u001b[1m10s\u001b[0m 7ms/step - accuracy: 0.9994 - loss: 0.0014 - val_accuracy: 0.9846 - val_loss: 0.1755\n",
            "Epoch 125/150\n",
            "\u001b[1m938/938\u001b[0m \u001b[32m━━━━━━━━━━━━━━━━━━━━\u001b[0m\u001b[37m\u001b[0m \u001b[1m6s\u001b[0m 6ms/step - accuracy: 0.9999 - loss: 3.6889e-04 - val_accuracy: 0.9836 - val_loss: 0.2078\n",
            "Epoch 126/150\n",
            "\u001b[1m938/938\u001b[0m \u001b[32m━━━━━━━━━━━━━━━━━━━━\u001b[0m\u001b[37m\u001b[0m \u001b[1m10s\u001b[0m 6ms/step - accuracy: 0.9988 - loss: 0.0053 - val_accuracy: 0.9835 - val_loss: 0.1669\n",
            "Epoch 127/150\n",
            "\u001b[1m938/938\u001b[0m \u001b[32m━━━━━━━━━━━━━━━━━━━━\u001b[0m\u001b[37m\u001b[0m \u001b[1m7s\u001b[0m 7ms/step - accuracy: 0.9998 - loss: 7.3469e-04 - val_accuracy: 0.9835 - val_loss: 0.2023\n",
            "Epoch 128/150\n",
            "\u001b[1m938/938\u001b[0m \u001b[32m━━━━━━━━━━━━━━━━━━━━\u001b[0m\u001b[37m\u001b[0m \u001b[1m6s\u001b[0m 6ms/step - accuracy: 0.9996 - loss: 0.0029 - val_accuracy: 0.9838 - val_loss: 0.1908\n",
            "Epoch 129/150\n",
            "\u001b[1m938/938\u001b[0m \u001b[32m━━━━━━━━━━━━━━━━━━━━\u001b[0m\u001b[37m\u001b[0m \u001b[1m7s\u001b[0m 7ms/step - accuracy: 0.9998 - loss: 8.5840e-04 - val_accuracy: 0.9814 - val_loss: 0.2209\n",
            "Epoch 130/150\n",
            "\u001b[1m938/938\u001b[0m \u001b[32m━━━━━━━━━━━━━━━━━━━━\u001b[0m\u001b[37m\u001b[0m \u001b[1m6s\u001b[0m 7ms/step - accuracy: 0.9990 - loss: 0.0063 - val_accuracy: 0.9825 - val_loss: 0.1927\n",
            "Epoch 131/150\n",
            "\u001b[1m938/938\u001b[0m \u001b[32m━━━━━━━━━━━━━━━━━━━━\u001b[0m\u001b[37m\u001b[0m \u001b[1m11s\u001b[0m 7ms/step - accuracy: 0.9994 - loss: 0.0041 - val_accuracy: 0.9831 - val_loss: 0.1690\n",
            "Epoch 132/150\n",
            "\u001b[1m938/938\u001b[0m \u001b[32m━━━━━━━━━━━━━━━━━━━━\u001b[0m\u001b[37m\u001b[0m \u001b[1m7s\u001b[0m 8ms/step - accuracy: 0.9998 - loss: 5.1182e-04 - val_accuracy: 0.9831 - val_loss: 0.1856\n",
            "Epoch 133/150\n",
            "\u001b[1m938/938\u001b[0m \u001b[32m━━━━━━━━━━━━━━━━━━━━\u001b[0m\u001b[37m\u001b[0m \u001b[1m6s\u001b[0m 7ms/step - accuracy: 0.9994 - loss: 0.0033 - val_accuracy: 0.9841 - val_loss: 0.1505\n",
            "Epoch 134/150\n",
            "\u001b[1m938/938\u001b[0m \u001b[32m━━━━━━━━━━━━━━━━━━━━\u001b[0m\u001b[37m\u001b[0m \u001b[1m7s\u001b[0m 8ms/step - accuracy: 0.9998 - loss: 6.5971e-04 - val_accuracy: 0.9825 - val_loss: 0.1656\n",
            "Epoch 135/150\n",
            "\u001b[1m938/938\u001b[0m \u001b[32m━━━━━━━━━━━━━━━━━━━━\u001b[0m\u001b[37m\u001b[0m \u001b[1m6s\u001b[0m 6ms/step - accuracy: 0.9989 - loss: 0.0051 - val_accuracy: 0.9843 - val_loss: 0.1689\n",
            "Epoch 136/150\n",
            "\u001b[1m938/938\u001b[0m \u001b[32m━━━━━━━━━━━━━━━━━━━━\u001b[0m\u001b[37m\u001b[0m \u001b[1m11s\u001b[0m 7ms/step - accuracy: 0.9998 - loss: 0.0013 - val_accuracy: 0.9836 - val_loss: 0.1772\n",
            "Epoch 137/150\n",
            "\u001b[1m938/938\u001b[0m \u001b[32m━━━━━━━━━━━━━━━━━━━━\u001b[0m\u001b[37m\u001b[0m \u001b[1m7s\u001b[0m 8ms/step - accuracy: 0.9994 - loss: 0.0027 - val_accuracy: 0.9841 - val_loss: 0.1723\n",
            "Epoch 138/150\n",
            "\u001b[1m938/938\u001b[0m \u001b[32m━━━━━━━━━━━━━━━━━━━━\u001b[0m\u001b[37m\u001b[0m \u001b[1m9s\u001b[0m 7ms/step - accuracy: 0.9993 - loss: 0.0046 - val_accuracy: 0.9851 - val_loss: 0.1681\n",
            "Epoch 139/150\n",
            "\u001b[1m938/938\u001b[0m \u001b[32m━━━━━━━━━━━━━━━━━━━━\u001b[0m\u001b[37m\u001b[0m \u001b[1m7s\u001b[0m 8ms/step - accuracy: 0.9998 - loss: 4.7615e-04 - val_accuracy: 0.9830 - val_loss: 0.2168\n",
            "Epoch 140/150\n",
            "\u001b[1m938/938\u001b[0m \u001b[32m━━━━━━━━━━━━━━━━━━━━\u001b[0m\u001b[37m\u001b[0m \u001b[1m6s\u001b[0m 7ms/step - accuracy: 0.9991 - loss: 0.0038 - val_accuracy: 0.9828 - val_loss: 0.2362\n",
            "Epoch 141/150\n",
            "\u001b[1m938/938\u001b[0m \u001b[32m━━━━━━━━━━━━━━━━━━━━\u001b[0m\u001b[37m\u001b[0m \u001b[1m10s\u001b[0m 7ms/step - accuracy: 0.9998 - loss: 5.0975e-04 - val_accuracy: 0.9845 - val_loss: 0.2412\n",
            "Epoch 142/150\n",
            "\u001b[1m938/938\u001b[0m \u001b[32m━━━━━━━━━━━━━━━━━━━━\u001b[0m\u001b[37m\u001b[0m \u001b[1m7s\u001b[0m 8ms/step - accuracy: 1.0000 - loss: 2.5323e-05 - val_accuracy: 0.9845 - val_loss: 0.2399\n",
            "Epoch 143/150\n",
            "\u001b[1m938/938\u001b[0m \u001b[32m━━━━━━━━━━━━━━━━━━━━\u001b[0m\u001b[37m\u001b[0m \u001b[1m6s\u001b[0m 7ms/step - accuracy: 1.0000 - loss: 3.7603e-06 - val_accuracy: 0.9845 - val_loss: 0.2415\n",
            "Epoch 144/150\n",
            "\u001b[1m938/938\u001b[0m \u001b[32m━━━━━━━━━━━━━━━━━━━━\u001b[0m\u001b[37m\u001b[0m \u001b[1m7s\u001b[0m 8ms/step - accuracy: 1.0000 - loss: 1.8843e-06 - val_accuracy: 0.9846 - val_loss: 0.2429\n",
            "Epoch 145/150\n",
            "\u001b[1m938/938\u001b[0m \u001b[32m━━━━━━━━━━━━━━━━━━━━\u001b[0m\u001b[37m\u001b[0m \u001b[1m10s\u001b[0m 8ms/step - accuracy: 1.0000 - loss: 7.9922e-07 - val_accuracy: 0.9848 - val_loss: 0.2444\n",
            "Epoch 146/150\n",
            "\u001b[1m938/938\u001b[0m \u001b[32m━━━━━━━━━━━━━━━━━━━━\u001b[0m\u001b[37m\u001b[0m \u001b[1m6s\u001b[0m 6ms/step - accuracy: 1.0000 - loss: 6.1349e-07 - val_accuracy: 0.9848 - val_loss: 0.2468\n",
            "Epoch 147/150\n",
            "\u001b[1m938/938\u001b[0m \u001b[32m━━━━━━━━━━━━━━━━━━━━\u001b[0m\u001b[37m\u001b[0m \u001b[1m10s\u001b[0m 7ms/step - accuracy: 1.0000 - loss: 3.5158e-07 - val_accuracy: 0.9848 - val_loss: 0.2490\n",
            "Epoch 148/150\n",
            "\u001b[1m938/938\u001b[0m \u001b[32m━━━━━━━━━━━━━━━━━━━━\u001b[0m\u001b[37m\u001b[0m \u001b[1m7s\u001b[0m 8ms/step - accuracy: 1.0000 - loss: 1.8758e-07 - val_accuracy: 0.9851 - val_loss: 0.2512\n",
            "Epoch 149/150\n",
            "\u001b[1m938/938\u001b[0m \u001b[32m━━━━━━━━━━━━━━━━━━━━\u001b[0m\u001b[37m\u001b[0m \u001b[1m6s\u001b[0m 6ms/step - accuracy: 1.0000 - loss: 1.4194e-07 - val_accuracy: 0.9852 - val_loss: 0.2536\n",
            "Epoch 150/150\n",
            "\u001b[1m938/938\u001b[0m \u001b[32m━━━━━━━━━━━━━━━━━━━━\u001b[0m\u001b[37m\u001b[0m \u001b[1m11s\u001b[0m 7ms/step - accuracy: 1.0000 - loss: 9.3703e-08 - val_accuracy: 0.9852 - val_loss: 0.2565\n",
            "\u001b[1m313/313\u001b[0m \u001b[32m━━━━━━━━━━━━━━━━━━━━\u001b[0m\u001b[37m\u001b[0m \u001b[1m1s\u001b[0m 4ms/step - accuracy: 0.9808 - loss: 0.3473\n"
          ]
        },
        {
          "output_type": "stream",
          "name": "stderr",
          "text": [
            "WARNING:absl:You are saving your model as an HDF5 file via `model.save()` or `keras.saving.save_model(model)`. This file format is considered legacy. We recommend using instead the native Keras format, e.g. `model.save('my_model.keras')` or `keras.saving.save_model(model, 'my_model.keras')`. \n"
          ]
        },
        {
          "output_type": "stream",
          "name": "stdout",
          "text": [
            "Accuracy: 98.52%\n"
          ]
        }
      ],
      "source": [
        "# mnist, check the accuracy with images of written digits (10 images)\n",
        "from keras.models import Sequential\n",
        "from keras.layers import Dense, Flatten\n",
        "from keras.datasets import mnist\n",
        "from keras.utils import to_categorical\n",
        "(x_train, y_train), (x_test, y_test) = mnist.load_data()\n",
        "x_train = x_train.reshape(60000, 784).astype(\"float32\") / 255\n",
        "x_test = x_test.reshape(10000, 784).astype(\"float32\") / 255\n",
        "y_train = to_categorical(y_train)\n",
        "y_test = to_categorical(y_test)\n",
        "model = Sequential([\n",
        "        Dense(256, activation='relu', input_shape=(784,)),\n",
        "        Dense(128, activation='relu'),\n",
        "        Dense(64, activation='relu'),\n",
        "        Dense(32, activation='relu'),\n",
        "        Dense(10, activation='softmax')])\n",
        "model.compile(optimizer='adam', loss='categorical_crossentropy', metrics=['accuracy'])\n",
        "model.fit(x_train, y_train, epochs=150, batch_size=64, validation_data=(x_test, y_test))\n",
        "loss, acc = model.evaluate(x_test, y_test)\n",
        "print(f\"Accuracy: {acc*100:.2f}%\")\n",
        "model.save(\"/content/mnist_model.h5\")\n"
      ]
    },
    {
      "cell_type": "code",
      "source": [
        "import numpy as np\n",
        "import matplotlib.pyplot as plt\n",
        "from keras.models import load_model\n",
        "import cv2\n",
        "model = load_model(\"/content/mnist_model (1).h5\")\n",
        "def preprocess_image(image_path):\n",
        "    img = cv2.imread(image_path, cv2.IMREAD_GRAYSCALE)\n",
        "    img = cv2.resize(img, (28, 28))\n",
        "    if np.mean(img) > 128:\n",
        "        img = cv2.bitwise_not(img)\n",
        "    _, img = cv2.threshold(img, 128, 255, cv2.THRESH_BINARY)\n",
        "    img = img.astype(\"float32\") / 255.0\n",
        "    img = img.reshape(1, 28 * 28)\n",
        "    return img\n",
        "def predict_digit(image_path):\n",
        "    processed_img = preprocess_image(image_path)\n",
        "    prediction = model.predict(processed_img)[0]\n",
        "    predicted_digit = np.argmax(prediction)\n",
        "    return predicted_digit\n",
        "image_paths = [\"0.jpg\", \"1.jpg\", \"2.jpg\", \"3.jpg\", \"4.jpg\", \"5.jpg\", \"6.jpg\", \"7.jpg\", \"8.jpg\", \"9.jpg\"]\n",
        "\n",
        "for path in image_paths:\n",
        "    print(f\"\\nẢnh: {path}\")\n",
        "    predicted_digit = predict_digit(path)\n",
        "    print(f\"Số tiên đoán: {predicted_digit}\")\n",
        "\n",
        "    img = cv2.imread(path, cv2.IMREAD_GRAYSCALE)\n",
        "    plt.figure(figsize=(2, 2))\n",
        "    plt.imshow(img, cmap=\"gray\")\n",
        "    plt.show()\n"
      ],
      "metadata": {
        "colab": {
          "base_uri": "https://localhost:8080/",
          "height": 1000
        },
        "id": "4X7an-HlR2vz",
        "outputId": "1eb15cff-92bf-4aff-c0e2-97e69a02c6cc"
      },
      "execution_count": null,
      "outputs": [
        {
          "output_type": "stream",
          "name": "stderr",
          "text": [
            "WARNING:absl:Compiled the loaded model, but the compiled metrics have yet to be built. `model.compile_metrics` will be empty until you train or evaluate the model.\n"
          ]
        },
        {
          "output_type": "stream",
          "name": "stdout",
          "text": [
            "\n",
            "Ảnh: 0.jpg\n",
            "\u001b[1m1/1\u001b[0m \u001b[32m━━━━━━━━━━━━━━━━━━━━\u001b[0m\u001b[37m\u001b[0m \u001b[1m0s\u001b[0m 122ms/step\n",
            "Số tiên đoán: 0\n"
          ]
        },
        {
          "output_type": "display_data",
          "data": {
            "text/plain": [
              "<Figure size 200x200 with 1 Axes>"
            ],
            "image/png": "[encoded data removed]"
          },
          "metadata": {}
        },
        {
          "output_type": "stream",
          "name": "stdout",
          "text": [
            "\n",
            "Ảnh: 1.jpg\n",
            "\u001b[1m1/1\u001b[0m \u001b[32m━━━━━━━━━━━━━━━━━━━━\u001b[0m\u001b[37m\u001b[0m \u001b[1m0s\u001b[0m 68ms/step\n",
            "Số tiên đoán: 1\n"
          ]
        },
        {
          "output_type": "display_data",
          "data": {
            "text/plain": [
              "<Figure size 200x200 with 1 Axes>"
            ],
            "image/png": "[encoded data removed]"
          },
          "metadata": {}
        },
        {
          "output_type": "stream",
          "name": "stdout",
          "text": [
            "\n",
            "Ảnh: 2.jpg\n",
            "\u001b[1m1/1\u001b[0m \u001b[32m━━━━━━━━━━━━━━━━━━━━\u001b[0m\u001b[37m\u001b[0m \u001b[1m0s\u001b[0m 56ms/step\n",
            "Số tiên đoán: 2\n"
          ]
        },
        {
          "output_type": "display_data",
          "data": {
            "text/plain": [
              "<Figure size 200x200 with 1 Axes>"
            ],
            "image/png": "[encoded data removed]"
          },
          "metadata": {}
        },
        {
          "output_type": "stream",
          "name": "stdout",
          "text": [
            "\n",
            "Ảnh: 3.jpg\n",
            "\u001b[1m1/1\u001b[0m \u001b[32m━━━━━━━━━━━━━━━━━━━━\u001b[0m\u001b[37m\u001b[0m \u001b[1m0s\u001b[0m 52ms/step\n",
            "Số tiên đoán: 3\n"
          ]
        },
        {
          "output_type": "display_data",
          "data": {
            "text/plain": [
              "<Figure size 200x200 with 1 Axes>"
            ],
            "image/png": "[encoded data removed]"
          },
          "metadata": {}
        },
        {
          "output_type": "stream",
          "name": "stdout",
          "text": [
            "\n",
            "Ảnh: 4.jpg\n",
            "\u001b[1m1/1\u001b[0m \u001b[32m━━━━━━━━━━━━━━━━━━━━\u001b[0m\u001b[37m\u001b[0m \u001b[1m0s\u001b[0m 50ms/step\n",
            "Số tiên đoán: 4\n"
          ]
        },
        {
          "output_type": "display_data",
          "data": {
            "text/plain": [
              "<Figure size 200x200 with 1 Axes>"
            ],
            "image/png": "[encoded data removed]"
          },
          "metadata": {}
        },
        {
          "output_type": "stream",
          "name": "stdout",
          "text": [
            "\n",
            "Ảnh: 5.jpg\n",
            "\u001b[1m1/1\u001b[0m \u001b[32m━━━━━━━━━━━━━━━━━━━━\u001b[0m\u001b[37m\u001b[0m \u001b[1m0s\u001b[0m 52ms/step\n",
            "Số tiên đoán: 5\n"
          ]
        },
        {
          "output_type": "display_data",
          "data": {
            "text/plain": [
              "<Figure size 200x200 with 1 Axes>"
            ],
            "image/png": "[encoded data removed]"
          },
          "metadata": {}
        },
        {
          "output_type": "stream",
          "name": "stdout",
          "text": [
            "\n",
            "Ảnh: 6.jpg\n",
            "\u001b[1m1/1\u001b[0m \u001b[32m━━━━━━━━━━━━━━━━━━━━\u001b[0m\u001b[37m\u001b[0m \u001b[1m0s\u001b[0m 50ms/step\n",
            "Số tiên đoán: 6\n"
          ]
        },
        {
          "output_type": "display_data",
          "data": {
            "text/plain": [
              "<Figure size 200x200 with 1 Axes>"
            ],
            "image/png": "[encoded data removed]"
          },
          "metadata": {}
        },
        {
          "output_type": "stream",
          "name": "stdout",
          "text": [
            "\n",
            "Ảnh: 7.jpg\n",
            "\u001b[1m1/1\u001b[0m \u001b[32m━━━━━━━━━━━━━━━━━━━━\u001b[0m\u001b[37m\u001b[0m \u001b[1m0s\u001b[0m 53ms/step\n",
            "Số tiên đoán: 7\n"
          ]
        },
        {
          "output_type": "display_data",
          "data": {
            "text/plain": [
              "<Figure size 200x200 with 1 Axes>"
            ],
            "image/png": "[encoded data removed]"
          },
          "metadata": {}
        },
        {
          "output_type": "stream",
          "name": "stdout",
          "text": [
            "\n",
            "Ảnh: 8.jpg\n",
            "\u001b[1m1/1\u001b[0m \u001b[32m━━━━━━━━━━━━━━━━━━━━\u001b[0m\u001b[37m\u001b[0m \u001b[1m0s\u001b[0m 52ms/step\n",
            "Số tiên đoán: 8\n"
          ]
        },
        {
          "output_type": "display_data",
          "data": {
            "text/plain": [
              "<Figure size 200x200 with 1 Axes>"
            ],
            "image/png": "[encoded data removed]"
          },
          "metadata": {}
        },
        {
          "output_type": "stream",
          "name": "stdout",
          "text": [
            "\n",
            "Ảnh: 9.jpg\n",
            "\u001b[1m1/1\u001b[0m \u001b[32m━━━━━━━━━━━━━━━━━━━━\u001b[0m\u001b[37m\u001b[0m \u001b[1m0s\u001b[0m 52ms/step\n",
            "Số tiên đoán: 9\n"
          ]
        },
        {
          "output_type": "display_data",
          "data": {
            "text/plain": [
              "<Figure size 200x200 with 1 Axes>"
            ],
            "image/png": "[encoded data removed]"
          },
          "metadata": {}
        }
      ]
    },
    {
      "cell_type": "code",
      "source": [
        "# fashion mnist, applying to cloth images (10 images)\n",
        "from keras.models import Sequential\n",
        "from keras.layers import Dense, Flatten\n",
        "from keras.datasets import fashion_mnist\n",
        "from keras.utils import to_categorical\n",
        "(x_train, y_train), (x_test, y_test) = fashion_mnist.load_data()\n",
        "x_train = x_train.reshape(60000, 784).astype(\"float32\") / 255\n",
        "x_test = x_test.reshape(10000, 784).astype(\"float32\") / 255\n",
        "y_train = to_categorical(y_train, 10)\n",
        "y_test = to_categorical(y_test, 10)\n",
        "model = Sequential([\n",
        "    Dense(256, activation='relu', input_shape=(784,)),\n",
        "    Dense(128, activation='relu'),\n",
        "    Dense(64, activation='relu'),\n",
        "    Dense(32, activation='relu'),\n",
        "    Dense(10, activation='softmax')])\n",
        "\n",
        "model.compile(optimizer='adam', loss='categorical_crossentropy', metrics=['accuracy'])\n",
        "model.fit(x_train, y_train, epochs=150, batch_size=128, validation_data=(x_test, y_test))\n",
        "loss, acc = model.evaluate(x_test, y_test)\n",
        "print(f\" Accuracy trên tập kiểm tra: {acc*100:.2f}%\")\n",
        "model.save(\"/content/fashion_mnist_model.h5\")\n",
        "\n"
      ],
      "metadata": {
        "colab": {
          "base_uri": "https://localhost:8080/"
        },
        "id": "GRqHeVQGJGqD",
        "outputId": "4138368d-e20f-408f-b44e-98e85a223411"
      },
      "execution_count": null,
      "outputs": [
        {
          "output_type": "stream",
          "name": "stdout",
          "text": [
            "Epoch 1/150\n",
            "\u001b[1m469/469\u001b[0m \u001b[32m━━━━━━━━━━━━━━━━━━━━\u001b[0m\u001b[37m\u001b[0m \u001b[1m7s\u001b[0m 9ms/step - accuracy: 0.7279 - loss: 0.7616 - val_accuracy: 0.8404 - val_loss: 0.4575\n",
            "Epoch 2/150\n",
            "\u001b[1m469/469\u001b[0m \u001b[32m━━━━━━━━━━━━━━━━━━━━\u001b[0m\u001b[37m\u001b[0m \u001b[1m5s\u001b[0m 8ms/step - accuracy: 0.8563 - loss: 0.3950 - val_accuracy: 0.8601 - val_loss: 0.3822\n",
            "Epoch 3/150\n",
            "\u001b[1m469/469\u001b[0m \u001b[32m━━━━━━━━━━━━━━━━━━━━\u001b[0m\u001b[37m\u001b[0m \u001b[1m5s\u001b[0m 11ms/step - accuracy: 0.8755 - loss: 0.3395 - val_accuracy: 0.8500 - val_loss: 0.4125\n",
            "Epoch 4/150\n",
            "\u001b[1m469/469\u001b[0m \u001b[32m━━━━━━━━━━━━━━━━━━━━\u001b[0m\u001b[37m\u001b[0m \u001b[1m4s\u001b[0m 8ms/step - accuracy: 0.8827 - loss: 0.3173 - val_accuracy: 0.8713 - val_loss: 0.3539\n",
            "Epoch 5/150\n",
            "\u001b[1m469/469\u001b[0m \u001b[32m━━━━━━━━━━━━━━━━━━━━\u001b[0m\u001b[37m\u001b[0m \u001b[1m4s\u001b[0m 8ms/step - accuracy: 0.8880 - loss: 0.3006 - val_accuracy: 0.8820 - val_loss: 0.3340\n",
            "Epoch 6/150\n",
            "\u001b[1m469/469\u001b[0m \u001b[32m━━━━━━━━━━━━━━━━━━━━\u001b[0m\u001b[37m\u001b[0m \u001b[1m7s\u001b[0m 12ms/step - accuracy: 0.8959 - loss: 0.2809 - val_accuracy: 0.8788 - val_loss: 0.3420\n",
            "Epoch 7/150\n",
            "\u001b[1m469/469\u001b[0m \u001b[32m━━━━━━━━━━━━━━━━━━━━\u001b[0m\u001b[37m\u001b[0m \u001b[1m4s\u001b[0m 8ms/step - accuracy: 0.9022 - loss: 0.2627 - val_accuracy: 0.8704 - val_loss: 0.3601\n",
            "Epoch 8/150\n",
            "\u001b[1m469/469\u001b[0m \u001b[32m━━━━━━━━━━━━━━━━━━━━\u001b[0m\u001b[37m\u001b[0m \u001b[1m6s\u001b[0m 11ms/step - accuracy: 0.9015 - loss: 0.2602 - val_accuracy: 0.8842 - val_loss: 0.3262\n",
            "Epoch 9/150\n",
            "\u001b[1m469/469\u001b[0m \u001b[32m━━━━━━━━━━━━━━━━━━━━\u001b[0m\u001b[37m\u001b[0m \u001b[1m4s\u001b[0m 9ms/step - accuracy: 0.9089 - loss: 0.2411 - val_accuracy: 0.8811 - val_loss: 0.3394\n",
            "Epoch 10/150\n",
            "\u001b[1m469/469\u001b[0m \u001b[32m━━━━━━━━━━━━━━━━━━━━\u001b[0m\u001b[37m\u001b[0m \u001b[1m5s\u001b[0m 8ms/step - accuracy: 0.9093 - loss: 0.2365 - val_accuracy: 0.8808 - val_loss: 0.3235\n",
            "Epoch 11/150\n",
            "\u001b[1m469/469\u001b[0m \u001b[32m━━━━━━━━━━━━━━━━━━━━\u001b[0m\u001b[37m\u001b[0m \u001b[1m6s\u001b[0m 11ms/step - accuracy: 0.9156 - loss: 0.2255 - val_accuracy: 0.8855 - val_loss: 0.3358\n",
            "Epoch 12/150\n",
            "\u001b[1m469/469\u001b[0m \u001b[32m━━━━━━━━━━━━━━━━━━━━\u001b[0m\u001b[37m\u001b[0m \u001b[1m4s\u001b[0m 8ms/step - accuracy: 0.9164 - loss: 0.2198 - val_accuracy: 0.8872 - val_loss: 0.3294\n",
            "Epoch 13/150\n",
            "\u001b[1m469/469\u001b[0m \u001b[32m━━━━━━━━━━━━━━━━━━━━\u001b[0m\u001b[37m\u001b[0m \u001b[1m6s\u001b[0m 10ms/step - accuracy: 0.9222 - loss: 0.2078 - val_accuracy: 0.8825 - val_loss: 0.3395\n",
            "Epoch 14/150\n",
            "\u001b[1m469/469\u001b[0m \u001b[32m━━━━━━━━━━━━━━━━━━━━\u001b[0m\u001b[37m\u001b[0m \u001b[1m5s\u001b[0m 9ms/step - accuracy: 0.9228 - loss: 0.2029 - val_accuracy: 0.8891 - val_loss: 0.3188\n",
            "Epoch 15/150\n",
            "\u001b[1m469/469\u001b[0m \u001b[32m━━━━━━━━━━━━━━━━━━━━\u001b[0m\u001b[37m\u001b[0m \u001b[1m5s\u001b[0m 8ms/step - accuracy: 0.9252 - loss: 0.1960 - val_accuracy: 0.8829 - val_loss: 0.3490\n",
            "Epoch 16/150\n",
            "\u001b[1m469/469\u001b[0m \u001b[32m━━━━━━━━━━━━━━━━━━━━\u001b[0m\u001b[37m\u001b[0m \u001b[1m6s\u001b[0m 11ms/step - accuracy: 0.9249 - loss: 0.1969 - val_accuracy: 0.8853 - val_loss: 0.3576\n",
            "Epoch 17/150\n",
            "\u001b[1m469/469\u001b[0m \u001b[32m━━━━━━━━━━━━━━━━━━━━\u001b[0m\u001b[37m\u001b[0m \u001b[1m10s\u001b[0m 11ms/step - accuracy: 0.9316 - loss: 0.1818 - val_accuracy: 0.8886 - val_loss: 0.3609\n",
            "Epoch 18/150\n",
            "\u001b[1m469/469\u001b[0m \u001b[32m━━━━━━━━━━━━━━━━━━━━\u001b[0m\u001b[37m\u001b[0m \u001b[1m4s\u001b[0m 9ms/step - accuracy: 0.9305 - loss: 0.1837 - val_accuracy: 0.8831 - val_loss: 0.3465\n",
            "Epoch 19/150\n",
            "\u001b[1m469/469\u001b[0m \u001b[32m━━━━━━━━━━━━━━━━━━━━\u001b[0m\u001b[37m\u001b[0m \u001b[1m5s\u001b[0m 9ms/step - accuracy: 0.9316 - loss: 0.1769 - val_accuracy: 0.8850 - val_loss: 0.3506\n",
            "Epoch 20/150\n",
            "\u001b[1m469/469\u001b[0m \u001b[32m━━━━━━━━━━━━━━━━━━━━\u001b[0m\u001b[37m\u001b[0m \u001b[1m6s\u001b[0m 13ms/step - accuracy: 0.9358 - loss: 0.1677 - val_accuracy: 0.8872 - val_loss: 0.3726\n",
            "Epoch 21/150\n",
            "\u001b[1m469/469\u001b[0m \u001b[32m━━━━━━━━━━━━━━━━━━━━\u001b[0m\u001b[37m\u001b[0m \u001b[1m8s\u001b[0m 8ms/step - accuracy: 0.9392 - loss: 0.1599 - val_accuracy: 0.8924 - val_loss: 0.3515\n",
            "Epoch 22/150\n",
            "\u001b[1m469/469\u001b[0m \u001b[32m━━━━━━━━━━━━━━━━━━━━\u001b[0m\u001b[37m\u001b[0m \u001b[1m5s\u001b[0m 11ms/step - accuracy: 0.9404 - loss: 0.1574 - val_accuracy: 0.8924 - val_loss: 0.3457\n",
            "Epoch 23/150\n",
            "\u001b[1m469/469\u001b[0m \u001b[32m━━━━━━━━━━━━━━━━━━━━\u001b[0m\u001b[37m\u001b[0m \u001b[1m10s\u001b[0m 10ms/step - accuracy: 0.9406 - loss: 0.1565 - val_accuracy: 0.8918 - val_loss: 0.3671\n",
            "Epoch 24/150\n",
            "\u001b[1m469/469\u001b[0m \u001b[32m━━━━━━━━━━━━━━━━━━━━\u001b[0m\u001b[37m\u001b[0m \u001b[1m4s\u001b[0m 9ms/step - accuracy: 0.9424 - loss: 0.1520 - val_accuracy: 0.8874 - val_loss: 0.3659\n",
            "Epoch 25/150\n",
            "\u001b[1m469/469\u001b[0m \u001b[32m━━━━━━━━━━━━━━━━━━━━\u001b[0m\u001b[37m\u001b[0m \u001b[1m4s\u001b[0m 9ms/step - accuracy: 0.9437 - loss: 0.1490 - val_accuracy: 0.8936 - val_loss: 0.3760\n",
            "Epoch 26/150\n",
            "\u001b[1m469/469\u001b[0m \u001b[32m━━━━━━━━━━━━━━━━━━━━\u001b[0m\u001b[37m\u001b[0m \u001b[1m5s\u001b[0m 12ms/step - accuracy: 0.9443 - loss: 0.1406 - val_accuracy: 0.8924 - val_loss: 0.3769\n",
            "Epoch 27/150\n",
            "\u001b[1m469/469\u001b[0m \u001b[32m━━━━━━━━━━━━━━━━━━━━\u001b[0m\u001b[37m\u001b[0m \u001b[1m4s\u001b[0m 9ms/step - accuracy: 0.9483 - loss: 0.1374 - val_accuracy: 0.8919 - val_loss: 0.3877\n",
            "Epoch 28/150\n",
            "\u001b[1m469/469\u001b[0m \u001b[32m━━━━━━━━━━━━━━━━━━━━\u001b[0m\u001b[37m\u001b[0m \u001b[1m5s\u001b[0m 9ms/step - accuracy: 0.9481 - loss: 0.1347 - val_accuracy: 0.8934 - val_loss: 0.3671\n",
            "Epoch 29/150\n",
            "\u001b[1m469/469\u001b[0m \u001b[32m━━━━━━━━━━━━━━━━━━━━\u001b[0m\u001b[37m\u001b[0m \u001b[1m6s\u001b[0m 10ms/step - accuracy: 0.9525 - loss: 0.1262 - val_accuracy: 0.8904 - val_loss: 0.4051\n",
            "Epoch 30/150\n",
            "\u001b[1m469/469\u001b[0m \u001b[32m━━━━━━━━━━━━━━━━━━━━\u001b[0m\u001b[37m\u001b[0m \u001b[1m5s\u001b[0m 9ms/step - accuracy: 0.9486 - loss: 0.1330 - val_accuracy: 0.8913 - val_loss: 0.3863\n",
            "Epoch 31/150\n",
            "\u001b[1m469/469\u001b[0m \u001b[32m━━━━━━━━━━━━━━━━━━━━\u001b[0m\u001b[37m\u001b[0m \u001b[1m5s\u001b[0m 11ms/step - accuracy: 0.9539 - loss: 0.1209 - val_accuracy: 0.8914 - val_loss: 0.4074\n",
            "Epoch 32/150\n",
            "\u001b[1m469/469\u001b[0m \u001b[32m━━━━━━━━━━━━━━━━━━━━\u001b[0m\u001b[37m\u001b[0m \u001b[1m4s\u001b[0m 9ms/step - accuracy: 0.9533 - loss: 0.1226 - val_accuracy: 0.8860 - val_loss: 0.4449\n",
            "Epoch 33/150\n",
            "\u001b[1m469/469\u001b[0m \u001b[32m━━━━━━━━━━━━━━━━━━━━\u001b[0m\u001b[37m\u001b[0m \u001b[1m4s\u001b[0m 9ms/step - accuracy: 0.9532 - loss: 0.1233 - val_accuracy: 0.8955 - val_loss: 0.4255\n",
            "Epoch 34/150\n",
            "\u001b[1m469/469\u001b[0m \u001b[32m━━━━━━━━━━━━━━━━━━━━\u001b[0m\u001b[37m\u001b[0m \u001b[1m5s\u001b[0m 12ms/step - accuracy: 0.9541 - loss: 0.1184 - val_accuracy: 0.8903 - val_loss: 0.4247\n",
            "Epoch 35/150\n",
            "\u001b[1m469/469\u001b[0m \u001b[32m━━━━━━━━━━━━━━━━━━━━\u001b[0m\u001b[37m\u001b[0m \u001b[1m4s\u001b[0m 9ms/step - accuracy: 0.9595 - loss: 0.1080 - val_accuracy: 0.8937 - val_loss: 0.4347\n",
            "Epoch 36/150\n",
            "\u001b[1m469/469\u001b[0m \u001b[32m━━━━━━━━━━━━━━━━━━━━\u001b[0m\u001b[37m\u001b[0m \u001b[1m5s\u001b[0m 9ms/step - accuracy: 0.9583 - loss: 0.1099 - val_accuracy: 0.8914 - val_loss: 0.4482\n",
            "Epoch 37/150\n",
            "\u001b[1m469/469\u001b[0m \u001b[32m━━━━━━━━━━━━━━━━━━━━\u001b[0m\u001b[37m\u001b[0m \u001b[1m5s\u001b[0m 11ms/step - accuracy: 0.9575 - loss: 0.1092 - val_accuracy: 0.8957 - val_loss: 0.4341\n",
            "Epoch 38/150\n",
            "\u001b[1m469/469\u001b[0m \u001b[32m━━━━━━━━━━━━━━━━━━━━\u001b[0m\u001b[37m\u001b[0m \u001b[1m4s\u001b[0m 9ms/step - accuracy: 0.9586 - loss: 0.1048 - val_accuracy: 0.8940 - val_loss: 0.4597\n",
            "Epoch 39/150\n",
            "\u001b[1m469/469\u001b[0m \u001b[32m━━━━━━━━━━━━━━━━━━━━\u001b[0m\u001b[37m\u001b[0m \u001b[1m6s\u001b[0m 10ms/step - accuracy: 0.9620 - loss: 0.1011 - val_accuracy: 0.8894 - val_loss: 0.4821\n",
            "Epoch 40/150\n",
            "\u001b[1m469/469\u001b[0m \u001b[32m━━━━━━━━━━━━━━━━━━━━\u001b[0m\u001b[37m\u001b[0m \u001b[1m5s\u001b[0m 10ms/step - accuracy: 0.9589 - loss: 0.1057 - val_accuracy: 0.8872 - val_loss: 0.4863\n",
            "Epoch 41/150\n",
            "\u001b[1m469/469\u001b[0m \u001b[32m━━━━━━━━━━━━━━━━━━━━\u001b[0m\u001b[37m\u001b[0m \u001b[1m4s\u001b[0m 9ms/step - accuracy: 0.9636 - loss: 0.0943 - val_accuracy: 0.8934 - val_loss: 0.4651\n",
            "Epoch 42/150\n",
            "\u001b[1m469/469\u001b[0m \u001b[32m━━━━━━━━━━━━━━━━━━━━\u001b[0m\u001b[37m\u001b[0m \u001b[1m5s\u001b[0m 11ms/step - accuracy: 0.9617 - loss: 0.0965 - val_accuracy: 0.8862 - val_loss: 0.4847\n",
            "Epoch 43/150\n",
            "\u001b[1m469/469\u001b[0m \u001b[32m━━━━━━━━━━━━━━━━━━━━\u001b[0m\u001b[37m\u001b[0m \u001b[1m4s\u001b[0m 9ms/step - accuracy: 0.9637 - loss: 0.0950 - val_accuracy: 0.8946 - val_loss: 0.5002\n",
            "Epoch 44/150\n",
            "\u001b[1m469/469\u001b[0m \u001b[32m━━━━━━━━━━━━━━━━━━━━\u001b[0m\u001b[37m\u001b[0m \u001b[1m4s\u001b[0m 9ms/step - accuracy: 0.9671 - loss: 0.0861 - val_accuracy: 0.8953 - val_loss: 0.4988\n",
            "Epoch 45/150\n",
            "\u001b[1m469/469\u001b[0m \u001b[32m━━━━━━━━━━━━━━━━━━━━\u001b[0m\u001b[37m\u001b[0m \u001b[1m6s\u001b[0m 12ms/step - accuracy: 0.9668 - loss: 0.0867 - val_accuracy: 0.8923 - val_loss: 0.5064\n",
            "Epoch 46/150\n",
            "\u001b[1m469/469\u001b[0m \u001b[32m━━━━━━━━━━━━━━━━━━━━\u001b[0m\u001b[37m\u001b[0m \u001b[1m9s\u001b[0m 9ms/step - accuracy: 0.9655 - loss: 0.0901 - val_accuracy: 0.8958 - val_loss: 0.5052\n",
            "Epoch 47/150\n",
            "\u001b[1m469/469\u001b[0m \u001b[32m━━━━━━━━━━━━━━━━━━━━\u001b[0m\u001b[37m\u001b[0m \u001b[1m5s\u001b[0m 11ms/step - accuracy: 0.9660 - loss: 0.0881 - val_accuracy: 0.8923 - val_loss: 0.5101\n",
            "Epoch 48/150\n",
            "\u001b[1m469/469\u001b[0m \u001b[32m━━━━━━━━━━━━━━━━━━━━\u001b[0m\u001b[37m\u001b[0m \u001b[1m10s\u001b[0m 10ms/step - accuracy: 0.9668 - loss: 0.0855 - val_accuracy: 0.8904 - val_loss: 0.5186\n",
            "Epoch 49/150\n",
            "\u001b[1m469/469\u001b[0m \u001b[32m━━━━━━━━━━━━━━━━━━━━\u001b[0m\u001b[37m\u001b[0m \u001b[1m5s\u001b[0m 10ms/step - accuracy: 0.9697 - loss: 0.0796 - val_accuracy: 0.8968 - val_loss: 0.5330\n",
            "Epoch 50/150\n",
            "\u001b[1m469/469\u001b[0m \u001b[32m━━━━━━━━━━━━━━━━━━━━\u001b[0m\u001b[37m\u001b[0m \u001b[1m4s\u001b[0m 9ms/step - accuracy: 0.9688 - loss: 0.0791 - val_accuracy: 0.8911 - val_loss: 0.5909\n",
            "Epoch 51/150\n",
            "\u001b[1m469/469\u001b[0m \u001b[32m━━━━━━━━━━━━━━━━━━━━\u001b[0m\u001b[37m\u001b[0m \u001b[1m6s\u001b[0m 11ms/step - accuracy: 0.9665 - loss: 0.0880 - val_accuracy: 0.8947 - val_loss: 0.5130\n",
            "Epoch 52/150\n",
            "\u001b[1m469/469\u001b[0m \u001b[32m━━━━━━━━━━━━━━━━━━━━\u001b[0m\u001b[37m\u001b[0m \u001b[1m4s\u001b[0m 9ms/step - accuracy: 0.9723 - loss: 0.0723 - val_accuracy: 0.8954 - val_loss: 0.5620\n",
            "Epoch 53/150\n",
            "\u001b[1m469/469\u001b[0m \u001b[32m━━━━━━━━━━━━━━━━━━━━\u001b[0m\u001b[37m\u001b[0m \u001b[1m5s\u001b[0m 9ms/step - accuracy: 0.9723 - loss: 0.0721 - val_accuracy: 0.8920 - val_loss: 0.5635\n",
            "Epoch 54/150\n",
            "\u001b[1m469/469\u001b[0m \u001b[32m━━━━━━━━━━━━━━━━━━━━\u001b[0m\u001b[37m\u001b[0m \u001b[1m5s\u001b[0m 10ms/step - accuracy: 0.9744 - loss: 0.0693 - val_accuracy: 0.8913 - val_loss: 0.6352\n",
            "Epoch 55/150\n",
            "\u001b[1m469/469\u001b[0m \u001b[32m━━━━━━━━━━━━━━━━━━━━\u001b[0m\u001b[37m\u001b[0m \u001b[1m4s\u001b[0m 9ms/step - accuracy: 0.9709 - loss: 0.0755 - val_accuracy: 0.8936 - val_loss: 0.5656\n",
            "Epoch 56/150\n",
            "\u001b[1m469/469\u001b[0m \u001b[32m━━━━━━━━━━━━━━━━━━━━\u001b[0m\u001b[37m\u001b[0m \u001b[1m5s\u001b[0m 11ms/step - accuracy: 0.9708 - loss: 0.0762 - val_accuracy: 0.8921 - val_loss: 0.5466\n",
            "Epoch 57/150\n",
            "\u001b[1m469/469\u001b[0m \u001b[32m━━━━━━━━━━━━━━━━━━━━\u001b[0m\u001b[37m\u001b[0m \u001b[1m4s\u001b[0m 9ms/step - accuracy: 0.9741 - loss: 0.0684 - val_accuracy: 0.8933 - val_loss: 0.5675\n",
            "Epoch 58/150\n",
            "\u001b[1m469/469\u001b[0m \u001b[32m━━━━━━━━━━━━━━━━━━━━\u001b[0m\u001b[37m\u001b[0m \u001b[1m4s\u001b[0m 9ms/step - accuracy: 0.9737 - loss: 0.0690 - val_accuracy: 0.8924 - val_loss: 0.5742\n",
            "Epoch 59/150\n",
            "\u001b[1m469/469\u001b[0m \u001b[32m━━━━━━━━━━━━━━━━━━━━\u001b[0m\u001b[37m\u001b[0m \u001b[1m6s\u001b[0m 11ms/step - accuracy: 0.9745 - loss: 0.0663 - val_accuracy: 0.8981 - val_loss: 0.5689\n",
            "Epoch 60/150\n",
            "\u001b[1m469/469\u001b[0m \u001b[32m━━━━━━━━━━━━━━━━━━━━\u001b[0m\u001b[37m\u001b[0m \u001b[1m4s\u001b[0m 9ms/step - accuracy: 0.9767 - loss: 0.0623 - val_accuracy: 0.8944 - val_loss: 0.6297\n",
            "Epoch 61/150\n",
            "\u001b[1m469/469\u001b[0m \u001b[32m━━━━━━━━━━━━━━━━━━━━\u001b[0m\u001b[37m\u001b[0m \u001b[1m4s\u001b[0m 9ms/step - accuracy: 0.9783 - loss: 0.0591 - val_accuracy: 0.8944 - val_loss: 0.6103\n",
            "Epoch 62/150\n",
            "\u001b[1m469/469\u001b[0m \u001b[32m━━━━━━━━━━━━━━━━━━━━\u001b[0m\u001b[37m\u001b[0m \u001b[1m5s\u001b[0m 11ms/step - accuracy: 0.9755 - loss: 0.0640 - val_accuracy: 0.8924 - val_loss: 0.5758\n",
            "Epoch 63/150\n",
            "\u001b[1m469/469\u001b[0m \u001b[32m━━━━━━━━━━━━━━━━━━━━\u001b[0m\u001b[37m\u001b[0m \u001b[1m4s\u001b[0m 9ms/step - accuracy: 0.9756 - loss: 0.0667 - val_accuracy: 0.8897 - val_loss: 0.6116\n",
            "Epoch 64/150\n",
            "\u001b[1m469/469\u001b[0m \u001b[32m━━━━━━━━━━━━━━━━━━━━\u001b[0m\u001b[37m\u001b[0m \u001b[1m6s\u001b[0m 10ms/step - accuracy: 0.9773 - loss: 0.0617 - val_accuracy: 0.8977 - val_loss: 0.5847\n",
            "Epoch 65/150\n",
            "\u001b[1m469/469\u001b[0m \u001b[32m━━━━━━━━━━━━━━━━━━━━\u001b[0m\u001b[37m\u001b[0m \u001b[1m5s\u001b[0m 10ms/step - accuracy: 0.9774 - loss: 0.0608 - val_accuracy: 0.8942 - val_loss: 0.6305\n",
            "Epoch 66/150\n",
            "\u001b[1m469/469\u001b[0m \u001b[32m━━━━━━━━━━━━━━━━━━━━\u001b[0m\u001b[37m\u001b[0m \u001b[1m4s\u001b[0m 9ms/step - accuracy: 0.9806 - loss: 0.0526 - val_accuracy: 0.8948 - val_loss: 0.6308\n",
            "Epoch 67/150\n",
            "\u001b[1m469/469\u001b[0m \u001b[32m━━━━━━━━━━━━━━━━━━━━\u001b[0m\u001b[37m\u001b[0m \u001b[1m5s\u001b[0m 11ms/step - accuracy: 0.9735 - loss: 0.0690 - val_accuracy: 0.8953 - val_loss: 0.6124\n",
            "Epoch 68/150\n",
            "\u001b[1m469/469\u001b[0m \u001b[32m━━━━━━━━━━━━━━━━━━━━\u001b[0m\u001b[37m\u001b[0m \u001b[1m5s\u001b[0m 10ms/step - accuracy: 0.9791 - loss: 0.0556 - val_accuracy: 0.8937 - val_loss: 0.6097\n",
            "Epoch 69/150\n",
            "\u001b[1m469/469\u001b[0m \u001b[32m━━━━━━━━━━━━━━━━━━━━\u001b[0m\u001b[37m\u001b[0m \u001b[1m5s\u001b[0m 10ms/step - accuracy: 0.9799 - loss: 0.0516 - val_accuracy: 0.8952 - val_loss: 0.6815\n",
            "Epoch 70/150\n",
            "\u001b[1m469/469\u001b[0m \u001b[32m━━━━━━━━━━━━━━━━━━━━\u001b[0m\u001b[37m\u001b[0m \u001b[1m5s\u001b[0m 11ms/step - accuracy: 0.9761 - loss: 0.0662 - val_accuracy: 0.8919 - val_loss: 0.5959\n",
            "Epoch 71/150\n",
            "\u001b[1m469/469\u001b[0m \u001b[32m━━━━━━━━━━━━━━━━━━━━\u001b[0m\u001b[37m\u001b[0m \u001b[1m4s\u001b[0m 9ms/step - accuracy: 0.9810 - loss: 0.0504 - val_accuracy: 0.8933 - val_loss: 0.5870\n",
            "Epoch 72/150\n",
            "\u001b[1m469/469\u001b[0m \u001b[32m━━━━━━━━━━━━━━━━━━━━\u001b[0m\u001b[37m\u001b[0m \u001b[1m6s\u001b[0m 10ms/step - accuracy: 0.9808 - loss: 0.0497 - val_accuracy: 0.8976 - val_loss: 0.6344\n",
            "Epoch 73/150\n",
            "\u001b[1m469/469\u001b[0m \u001b[32m━━━━━━━━━━━━━━━━━━━━\u001b[0m\u001b[37m\u001b[0m \u001b[1m5s\u001b[0m 10ms/step - accuracy: 0.9754 - loss: 0.0647 - val_accuracy: 0.8939 - val_loss: 0.6259\n",
            "Epoch 74/150\n",
            "\u001b[1m469/469\u001b[0m \u001b[32m━━━━━━━━━━━━━━━━━━━━\u001b[0m\u001b[37m\u001b[0m \u001b[1m4s\u001b[0m 9ms/step - accuracy: 0.9825 - loss: 0.0475 - val_accuracy: 0.8975 - val_loss: 0.6814\n",
            "Epoch 75/150\n",
            "\u001b[1m469/469\u001b[0m \u001b[32m━━━━━━━━━━━━━━━━━━━━\u001b[0m\u001b[37m\u001b[0m \u001b[1m5s\u001b[0m 10ms/step - accuracy: 0.9826 - loss: 0.0475 - val_accuracy: 0.8866 - val_loss: 0.7142\n",
            "Epoch 76/150\n",
            "\u001b[1m469/469\u001b[0m \u001b[32m━━━━━━━━━━━━━━━━━━━━\u001b[0m\u001b[37m\u001b[0m \u001b[1m4s\u001b[0m 9ms/step - accuracy: 0.9780 - loss: 0.0583 - val_accuracy: 0.8898 - val_loss: 0.7142\n",
            "Epoch 77/150\n",
            "\u001b[1m469/469\u001b[0m \u001b[32m━━━━━━━━━━━━━━━━━━━━\u001b[0m\u001b[37m\u001b[0m \u001b[1m5s\u001b[0m 9ms/step - accuracy: 0.9810 - loss: 0.0502 - val_accuracy: 0.8924 - val_loss: 0.7023\n",
            "Epoch 78/150\n",
            "\u001b[1m469/469\u001b[0m \u001b[32m━━━━━━━━━━━━━━━━━━━━\u001b[0m\u001b[37m\u001b[0m \u001b[1m5s\u001b[0m 11ms/step - accuracy: 0.9813 - loss: 0.0508 - val_accuracy: 0.8950 - val_loss: 0.7373\n",
            "Epoch 79/150\n",
            "\u001b[1m469/469\u001b[0m \u001b[32m━━━━━━━━━━━━━━━━━━━━\u001b[0m\u001b[37m\u001b[0m \u001b[1m9s\u001b[0m 9ms/step - accuracy: 0.9821 - loss: 0.0476 - val_accuracy: 0.8905 - val_loss: 0.7145\n",
            "Epoch 80/150\n",
            "\u001b[1m469/469\u001b[0m \u001b[32m━━━━━━━━━━━━━━━━━━━━\u001b[0m\u001b[37m\u001b[0m \u001b[1m5s\u001b[0m 11ms/step - accuracy: 0.9815 - loss: 0.0482 - val_accuracy: 0.8895 - val_loss: 0.7237\n",
            "Epoch 81/150\n",
            "\u001b[1m469/469\u001b[0m \u001b[32m━━━━━━━━━━━━━━━━━━━━\u001b[0m\u001b[37m\u001b[0m \u001b[1m10s\u001b[0m 10ms/step - accuracy: 0.9814 - loss: 0.0492 - val_accuracy: 0.8916 - val_loss: 0.7064\n",
            "Epoch 82/150\n",
            "\u001b[1m469/469\u001b[0m \u001b[32m━━━━━━━━━━━━━━━━━━━━\u001b[0m\u001b[37m\u001b[0m \u001b[1m5s\u001b[0m 10ms/step - accuracy: 0.9819 - loss: 0.0500 - val_accuracy: 0.8930 - val_loss: 0.7548\n",
            "Epoch 83/150\n",
            "\u001b[1m469/469\u001b[0m \u001b[32m━━━━━━━━━━━━━━━━━━━━\u001b[0m\u001b[37m\u001b[0m \u001b[1m4s\u001b[0m 9ms/step - accuracy: 0.9840 - loss: 0.0458 - val_accuracy: 0.8942 - val_loss: 0.7363\n",
            "Epoch 84/150\n",
            "\u001b[1m469/469\u001b[0m \u001b[32m━━━━━━━━━━━━━━━━━━━━\u001b[0m\u001b[37m\u001b[0m \u001b[1m5s\u001b[0m 11ms/step - accuracy: 0.9817 - loss: 0.0492 - val_accuracy: 0.8905 - val_loss: 0.6963\n",
            "Epoch 85/150\n",
            "\u001b[1m469/469\u001b[0m \u001b[32m━━━━━━━━━━━━━━━━━━━━\u001b[0m\u001b[37m\u001b[0m \u001b[1m4s\u001b[0m 9ms/step - accuracy: 0.9798 - loss: 0.0535 - val_accuracy: 0.8942 - val_loss: 0.6795\n",
            "Epoch 86/150\n",
            "\u001b[1m469/469\u001b[0m \u001b[32m━━━━━━━━━━━━━━━━━━━━\u001b[0m\u001b[37m\u001b[0m \u001b[1m4s\u001b[0m 9ms/step - accuracy: 0.9836 - loss: 0.0460 - val_accuracy: 0.8927 - val_loss: 0.6933\n",
            "Epoch 87/150\n",
            "\u001b[1m469/469\u001b[0m \u001b[32m━━━━━━━━━━━━━━━━━━━━\u001b[0m\u001b[37m\u001b[0m \u001b[1m5s\u001b[0m 12ms/step - accuracy: 0.9838 - loss: 0.0423 - val_accuracy: 0.8883 - val_loss: 0.7439\n",
            "Epoch 88/150\n",
            "\u001b[1m469/469\u001b[0m \u001b[32m━━━━━━━━━━━━━━━━━━━━\u001b[0m\u001b[37m\u001b[0m \u001b[1m9s\u001b[0m 9ms/step - accuracy: 0.9816 - loss: 0.0486 - val_accuracy: 0.8913 - val_loss: 0.7427\n",
            "Epoch 89/150\n",
            "\u001b[1m469/469\u001b[0m \u001b[32m━━━━━━━━━━━━━━━━━━━━\u001b[0m\u001b[37m\u001b[0m \u001b[1m6s\u001b[0m 12ms/step - accuracy: 0.9842 - loss: 0.0432 - val_accuracy: 0.8926 - val_loss: 0.7088\n",
            "Epoch 90/150\n",
            "\u001b[1m469/469\u001b[0m \u001b[32m━━━━━━━━━━━━━━━━━━━━\u001b[0m\u001b[37m\u001b[0m \u001b[1m9s\u001b[0m 10ms/step - accuracy: 0.9849 - loss: 0.0403 - val_accuracy: 0.8943 - val_loss: 0.7467\n",
            "Epoch 91/150\n",
            "\u001b[1m469/469\u001b[0m \u001b[32m━━━━━━━━━━━━━━━━━━━━\u001b[0m\u001b[37m\u001b[0m \u001b[1m5s\u001b[0m 9ms/step - accuracy: 0.9854 - loss: 0.0385 - val_accuracy: 0.8899 - val_loss: 0.7193\n",
            "Epoch 92/150\n",
            "\u001b[1m469/469\u001b[0m \u001b[32m━━━━━━━━━━━━━━━━━━━━\u001b[0m\u001b[37m\u001b[0m \u001b[1m4s\u001b[0m 9ms/step - accuracy: 0.9822 - loss: 0.0491 - val_accuracy: 0.8838 - val_loss: 0.7803\n",
            "Epoch 93/150\n",
            "\u001b[1m469/469\u001b[0m \u001b[32m━━━━━━━━━━━━━━━━━━━━\u001b[0m\u001b[37m\u001b[0m \u001b[1m6s\u001b[0m 11ms/step - accuracy: 0.9823 - loss: 0.0504 - val_accuracy: 0.8915 - val_loss: 0.7287\n",
            "Epoch 94/150\n",
            "\u001b[1m469/469\u001b[0m \u001b[32m━━━━━━━━━━━━━━━━━━━━\u001b[0m\u001b[37m\u001b[0m \u001b[1m9s\u001b[0m 9ms/step - accuracy: 0.9876 - loss: 0.0337 - val_accuracy: 0.8932 - val_loss: 0.7402\n",
            "Epoch 95/150\n",
            "\u001b[1m469/469\u001b[0m \u001b[32m━━━━━━━━━━━━━━━━━━━━\u001b[0m\u001b[37m\u001b[0m \u001b[1m5s\u001b[0m 11ms/step - accuracy: 0.9883 - loss: 0.0329 - val_accuracy: 0.8923 - val_loss: 0.7395\n",
            "Epoch 96/150\n",
            "\u001b[1m469/469\u001b[0m \u001b[32m━━━━━━━━━━━━━━━━━━━━\u001b[0m\u001b[37m\u001b[0m \u001b[1m10s\u001b[0m 10ms/step - accuracy: 0.9873 - loss: 0.0355 - val_accuracy: 0.8887 - val_loss: 0.6983\n",
            "Epoch 97/150\n",
            "\u001b[1m469/469\u001b[0m \u001b[32m━━━━━━━━━━━━━━━━━━━━\u001b[0m\u001b[37m\u001b[0m \u001b[1m5s\u001b[0m 9ms/step - accuracy: 0.9823 - loss: 0.0481 - val_accuracy: 0.8937 - val_loss: 0.7382\n",
            "Epoch 98/150\n",
            "\u001b[1m469/469\u001b[0m \u001b[32m━━━━━━━━━━━━━━━━━━━━\u001b[0m\u001b[37m\u001b[0m \u001b[1m5s\u001b[0m 9ms/step - accuracy: 0.9864 - loss: 0.0377 - val_accuracy: 0.8950 - val_loss: 0.7669\n",
            "Epoch 99/150\n",
            "\u001b[1m469/469\u001b[0m \u001b[32m━━━━━━━━━━━━━━━━━━━━\u001b[0m\u001b[37m\u001b[0m \u001b[1m5s\u001b[0m 11ms/step - accuracy: 0.9868 - loss: 0.0358 - val_accuracy: 0.8962 - val_loss: 0.7620\n",
            "Epoch 100/150\n",
            "\u001b[1m469/469\u001b[0m \u001b[32m━━━━━━━━━━━━━━━━━━━━\u001b[0m\u001b[37m\u001b[0m \u001b[1m5s\u001b[0m 10ms/step - accuracy: 0.9864 - loss: 0.0349 - val_accuracy: 0.8906 - val_loss: 0.7704\n",
            "Epoch 101/150\n",
            "\u001b[1m469/469\u001b[0m \u001b[32m━━━━━━━━━━━━━━━━━━━━\u001b[0m\u001b[37m\u001b[0m \u001b[1m4s\u001b[0m 9ms/step - accuracy: 0.9862 - loss: 0.0369 - val_accuracy: 0.8982 - val_loss: 0.8645\n",
            "Epoch 102/150\n",
            "\u001b[1m469/469\u001b[0m \u001b[32m━━━━━━━━━━━━━━━━━━━━\u001b[0m\u001b[37m\u001b[0m \u001b[1m5s\u001b[0m 11ms/step - accuracy: 0.9855 - loss: 0.0400 - val_accuracy: 0.8911 - val_loss: 0.7009\n",
            "Epoch 103/150\n",
            "\u001b[1m469/469\u001b[0m \u001b[32m━━━━━━━━━━━━━━━━━━━━\u001b[0m\u001b[37m\u001b[0m \u001b[1m10s\u001b[0m 10ms/step - accuracy: 0.9873 - loss: 0.0322 - val_accuracy: 0.8943 - val_loss: 0.7958\n",
            "Epoch 104/150\n",
            "\u001b[1m469/469\u001b[0m \u001b[32m━━━━━━━━━━━━━━━━━━━━\u001b[0m\u001b[37m\u001b[0m \u001b[1m5s\u001b[0m 9ms/step - accuracy: 0.9865 - loss: 0.0380 - val_accuracy: 0.8917 - val_loss: 0.7835\n",
            "Epoch 105/150\n",
            "\u001b[1m469/469\u001b[0m \u001b[32m━━━━━━━━━━━━━━━━━━━━\u001b[0m\u001b[37m\u001b[0m \u001b[1m5s\u001b[0m 9ms/step - accuracy: 0.9859 - loss: 0.0387 - val_accuracy: 0.8918 - val_loss: 0.7861\n",
            "Epoch 106/150\n",
            "\u001b[1m469/469\u001b[0m \u001b[32m━━━━━━━━━━━━━━━━━━━━\u001b[0m\u001b[37m\u001b[0m \u001b[1m6s\u001b[0m 12ms/step - accuracy: 0.9892 - loss: 0.0295 - val_accuracy: 0.8955 - val_loss: 0.7938\n",
            "Epoch 107/150\n",
            "\u001b[1m469/469\u001b[0m \u001b[32m━━━━━━━━━━━━━━━━━━━━\u001b[0m\u001b[37m\u001b[0m \u001b[1m9s\u001b[0m 9ms/step - accuracy: 0.9896 - loss: 0.0301 - val_accuracy: 0.8905 - val_loss: 0.8096\n",
            "Epoch 108/150\n",
            "\u001b[1m469/469\u001b[0m \u001b[32m━━━━━━━━━━━━━━━━━━━━\u001b[0m\u001b[37m\u001b[0m \u001b[1m5s\u001b[0m 11ms/step - accuracy: 0.9855 - loss: 0.0405 - val_accuracy: 0.8936 - val_loss: 0.7586\n",
            "Epoch 109/150\n",
            "\u001b[1m469/469\u001b[0m \u001b[32m━━━━━━━━━━━━━━━━━━━━\u001b[0m\u001b[37m\u001b[0m \u001b[1m4s\u001b[0m 9ms/step - accuracy: 0.9887 - loss: 0.0303 - val_accuracy: 0.8885 - val_loss: 0.8566\n",
            "Epoch 110/150\n",
            "\u001b[1m469/469\u001b[0m \u001b[32m━━━━━━━━━━━━━━━━━━━━\u001b[0m\u001b[37m\u001b[0m \u001b[1m6s\u001b[0m 10ms/step - accuracy: 0.9869 - loss: 0.0357 - val_accuracy: 0.8949 - val_loss: 0.8008\n",
            "Epoch 111/150\n",
            "\u001b[1m469/469\u001b[0m \u001b[32m━━━━━━━━━━━━━━━━━━━━\u001b[0m\u001b[37m\u001b[0m \u001b[1m5s\u001b[0m 10ms/step - accuracy: 0.9839 - loss: 0.0464 - val_accuracy: 0.8926 - val_loss: 0.8382\n",
            "Epoch 112/150\n",
            "\u001b[1m469/469\u001b[0m \u001b[32m━━━━━━━━━━━━━━━━━━━━\u001b[0m\u001b[37m\u001b[0m \u001b[1m4s\u001b[0m 9ms/step - accuracy: 0.9896 - loss: 0.0292 - val_accuracy: 0.8961 - val_loss: 0.8773\n",
            "Epoch 113/150\n",
            "\u001b[1m469/469\u001b[0m \u001b[32m━━━━━━━━━━━━━━━━━━━━\u001b[0m\u001b[37m\u001b[0m \u001b[1m6s\u001b[0m 11ms/step - accuracy: 0.9896 - loss: 0.0297 - val_accuracy: 0.8935 - val_loss: 0.8266\n",
            "Epoch 114/150\n",
            "\u001b[1m469/469\u001b[0m \u001b[32m━━━━━━━━━━━━━━━━━━━━\u001b[0m\u001b[37m\u001b[0m \u001b[1m4s\u001b[0m 9ms/step - accuracy: 0.9895 - loss: 0.0292 - val_accuracy: 0.8917 - val_loss: 0.8838\n",
            "Epoch 115/150\n",
            "\u001b[1m469/469\u001b[0m \u001b[32m━━━━━━━━━━━━━━━━━━━━\u001b[0m\u001b[37m\u001b[0m \u001b[1m4s\u001b[0m 9ms/step - accuracy: 0.9888 - loss: 0.0316 - val_accuracy: 0.8875 - val_loss: 0.8186\n",
            "Epoch 116/150\n",
            "\u001b[1m469/469\u001b[0m \u001b[32m━━━━━━━━━━━━━━━━━━━━\u001b[0m\u001b[37m\u001b[0m \u001b[1m6s\u001b[0m 11ms/step - accuracy: 0.9879 - loss: 0.0352 - val_accuracy: 0.8938 - val_loss: 0.8130\n",
            "Epoch 117/150\n",
            "\u001b[1m469/469\u001b[0m \u001b[32m━━━━━━━━━━━━━━━━━━━━\u001b[0m\u001b[37m\u001b[0m \u001b[1m10s\u001b[0m 11ms/step - accuracy: 0.9910 - loss: 0.0250 - val_accuracy: 0.8887 - val_loss: 0.8708\n",
            "Epoch 118/150\n",
            "\u001b[1m469/469\u001b[0m \u001b[32m━━━━━━━━━━━━━━━━━━━━\u001b[0m\u001b[37m\u001b[0m \u001b[1m9s\u001b[0m 9ms/step - accuracy: 0.9830 - loss: 0.0483 - val_accuracy: 0.8959 - val_loss: 0.8028\n",
            "Epoch 119/150\n",
            "\u001b[1m469/469\u001b[0m \u001b[32m━━━━━━━━━━━━━━━━━━━━\u001b[0m\u001b[37m\u001b[0m \u001b[1m5s\u001b[0m 11ms/step - accuracy: 0.9900 - loss: 0.0274 - val_accuracy: 0.8940 - val_loss: 0.8111\n",
            "Epoch 120/150\n",
            "\u001b[1m469/469\u001b[0m \u001b[32m━━━━━━━━━━━━━━━━━━━━\u001b[0m\u001b[37m\u001b[0m \u001b[1m9s\u001b[0m 9ms/step - accuracy: 0.9924 - loss: 0.0213 - val_accuracy: 0.8885 - val_loss: 0.9814\n",
            "Epoch 121/150\n",
            "\u001b[1m469/469\u001b[0m \u001b[32m━━━━━━━━━━━━━━━━━━━━\u001b[0m\u001b[37m\u001b[0m \u001b[1m6s\u001b[0m 10ms/step - accuracy: 0.9851 - loss: 0.0425 - val_accuracy: 0.8953 - val_loss: 0.8683\n",
            "Epoch 122/150\n",
            "\u001b[1m469/469\u001b[0m \u001b[32m━━━━━━━━━━━━━━━━━━━━\u001b[0m\u001b[37m\u001b[0m \u001b[1m4s\u001b[0m 9ms/step - accuracy: 0.9898 - loss: 0.0299 - val_accuracy: 0.8966 - val_loss: 0.8471\n",
            "Epoch 123/150\n",
            "\u001b[1m469/469\u001b[0m \u001b[32m━━━━━━━━━━━━━━━━━━━━\u001b[0m\u001b[37m\u001b[0m \u001b[1m6s\u001b[0m 11ms/step - accuracy: 0.9892 - loss: 0.0312 - val_accuracy: 0.8981 - val_loss: 0.8619\n",
            "Epoch 124/150\n",
            "\u001b[1m469/469\u001b[0m \u001b[32m━━━━━━━━━━━━━━━━━━━━\u001b[0m\u001b[37m\u001b[0m \u001b[1m9s\u001b[0m 9ms/step - accuracy: 0.9895 - loss: 0.0285 - val_accuracy: 0.8955 - val_loss: 0.8361\n",
            "Epoch 125/150\n",
            "\u001b[1m469/469\u001b[0m \u001b[32m━━━━━━━━━━━━━━━━━━━━\u001b[0m\u001b[37m\u001b[0m \u001b[1m6s\u001b[0m 10ms/step - accuracy: 0.9886 - loss: 0.0314 - val_accuracy: 0.8942 - val_loss: 0.8995\n",
            "Epoch 126/150\n",
            "\u001b[1m469/469\u001b[0m \u001b[32m━━━━━━━━━━━━━━━━━━━━\u001b[0m\u001b[37m\u001b[0m \u001b[1m4s\u001b[0m 9ms/step - accuracy: 0.9902 - loss: 0.0282 - val_accuracy: 0.8949 - val_loss: 0.8305\n",
            "Epoch 127/150\n",
            "\u001b[1m469/469\u001b[0m \u001b[32m━━━━━━━━━━━━━━━━━━━━\u001b[0m\u001b[37m\u001b[0m \u001b[1m5s\u001b[0m 11ms/step - accuracy: 0.9891 - loss: 0.0324 - val_accuracy: 0.8964 - val_loss: 0.8163\n",
            "Epoch 128/150\n",
            "\u001b[1m469/469\u001b[0m \u001b[32m━━━━━━━━━━━━━━━━━━━━\u001b[0m\u001b[37m\u001b[0m \u001b[1m4s\u001b[0m 9ms/step - accuracy: 0.9903 - loss: 0.0276 - val_accuracy: 0.8966 - val_loss: 0.8412\n",
            "Epoch 129/150\n",
            "\u001b[1m469/469\u001b[0m \u001b[32m━━━━━━━━━━━━━━━━━━━━\u001b[0m\u001b[37m\u001b[0m \u001b[1m4s\u001b[0m 9ms/step - accuracy: 0.9909 - loss: 0.0272 - val_accuracy: 0.8930 - val_loss: 0.8819\n",
            "Epoch 130/150\n",
            "\u001b[1m469/469\u001b[0m \u001b[32m━━━━━━━━━━━━━━━━━━━━\u001b[0m\u001b[37m\u001b[0m \u001b[1m6s\u001b[0m 12ms/step - accuracy: 0.9915 - loss: 0.0236 - val_accuracy: 0.8939 - val_loss: 0.8281\n",
            "Epoch 131/150\n",
            "\u001b[1m469/469\u001b[0m \u001b[32m━━━━━━━━━━━━━━━━━━━━\u001b[0m\u001b[37m\u001b[0m \u001b[1m4s\u001b[0m 9ms/step - accuracy: 0.9933 - loss: 0.0193 - val_accuracy: 0.8925 - val_loss: 0.8254\n",
            "Epoch 132/150\n",
            "\u001b[1m469/469\u001b[0m \u001b[32m━━━━━━━━━━━━━━━━━━━━\u001b[0m\u001b[37m\u001b[0m \u001b[1m4s\u001b[0m 9ms/step - accuracy: 0.9896 - loss: 0.0309 - val_accuracy: 0.8900 - val_loss: 0.8790\n",
            "Epoch 133/150\n",
            "\u001b[1m469/469\u001b[0m \u001b[32m━━━━━━━━━━━━━━━━━━━━\u001b[0m\u001b[37m\u001b[0m \u001b[1m5s\u001b[0m 11ms/step - accuracy: 0.9906 - loss: 0.0265 - val_accuracy: 0.8962 - val_loss: 0.8597\n",
            "Epoch 134/150\n",
            "\u001b[1m469/469\u001b[0m \u001b[32m━━━━━━━━━━━━━━━━━━━━\u001b[0m\u001b[37m\u001b[0m \u001b[1m9s\u001b[0m 9ms/step - accuracy: 0.9910 - loss: 0.0256 - val_accuracy: 0.8935 - val_loss: 0.8470\n",
            "Epoch 135/150\n",
            "\u001b[1m469/469\u001b[0m \u001b[32m━━━━━━━━━━━━━━━━━━━━\u001b[0m\u001b[37m\u001b[0m \u001b[1m6s\u001b[0m 10ms/step - accuracy: 0.9893 - loss: 0.0290 - val_accuracy: 0.8933 - val_loss: 0.8629\n",
            "Epoch 136/150\n",
            "\u001b[1m469/469\u001b[0m \u001b[32m━━━━━━━━━━━━━━━━━━━━\u001b[0m\u001b[37m\u001b[0m \u001b[1m4s\u001b[0m 9ms/step - accuracy: 0.9918 - loss: 0.0227 - val_accuracy: 0.8915 - val_loss: 0.8796\n",
            "Epoch 137/150\n",
            "\u001b[1m469/469\u001b[0m \u001b[32m━━━━━━━━━━━━━━━━━━━━\u001b[0m\u001b[37m\u001b[0m \u001b[1m6s\u001b[0m 11ms/step - accuracy: 0.9861 - loss: 0.0399 - val_accuracy: 0.8924 - val_loss: 0.8487\n",
            "Epoch 138/150\n",
            "\u001b[1m469/469\u001b[0m \u001b[32m━━━━━━━━━━━━━━━━━━━━\u001b[0m\u001b[37m\u001b[0m \u001b[1m9s\u001b[0m 9ms/step - accuracy: 0.9927 - loss: 0.0203 - val_accuracy: 0.8966 - val_loss: 0.8697\n",
            "Epoch 139/150\n",
            "\u001b[1m469/469\u001b[0m \u001b[32m━━━━━━━━━━━━━━━━━━━━\u001b[0m\u001b[37m\u001b[0m \u001b[1m6s\u001b[0m 11ms/step - accuracy: 0.9914 - loss: 0.0243 - val_accuracy: 0.8938 - val_loss: 0.8932\n",
            "Epoch 140/150\n",
            "\u001b[1m469/469\u001b[0m \u001b[32m━━━━━━━━━━━━━━━━━━━━\u001b[0m\u001b[37m\u001b[0m \u001b[1m5s\u001b[0m 10ms/step - accuracy: 0.9936 - loss: 0.0183 - val_accuracy: 0.8957 - val_loss: 0.8528\n",
            "Epoch 141/150\n",
            "\u001b[1m469/469\u001b[0m \u001b[32m━━━━━━━━━━━━━━━━━━━━\u001b[0m\u001b[37m\u001b[0m \u001b[1m6s\u001b[0m 11ms/step - accuracy: 0.9883 - loss: 0.0336 - val_accuracy: 0.8974 - val_loss: 0.8486\n",
            "Epoch 142/150\n",
            "\u001b[1m469/469\u001b[0m \u001b[32m━━━━━━━━━━━━━━━━━━━━\u001b[0m\u001b[37m\u001b[0m \u001b[1m5s\u001b[0m 10ms/step - accuracy: 0.9914 - loss: 0.0244 - val_accuracy: 0.8924 - val_loss: 0.8806\n",
            "Epoch 143/150\n",
            "\u001b[1m469/469\u001b[0m \u001b[32m━━━━━━━━━━━━━━━━━━━━\u001b[0m\u001b[37m\u001b[0m \u001b[1m5s\u001b[0m 9ms/step - accuracy: 0.9899 - loss: 0.0276 - val_accuracy: 0.8912 - val_loss: 0.8544\n",
            "Epoch 144/150\n",
            "\u001b[1m469/469\u001b[0m \u001b[32m━━━━━━━━━━━━━━━━━━━━\u001b[0m\u001b[37m\u001b[0m \u001b[1m6s\u001b[0m 12ms/step - accuracy: 0.9899 - loss: 0.0269 - val_accuracy: 0.8915 - val_loss: 0.9308\n",
            "Epoch 145/150\n",
            "\u001b[1m469/469\u001b[0m \u001b[32m━━━━━━━━━━━━━━━━━━━━\u001b[0m\u001b[37m\u001b[0m \u001b[1m9s\u001b[0m 10ms/step - accuracy: 0.9935 - loss: 0.0193 - val_accuracy: 0.8925 - val_loss: 0.8398\n",
            "Epoch 146/150\n",
            "\u001b[1m469/469\u001b[0m \u001b[32m━━━━━━━━━━━━━━━━━━━━\u001b[0m\u001b[37m\u001b[0m \u001b[1m5s\u001b[0m 10ms/step - accuracy: 0.9930 - loss: 0.0198 - val_accuracy: 0.8967 - val_loss: 0.8960\n",
            "Epoch 147/150\n",
            "\u001b[1m469/469\u001b[0m \u001b[32m━━━━━━━━━━━━━━━━━━━━\u001b[0m\u001b[37m\u001b[0m \u001b[1m5s\u001b[0m 9ms/step - accuracy: 0.9885 - loss: 0.0330 - val_accuracy: 0.8926 - val_loss: 0.9254\n",
            "Epoch 148/150\n",
            "\u001b[1m469/469\u001b[0m \u001b[32m━━━━━━━━━━━━━━━━━━━━\u001b[0m\u001b[37m\u001b[0m \u001b[1m7s\u001b[0m 12ms/step - accuracy: 0.9914 - loss: 0.0246 - val_accuracy: 0.8953 - val_loss: 0.8841\n",
            "Epoch 149/150\n",
            "\u001b[1m469/469\u001b[0m \u001b[32m━━━━━━━━━━━━━━━━━━━━\u001b[0m\u001b[37m\u001b[0m \u001b[1m9s\u001b[0m 10ms/step - accuracy: 0.9903 - loss: 0.0270 - val_accuracy: 0.8934 - val_loss: 0.8613\n",
            "Epoch 150/150\n",
            "\u001b[1m469/469\u001b[0m \u001b[32m━━━━━━━━━━━━━━━━━━━━\u001b[0m\u001b[37m\u001b[0m \u001b[1m5s\u001b[0m 10ms/step - accuracy: 0.9923 - loss: 0.0219 - val_accuracy: 0.8956 - val_loss: 0.9191\n",
            "\u001b[1m313/313\u001b[0m \u001b[32m━━━━━━━━━━━━━━━━━━━━\u001b[0m\u001b[37m\u001b[0m \u001b[1m1s\u001b[0m 3ms/step - accuracy: 0.8937 - loss: 0.9227\n"
          ]
        },
        {
          "output_type": "stream",
          "name": "stderr",
          "text": [
            "WARNING:absl:You are saving your model as an HDF5 file via `model.save()` or `keras.saving.save_model(model)`. This file format is considered legacy. We recommend using instead the native Keras format, e.g. `model.save('my_model.keras')` or `keras.saving.save_model(model, 'my_model.keras')`. \n"
          ]
        },
        {
          "output_type": "stream",
          "name": "stdout",
          "text": [
            " Accuracy trên tập kiểm tra: 89.56%\n"
          ]
        }
      ]
    },
    {
      "cell_type": "code",
      "source": [
        "import numpy as np\n",
        "import matplotlib.pyplot as plt\n",
        "import cv2\n",
        "from keras.models import load_model\n",
        "model = load_model(\"/content/fashion_mnist_model (1).h5\")\n",
        "fashion_labels = [\"T-shirt\", \"Trouser\", \"Pullover\", \"Dress\", \"Coat\", \"Sandal\", \"Shirt\", \"Sneaker\", \"Bag\", \"Ankle boot\"]\n",
        "\n",
        "def preprocess_image(image_path):\n",
        "    img = cv2.imread(image_path, cv2.IMREAD_GRAYSCALE)\n",
        "    img = cv2.resize(img, (28, 28))\n",
        "    if np.mean(img) > 128:\n",
        "        img = cv2.bitwise_not(img)\n",
        "    _, img = cv2.threshold(img, 128, 255, cv2.THRESH_BINARY)\n",
        "    img = img.astype(\"float32\") / 255.0\n",
        "    return img\n",
        "\n",
        "def predict_clothing(image_path):\n",
        "    processed_img = preprocess_image(image_path)\n",
        "    img_for_prediction = processed_img.reshape(1, 28 * 28)\n",
        "    prediction = model.predict(img_for_prediction)[0]\n",
        "    predicted_label = np.argmax(prediction)\n",
        "    return predicted_label, processed_img\n",
        "\n",
        "image_paths = [\"img1.jpg\", \"img2.jpg\", \"img3.jpg\", \"img4.jpg\", \"img5.jpg\", \"img6.jpg\", \"img7.jpg\", \"img8.jpg\", \"img9.jpg\", \"img10.jpg\"]\n",
        "\n",
        "for path in image_paths:\n",
        "    print(f\"\\nẢnh: {path}\")\n",
        "    predicted_label, processed_img = predict_clothing(path)\n",
        "    print(f\"Loại quần áo tiên đoán: {fashion_labels[predicted_label]}\")\n",
        "    plt.figure(figsize=(2, 2))\n",
        "    plt.imshow(processed_img, cmap=\"gray\")\n",
        "    plt.title(f\"Prediction: {fashion_labels[predicted_label]}\", fontsize=8)\n",
        "    plt.axis(\"off\")\n",
        "    plt.show()\n"
      ],
      "metadata": {
        "colab": {
          "base_uri": "https://localhost:8080/",
          "height": 1000
        },
        "id": "aOb4DrrIBdWL",
        "outputId": "164a6f6e-a45b-46ae-a6aa-98113205a577"
      },
      "execution_count": null,
      "outputs": [
        {
          "output_type": "stream",
          "name": "stderr",
          "text": [
            "WARNING:absl:Compiled the loaded model, but the compiled metrics have yet to be built. `model.compile_metrics` will be empty until you train or evaluate the model.\n"
          ]
        },
        {
          "output_type": "stream",
          "name": "stdout",
          "text": [
            "\n",
            "Ảnh: img1.jpg\n",
            "\u001b[1m1/1\u001b[0m \u001b[32m━━━━━━━━━━━━━━━━━━━━\u001b[0m\u001b[37m\u001b[0m \u001b[1m0s\u001b[0m 168ms/step\n",
            "Loại quần áo tiên đoán: T-shirt\n"
          ]
        },
        {
          "output_type": "display_data",
          "data": {
            "text/plain": [
              "<Figure size 200x200 with 1 Axes>"
            ],
            "image/png": "[encoded data removed]"
          },
          "metadata": {}
        },
        {
          "output_type": "stream",
          "name": "stdout",
          "text": [
            "\n",
            "Ảnh: img2.jpg\n",
            "\u001b[1m1/1\u001b[0m \u001b[32m━━━━━━━━━━━━━━━━━━━━\u001b[0m\u001b[37m\u001b[0m \u001b[1m0s\u001b[0m 137ms/step\n",
            "Loại quần áo tiên đoán: Trouser\n"
          ]
        },
        {
          "output_type": "display_data",
          "data": {
            "text/plain": [
              "<Figure size 200x200 with 1 Axes>"
            ],
            "image/png": "[encoded data removed]"
          },
          "metadata": {}
        },
        {
          "output_type": "stream",
          "name": "stdout",
          "text": [
            "\n",
            "Ảnh: img3.jpg\n",
            "\u001b[1m1/1\u001b[0m \u001b[32m━━━━━━━━━━━━━━━━━━━━\u001b[0m\u001b[37m\u001b[0m \u001b[1m0s\u001b[0m 49ms/step\n",
            "Loại quần áo tiên đoán: Coat\n"
          ]
        },
        {
          "output_type": "display_data",
          "data": {
            "text/plain": [
              "<Figure size 200x200 with 1 Axes>"
            ],
            "image/png": "[encoded data removed]"
          },
          "metadata": {}
        },
        {
          "output_type": "stream",
          "name": "stdout",
          "text": [
            "\n",
            "Ảnh: img4.jpg\n",
            "\u001b[1m1/1\u001b[0m \u001b[32m━━━━━━━━━━━━━━━━━━━━\u001b[0m\u001b[37m\u001b[0m \u001b[1m0s\u001b[0m 56ms/step\n",
            "Loại quần áo tiên đoán: Dress\n"
          ]
        },
        {
          "output_type": "display_data",
          "data": {
            "text/plain": [
              "<Figure size 200x200 with 1 Axes>"
            ],
            "image/png": "[encoded data removed]"
          },
          "metadata": {}
        },
        {
          "output_type": "stream",
          "name": "stdout",
          "text": [
            "\n",
            "Ảnh: img5.jpg\n",
            "\u001b[1m1/1\u001b[0m \u001b[32m━━━━━━━━━━━━━━━━━━━━\u001b[0m\u001b[37m\u001b[0m \u001b[1m0s\u001b[0m 56ms/step\n",
            "Loại quần áo tiên đoán: Pullover\n"
          ]
        },
        {
          "output_type": "display_data",
          "data": {
            "text/plain": [
              "<Figure size 200x200 with 1 Axes>"
            ],
            "image/png": "[encoded data removed]"
          },
          "metadata": {}
        },
        {
          "output_type": "stream",
          "name": "stdout",
          "text": [
            "\n",
            "Ảnh: img6.jpg\n",
            "\u001b[1m1/1\u001b[0m \u001b[32m━━━━━━━━━━━━━━━━━━━━\u001b[0m\u001b[37m\u001b[0m \u001b[1m0s\u001b[0m 48ms/step\n",
            "Loại quần áo tiên đoán: Sneaker\n"
          ]
        },
        {
          "output_type": "display_data",
          "data": {
            "text/plain": [
              "<Figure size 200x200 with 1 Axes>"
            ],
            "image/png": "[encoded data removed]"
          },
          "metadata": {}
        },
        {
          "output_type": "stream",
          "name": "stdout",
          "text": [
            "\n",
            "Ảnh: img7.jpg\n",
            "\u001b[1m1/1\u001b[0m \u001b[32m━━━━━━━━━━━━━━━━━━━━\u001b[0m\u001b[37m\u001b[0m \u001b[1m0s\u001b[0m 52ms/step\n",
            "Loại quần áo tiên đoán: Shirt\n"
          ]
        },
        {
          "output_type": "display_data",
          "data": {
            "text/plain": [
              "<Figure size 200x200 with 1 Axes>"
            ],
            "image/png": "[encoded data removed]"
          },
          "metadata": {}
        },
        {
          "output_type": "stream",
          "name": "stdout",
          "text": [
            "\n",
            "Ảnh: img8.jpg\n",
            "\u001b[1m1/1\u001b[0m \u001b[32m━━━━━━━━━━━━━━━━━━━━\u001b[0m\u001b[37m\u001b[0m \u001b[1m0s\u001b[0m 57ms/step\n",
            "Loại quần áo tiên đoán: Sandal\n"
          ]
        },
        {
          "output_type": "display_data",
          "data": {
            "text/plain": [
              "<Figure size 200x200 with 1 Axes>"
            ],
            "image/png": "[encoded data removed]"
          },
          "metadata": {}
        },
        {
          "output_type": "stream",
          "name": "stdout",
          "text": [
            "\n",
            "Ảnh: img9.jpg\n",
            "\u001b[1m1/1\u001b[0m \u001b[32m━━━━━━━━━━━━━━━━━━━━\u001b[0m\u001b[37m\u001b[0m \u001b[1m0s\u001b[0m 64ms/step\n",
            "Loại quần áo tiên đoán: Bag\n"
          ]
        },
        {
          "output_type": "display_data",
          "data": {
            "text/plain": [
              "<Figure size 200x200 with 1 Axes>"
            ],
            "image/png": "[encoded data removed]"
          },
          "metadata": {}
        },
        {
          "output_type": "stream",
          "name": "stdout",
          "text": [
            "\n",
            "Ảnh: img10.jpg\n",
            "\u001b[1m1/1\u001b[0m \u001b[32m━━━━━━━━━━━━━━━━━━━━\u001b[0m\u001b[37m\u001b[0m \u001b[1m0s\u001b[0m 50ms/step\n",
            "Loại quần áo tiên đoán: Ankle boot\n"
          ]
        },
        {
          "output_type": "display_data",
          "data": {
            "text/plain": [
              "<Figure size 200x200 with 1 Axes>"
            ],
            "image/png": "[encoded data removed]"
          },
          "metadata": {}
        }
      ]
    },
    {
      "cell_type": "code",
      "source": [
        "# cifar10, check the images of dogs, cats, boats, deer...\n",
        "from keras.models import Sequential\n",
        "from keras.layers import Dense, Flatten\n",
        "from keras.datasets import cifar10\n",
        "from keras.utils import to_categorical\n",
        "(x_train, y_train), (x_test, y_test) = cifar10.load_data()\n",
        "x_train = x_train.reshape(50000, 32*32*3).astype(\"float32\") / 255\n",
        "x_test = x_test.reshape(10000, 32*32*3).astype(\"float32\") / 255\n",
        "y_train = to_categorical(y_train, 10)\n",
        "y_test = to_categorical(y_test, 10)\n",
        "model = Sequential([\n",
        "    Dense(512, activation='relu', input_shape=(32*32*3,)),\n",
        "    Dense(256, activation='relu'),\n",
        "    Dense(128, activation='relu'),\n",
        "    Dense(64, activation='relu'),\n",
        "    Dense(10, activation='softmax')\n",
        "])\n",
        "model.compile(optimizer='adam', loss='categorical_crossentropy', metrics=['accuracy'])\n",
        "model.fit(x_train, y_train, epochs=200, batch_size=64, validation_data=(x_test, y_test))\n",
        "loss, acc = model.evaluate(x_test, y_test)\n",
        "print(f\"Accuracy: {acc*100:.2f}%\")\n",
        "model.save(\"/content/cifar10_model.h5\")\n"
      ],
      "metadata": {
        "colab": {
          "base_uri": "https://localhost:8080/"
        },
        "id": "1zR-IhzA6urM",
        "outputId": "df7ef7ac-a39e-499c-b240-444c6b7bdac9"
      },
      "execution_count": null,
      "outputs": [
        {
          "output_type": "stream",
          "name": "stdout",
          "text": [
            "Epoch 1/200\n",
            "\u001b[1m782/782\u001b[0m \u001b[32m━━━━━━━━━━━━━━━━━━━━\u001b[0m\u001b[37m\u001b[0m \u001b[1m30s\u001b[0m 36ms/step - accuracy: 0.2611 - loss: 2.0073 - val_accuracy: 0.3629 - val_loss: 1.7663\n",
            "Epoch 2/200\n",
            "\u001b[1m782/782\u001b[0m \u001b[32m━━━━━━━━━━━━━━━━━━━━\u001b[0m\u001b[37m\u001b[0m \u001b[1m38s\u001b[0m 31ms/step - accuracy: 0.3841 - loss: 1.7236 - val_accuracy: 0.4205 - val_loss: 1.6290\n",
            "Epoch 3/200\n",
            "\u001b[1m782/782\u001b[0m \u001b[32m━━━━━━━━━━━━━━━━━━━━\u001b[0m\u001b[37m\u001b[0m \u001b[1m24s\u001b[0m 31ms/step - accuracy: 0.4152 - loss: 1.6287 - val_accuracy: 0.3748 - val_loss: 1.7478\n",
            "Epoch 4/200\n",
            "\u001b[1m782/782\u001b[0m \u001b[32m━━━━━━━━━━━━━━━━━━━━\u001b[0m\u001b[37m\u001b[0m \u001b[1m24s\u001b[0m 31ms/step - accuracy: 0.4423 - loss: 1.5516 - val_accuracy: 0.4668 - val_loss: 1.4903\n",
            "Epoch 5/200\n",
            "\u001b[1m782/782\u001b[0m \u001b[32m━━━━━━━━━━━━━━━━━━━━\u001b[0m\u001b[37m\u001b[0m \u001b[1m25s\u001b[0m 32ms/step - accuracy: 0.4637 - loss: 1.4967 - val_accuracy: 0.4503 - val_loss: 1.5282\n",
            "Epoch 6/200\n",
            "\u001b[1m782/782\u001b[0m \u001b[32m━━━━━━━━━━━━━━━━━━━━\u001b[0m\u001b[37m\u001b[0m \u001b[1m40s\u001b[0m 31ms/step - accuracy: 0.4722 - loss: 1.4720 - val_accuracy: 0.4792 - val_loss: 1.4611\n",
            "Epoch 7/200\n",
            "\u001b[1m782/782\u001b[0m \u001b[32m━━━━━━━━━━━━━━━━━━━━\u001b[0m\u001b[37m\u001b[0m \u001b[1m41s\u001b[0m 31ms/step - accuracy: 0.4873 - loss: 1.4368 - val_accuracy: 0.4671 - val_loss: 1.4867\n",
            "Epoch 8/200\n",
            "\u001b[1m782/782\u001b[0m \u001b[32m━━━━━━━━━━━━━━━━━━━━\u001b[0m\u001b[37m\u001b[0m \u001b[1m24s\u001b[0m 31ms/step - accuracy: 0.4900 - loss: 1.4204 - val_accuracy: 0.4638 - val_loss: 1.4852\n",
            "Epoch 9/200\n",
            "\u001b[1m782/782\u001b[0m \u001b[32m━━━━━━━━━━━━━━━━━━━━\u001b[0m\u001b[37m\u001b[0m \u001b[1m41s\u001b[0m 31ms/step - accuracy: 0.5079 - loss: 1.3679 - val_accuracy: 0.4793 - val_loss: 1.4426\n",
            "Epoch 10/200\n",
            "\u001b[1m782/782\u001b[0m \u001b[32m━━━━━━━━━━━━━━━━━━━━\u001b[0m\u001b[37m\u001b[0m \u001b[1m41s\u001b[0m 31ms/step - accuracy: 0.5101 - loss: 1.3538 - val_accuracy: 0.4682 - val_loss: 1.4929\n",
            "Epoch 11/200\n",
            "\u001b[1m782/782\u001b[0m \u001b[32m━━━━━━━━━━━━━━━━━━━━\u001b[0m\u001b[37m\u001b[0m \u001b[1m25s\u001b[0m 32ms/step - accuracy: 0.5195 - loss: 1.3292 - val_accuracy: 0.4969 - val_loss: 1.4207\n",
            "Epoch 12/200\n",
            "\u001b[1m782/782\u001b[0m \u001b[32m━━━━━━━━━━━━━━━━━━━━\u001b[0m\u001b[37m\u001b[0m \u001b[1m40s\u001b[0m 31ms/step - accuracy: 0.5342 - loss: 1.3019 - val_accuracy: 0.5036 - val_loss: 1.4110\n",
            "Epoch 13/200\n",
            "\u001b[1m782/782\u001b[0m \u001b[32m━━━━━━━━━━━━━━━━━━━━\u001b[0m\u001b[37m\u001b[0m \u001b[1m41s\u001b[0m 31ms/step - accuracy: 0.5404 - loss: 1.2796 - val_accuracy: 0.5041 - val_loss: 1.3991\n",
            "Epoch 14/200\n",
            "\u001b[1m782/782\u001b[0m \u001b[32m━━━━━━━━━━━━━━━━━━━━\u001b[0m\u001b[37m\u001b[0m \u001b[1m40s\u001b[0m 30ms/step - accuracy: 0.5473 - loss: 1.2474 - val_accuracy: 0.4992 - val_loss: 1.4115\n",
            "Epoch 15/200\n",
            "\u001b[1m782/782\u001b[0m \u001b[32m━━━━━━━━━━━━━━━━━━━━\u001b[0m\u001b[37m\u001b[0m \u001b[1m24s\u001b[0m 31ms/step - accuracy: 0.5601 - loss: 1.2295 - val_accuracy: 0.5020 - val_loss: 1.4103\n",
            "Epoch 16/200\n",
            "\u001b[1m782/782\u001b[0m \u001b[32m━━━━━━━━━━━━━━━━━━━━\u001b[0m\u001b[37m\u001b[0m \u001b[1m41s\u001b[0m 30ms/step - accuracy: 0.5622 - loss: 1.2095 - val_accuracy: 0.4985 - val_loss: 1.4525\n",
            "Epoch 17/200\n",
            "\u001b[1m782/782\u001b[0m \u001b[32m━━━━━━━━━━━━━━━━━━━━\u001b[0m\u001b[37m\u001b[0m \u001b[1m41s\u001b[0m 30ms/step - accuracy: 0.5676 - loss: 1.2039 - val_accuracy: 0.5057 - val_loss: 1.4356\n",
            "Epoch 18/200\n",
            "\u001b[1m782/782\u001b[0m \u001b[32m━━━━━━━━━━━━━━━━━━━━\u001b[0m\u001b[37m\u001b[0m \u001b[1m25s\u001b[0m 33ms/step - accuracy: 0.5753 - loss: 1.1755 - val_accuracy: 0.5039 - val_loss: 1.4153\n",
            "Epoch 19/200\n",
            "\u001b[1m782/782\u001b[0m \u001b[32m━━━━━━━━━━━━━━━━━━━━\u001b[0m\u001b[37m\u001b[0m \u001b[1m39s\u001b[0m 31ms/step - accuracy: 0.5871 - loss: 1.1461 - val_accuracy: 0.5135 - val_loss: 1.4125\n",
            "Epoch 20/200\n",
            "\u001b[1m782/782\u001b[0m \u001b[32m━━━━━━━━━━━━━━━━━━━━\u001b[0m\u001b[37m\u001b[0m \u001b[1m41s\u001b[0m 31ms/step - accuracy: 0.5919 - loss: 1.1321 - val_accuracy: 0.5075 - val_loss: 1.4247\n",
            "Epoch 21/200\n",
            "\u001b[1m782/782\u001b[0m \u001b[32m━━━━━━━━━━━━━━━━━━━━\u001b[0m\u001b[37m\u001b[0m \u001b[1m41s\u001b[0m 31ms/step - accuracy: 0.5916 - loss: 1.1248 - val_accuracy: 0.5077 - val_loss: 1.4493\n",
            "Epoch 22/200\n",
            "\u001b[1m782/782\u001b[0m \u001b[32m━━━━━━━━━━━━━━━━━━━━\u001b[0m\u001b[37m\u001b[0m \u001b[1m41s\u001b[0m 31ms/step - accuracy: 0.6006 - loss: 1.0957 - val_accuracy: 0.5112 - val_loss: 1.4430\n",
            "Epoch 23/200\n",
            "\u001b[1m782/782\u001b[0m \u001b[32m━━━━━━━━━━━━━━━━━━━━\u001b[0m\u001b[37m\u001b[0m \u001b[1m25s\u001b[0m 32ms/step - accuracy: 0.6075 - loss: 1.0748 - val_accuracy: 0.5154 - val_loss: 1.4425\n",
            "Epoch 24/200\n",
            "\u001b[1m782/782\u001b[0m \u001b[32m━━━━━━━━━━━━━━━━━━━━\u001b[0m\u001b[37m\u001b[0m \u001b[1m24s\u001b[0m 31ms/step - accuracy: 0.6128 - loss: 1.0663 - val_accuracy: 0.5045 - val_loss: 1.4585\n",
            "Epoch 25/200\n",
            "\u001b[1m782/782\u001b[0m \u001b[32m━━━━━━━━━━━━━━━━━━━━\u001b[0m\u001b[37m\u001b[0m \u001b[1m41s\u001b[0m 31ms/step - accuracy: 0.6191 - loss: 1.0489 - val_accuracy: 0.5216 - val_loss: 1.4278\n",
            "Epoch 26/200\n",
            "\u001b[1m782/782\u001b[0m \u001b[32m━━━━━━━━━━━━━━━━━━━━\u001b[0m\u001b[37m\u001b[0m \u001b[1m41s\u001b[0m 31ms/step - accuracy: 0.6268 - loss: 1.0356 - val_accuracy: 0.5112 - val_loss: 1.4674\n",
            "Epoch 27/200\n",
            "\u001b[1m782/782\u001b[0m \u001b[32m━━━━━━━━━━━━━━━━━━━━\u001b[0m\u001b[37m\u001b[0m \u001b[1m41s\u001b[0m 31ms/step - accuracy: 0.6347 - loss: 1.0132 - val_accuracy: 0.5089 - val_loss: 1.4845\n",
            "Epoch 28/200\n",
            "\u001b[1m782/782\u001b[0m \u001b[32m━━━━━━━━━━━━━━━━━━━━\u001b[0m\u001b[37m\u001b[0m \u001b[1m23s\u001b[0m 30ms/step - accuracy: 0.6353 - loss: 1.0067 - val_accuracy: 0.5018 - val_loss: 1.5227\n",
            "Epoch 29/200\n",
            "\u001b[1m782/782\u001b[0m \u001b[32m━━━━━━━━━━━━━━━━━━━━\u001b[0m\u001b[37m\u001b[0m \u001b[1m24s\u001b[0m 31ms/step - accuracy: 0.6405 - loss: 0.9864 - val_accuracy: 0.5062 - val_loss: 1.5404\n",
            "Epoch 30/200\n",
            "\u001b[1m782/782\u001b[0m \u001b[32m━━━━━━━━━━━━━━━━━━━━\u001b[0m\u001b[37m\u001b[0m \u001b[1m42s\u001b[0m 32ms/step - accuracy: 0.6460 - loss: 0.9692 - val_accuracy: 0.5187 - val_loss: 1.4940\n",
            "Epoch 31/200\n",
            "\u001b[1m782/782\u001b[0m \u001b[32m━━━━━━━━━━━━━━━━━━━━\u001b[0m\u001b[37m\u001b[0m \u001b[1m25s\u001b[0m 31ms/step - accuracy: 0.6572 - loss: 0.9557 - val_accuracy: 0.5052 - val_loss: 1.5530\n",
            "Epoch 32/200\n",
            "\u001b[1m782/782\u001b[0m \u001b[32m━━━━━━━━━━━━━━━━━━━━\u001b[0m\u001b[37m\u001b[0m \u001b[1m40s\u001b[0m 31ms/step - accuracy: 0.6538 - loss: 0.9573 - val_accuracy: 0.5022 - val_loss: 1.5684\n",
            "Epoch 33/200\n",
            "\u001b[1m782/782\u001b[0m \u001b[32m━━━━━━━━━━━━━━━━━━━━\u001b[0m\u001b[37m\u001b[0m \u001b[1m41s\u001b[0m 31ms/step - accuracy: 0.6620 - loss: 0.9256 - val_accuracy: 0.5036 - val_loss: 1.5926\n",
            "Epoch 34/200\n",
            "\u001b[1m782/782\u001b[0m \u001b[32m━━━━━━━━━━━━━━━━━━━━\u001b[0m\u001b[37m\u001b[0m \u001b[1m24s\u001b[0m 31ms/step - accuracy: 0.6671 - loss: 0.9228 - val_accuracy: 0.5118 - val_loss: 1.5362\n",
            "Epoch 35/200\n",
            "\u001b[1m782/782\u001b[0m \u001b[32m━━━━━━━━━━━━━━━━━━━━\u001b[0m\u001b[37m\u001b[0m \u001b[1m41s\u001b[0m 31ms/step - accuracy: 0.6714 - loss: 0.9158 - val_accuracy: 0.5132 - val_loss: 1.6132\n",
            "Epoch 36/200\n",
            "\u001b[1m782/782\u001b[0m \u001b[32m━━━━━━━━━━━━━━━━━━━━\u001b[0m\u001b[37m\u001b[0m \u001b[1m41s\u001b[0m 31ms/step - accuracy: 0.6768 - loss: 0.8952 - val_accuracy: 0.5032 - val_loss: 1.6163\n",
            "Epoch 37/200\n",
            "\u001b[1m782/782\u001b[0m \u001b[32m━━━━━━━━━━━━━━━━━━━━\u001b[0m\u001b[37m\u001b[0m \u001b[1m41s\u001b[0m 31ms/step - accuracy: 0.6752 - loss: 0.8912 - val_accuracy: 0.4987 - val_loss: 1.6144\n",
            "Epoch 38/200\n",
            "\u001b[1m782/782\u001b[0m \u001b[32m━━━━━━━━━━━━━━━━━━━━\u001b[0m\u001b[37m\u001b[0m \u001b[1m41s\u001b[0m 31ms/step - accuracy: 0.6843 - loss: 0.8733 - val_accuracy: 0.5075 - val_loss: 1.6244\n",
            "Epoch 39/200\n",
            "\u001b[1m782/782\u001b[0m \u001b[32m━━━━━━━━━━━━━━━━━━━━\u001b[0m\u001b[37m\u001b[0m \u001b[1m24s\u001b[0m 31ms/step - accuracy: 0.6892 - loss: 0.8570 - val_accuracy: 0.5080 - val_loss: 1.6668\n",
            "Epoch 40/200\n",
            "\u001b[1m782/782\u001b[0m \u001b[32m━━━━━━━━━━━━━━━━━━━━\u001b[0m\u001b[37m\u001b[0m \u001b[1m24s\u001b[0m 31ms/step - accuracy: 0.6899 - loss: 0.8508 - val_accuracy: 0.5045 - val_loss: 1.6501\n",
            "Epoch 41/200\n",
            "\u001b[1m782/782\u001b[0m \u001b[32m━━━━━━━━━━━━━━━━━━━━\u001b[0m\u001b[37m\u001b[0m \u001b[1m25s\u001b[0m 32ms/step - accuracy: 0.6924 - loss: 0.8536 - val_accuracy: 0.5051 - val_loss: 1.6899\n",
            "Epoch 42/200\n",
            "\u001b[1m782/782\u001b[0m \u001b[32m━━━━━━━━━━━━━━━━━━━━\u001b[0m\u001b[37m\u001b[0m \u001b[1m40s\u001b[0m 31ms/step - accuracy: 0.6941 - loss: 0.8396 - val_accuracy: 0.4967 - val_loss: 1.6467\n",
            "Epoch 43/200\n",
            "\u001b[1m782/782\u001b[0m \u001b[32m━━━━━━━━━━━━━━━━━━━━\u001b[0m\u001b[37m\u001b[0m \u001b[1m41s\u001b[0m 31ms/step - accuracy: 0.7039 - loss: 0.8157 - val_accuracy: 0.5002 - val_loss: 1.7519\n",
            "Epoch 44/200\n",
            "\u001b[1m782/782\u001b[0m \u001b[32m━━━━━━━━━━━━━━━━━━━━\u001b[0m\u001b[37m\u001b[0m \u001b[1m24s\u001b[0m 31ms/step - accuracy: 0.7038 - loss: 0.8148 - val_accuracy: 0.4961 - val_loss: 1.7815\n",
            "Epoch 45/200\n",
            "\u001b[1m782/782\u001b[0m \u001b[32m━━━━━━━━━━━━━━━━━━━━\u001b[0m\u001b[37m\u001b[0m \u001b[1m24s\u001b[0m 31ms/step - accuracy: 0.7106 - loss: 0.7997 - val_accuracy: 0.4970 - val_loss: 1.7846\n",
            "Epoch 46/200\n",
            "\u001b[1m782/782\u001b[0m \u001b[32m━━━━━━━━━━━━━━━━━━━━\u001b[0m\u001b[37m\u001b[0m \u001b[1m24s\u001b[0m 31ms/step - accuracy: 0.7134 - loss: 0.7855 - val_accuracy: 0.4935 - val_loss: 1.8164\n",
            "Epoch 47/200\n",
            "\u001b[1m782/782\u001b[0m \u001b[32m━━━━━━━━━━━━━━━━━━━━\u001b[0m\u001b[37m\u001b[0m \u001b[1m41s\u001b[0m 31ms/step - accuracy: 0.7149 - loss: 0.7819 - val_accuracy: 0.4960 - val_loss: 1.8780\n",
            "Epoch 48/200\n",
            "\u001b[1m782/782\u001b[0m \u001b[32m━━━━━━━━━━━━━━━━━━━━\u001b[0m\u001b[37m\u001b[0m \u001b[1m41s\u001b[0m 31ms/step - accuracy: 0.7213 - loss: 0.7671 - val_accuracy: 0.4988 - val_loss: 1.8254\n",
            "Epoch 49/200\n",
            "\u001b[1m782/782\u001b[0m \u001b[32m━━━━━━━━━━━━━━━━━━━━\u001b[0m\u001b[37m\u001b[0m \u001b[1m41s\u001b[0m 31ms/step - accuracy: 0.7238 - loss: 0.7587 - val_accuracy: 0.4940 - val_loss: 1.8276\n",
            "Epoch 50/200\n",
            "\u001b[1m782/782\u001b[0m \u001b[32m━━━━━━━━━━━━━━━━━━━━\u001b[0m\u001b[37m\u001b[0m \u001b[1m23s\u001b[0m 30ms/step - accuracy: 0.7245 - loss: 0.7630 - val_accuracy: 0.4958 - val_loss: 1.8776\n",
            "Epoch 51/200\n",
            "\u001b[1m782/782\u001b[0m \u001b[32m━━━━━━━━━━━━━━━━━━━━\u001b[0m\u001b[37m\u001b[0m \u001b[1m24s\u001b[0m 31ms/step - accuracy: 0.7244 - loss: 0.7510 - val_accuracy: 0.4982 - val_loss: 1.8464\n",
            "Epoch 52/200\n",
            "\u001b[1m782/782\u001b[0m \u001b[32m━━━━━━━━━━━━━━━━━━━━\u001b[0m\u001b[37m\u001b[0m \u001b[1m41s\u001b[0m 31ms/step - accuracy: 0.7288 - loss: 0.7427 - val_accuracy: 0.4970 - val_loss: 1.8996\n",
            "Epoch 53/200\n",
            "\u001b[1m782/782\u001b[0m \u001b[32m━━━━━━━━━━━━━━━━━━━━\u001b[0m\u001b[37m\u001b[0m \u001b[1m23s\u001b[0m 30ms/step - accuracy: 0.7306 - loss: 0.7384 - val_accuracy: 0.4955 - val_loss: 1.9318\n",
            "Epoch 54/200\n",
            "\u001b[1m782/782\u001b[0m \u001b[32m━━━━━━━━━━━━━━━━━━━━\u001b[0m\u001b[37m\u001b[0m \u001b[1m24s\u001b[0m 31ms/step - accuracy: 0.7327 - loss: 0.7314 - val_accuracy: 0.5024 - val_loss: 1.9340\n",
            "Epoch 55/200\n",
            "\u001b[1m782/782\u001b[0m \u001b[32m━━━━━━━━━━━━━━━━━━━━\u001b[0m\u001b[37m\u001b[0m \u001b[1m24s\u001b[0m 31ms/step - accuracy: 0.7396 - loss: 0.7148 - val_accuracy: 0.4879 - val_loss: 1.9794\n",
            "Epoch 56/200\n",
            "\u001b[1m782/782\u001b[0m \u001b[32m━━━━━━━━━━━━━━━━━━━━\u001b[0m\u001b[37m\u001b[0m \u001b[1m40s\u001b[0m 30ms/step - accuracy: 0.7386 - loss: 0.7146 - val_accuracy: 0.4953 - val_loss: 1.9682\n",
            "Epoch 57/200\n",
            "\u001b[1m782/782\u001b[0m \u001b[32m━━━━━━━━━━━━━━━━━━━━\u001b[0m\u001b[37m\u001b[0m \u001b[1m42s\u001b[0m 31ms/step - accuracy: 0.7432 - loss: 0.7107 - val_accuracy: 0.4867 - val_loss: 2.0817\n",
            "Epoch 58/200\n",
            "\u001b[1m782/782\u001b[0m \u001b[32m━━━━━━━━━━━━━━━━━━━━\u001b[0m\u001b[37m\u001b[0m \u001b[1m41s\u001b[0m 31ms/step - accuracy: 0.7478 - loss: 0.6865 - val_accuracy: 0.4967 - val_loss: 1.9757\n",
            "Epoch 59/200\n",
            "\u001b[1m782/782\u001b[0m \u001b[32m━━━━━━━━━━━━━━━━━━━━\u001b[0m\u001b[37m\u001b[0m \u001b[1m24s\u001b[0m 31ms/step - accuracy: 0.7480 - loss: 0.6957 - val_accuracy: 0.4884 - val_loss: 2.0354\n",
            "Epoch 60/200\n",
            "\u001b[1m782/782\u001b[0m \u001b[32m━━━━━━━━━━━━━━━━━━━━\u001b[0m\u001b[37m\u001b[0m \u001b[1m25s\u001b[0m 31ms/step - accuracy: 0.7521 - loss: 0.6772 - val_accuracy: 0.4823 - val_loss: 2.0685\n",
            "Epoch 61/200\n",
            "\u001b[1m782/782\u001b[0m \u001b[32m━━━━━━━━━━━━━━━━━━━━\u001b[0m\u001b[37m\u001b[0m \u001b[1m25s\u001b[0m 32ms/step - accuracy: 0.7541 - loss: 0.6819 - val_accuracy: 0.4870 - val_loss: 2.0409\n",
            "Epoch 62/200\n",
            "\u001b[1m782/782\u001b[0m \u001b[32m━━━━━━━━━━━━━━━━━━━━\u001b[0m\u001b[37m\u001b[0m \u001b[1m41s\u001b[0m 32ms/step - accuracy: 0.7594 - loss: 0.6718 - val_accuracy: 0.4882 - val_loss: 2.1222\n",
            "Epoch 63/200\n",
            "\u001b[1m782/782\u001b[0m \u001b[32m━━━━━━━━━━━━━━━━━━━━\u001b[0m\u001b[37m\u001b[0m \u001b[1m41s\u001b[0m 31ms/step - accuracy: 0.7595 - loss: 0.6564 - val_accuracy: 0.4867 - val_loss: 2.1308\n",
            "Epoch 64/200\n",
            "\u001b[1m782/782\u001b[0m \u001b[32m━━━━━━━━━━━━━━━━━━━━\u001b[0m\u001b[37m\u001b[0m \u001b[1m40s\u001b[0m 30ms/step - accuracy: 0.7637 - loss: 0.6614 - val_accuracy: 0.4945 - val_loss: 2.0962\n",
            "Epoch 65/200\n",
            "\u001b[1m782/782\u001b[0m \u001b[32m━━━━━━━━━━━━━━━━━━━━\u001b[0m\u001b[37m\u001b[0m \u001b[1m42s\u001b[0m 31ms/step - accuracy: 0.7603 - loss: 0.6629 - val_accuracy: 0.4897 - val_loss: 2.1171\n",
            "Epoch 66/200\n",
            "\u001b[1m782/782\u001b[0m \u001b[32m━━━━━━━━━━━━━━━━━━━━\u001b[0m\u001b[37m\u001b[0m \u001b[1m25s\u001b[0m 31ms/step - accuracy: 0.7657 - loss: 0.6428 - val_accuracy: 0.4926 - val_loss: 2.1455\n",
            "Epoch 67/200\n",
            "\u001b[1m782/782\u001b[0m \u001b[32m━━━━━━━━━━━━━━━━━━━━\u001b[0m\u001b[37m\u001b[0m \u001b[1m41s\u001b[0m 31ms/step - accuracy: 0.7694 - loss: 0.6349 - val_accuracy: 0.4867 - val_loss: 2.2425\n",
            "Epoch 68/200\n",
            "\u001b[1m782/782\u001b[0m \u001b[32m━━━━━━━━━━━━━━━━━━━━\u001b[0m\u001b[37m\u001b[0m \u001b[1m41s\u001b[0m 31ms/step - accuracy: 0.7665 - loss: 0.6416 - val_accuracy: 0.4912 - val_loss: 2.1611\n",
            "Epoch 69/200\n",
            "\u001b[1m782/782\u001b[0m \u001b[32m━━━━━━━━━━━━━━━━━━━━\u001b[0m\u001b[37m\u001b[0m \u001b[1m41s\u001b[0m 32ms/step - accuracy: 0.7713 - loss: 0.6281 - val_accuracy: 0.4957 - val_loss: 2.2157\n",
            "Epoch 70/200\n",
            "\u001b[1m782/782\u001b[0m \u001b[32m━━━━━━━━━━━━━━━━━━━━\u001b[0m\u001b[37m\u001b[0m \u001b[1m41s\u001b[0m 31ms/step - accuracy: 0.7718 - loss: 0.6302 - val_accuracy: 0.4981 - val_loss: 2.0919\n",
            "Epoch 71/200\n",
            "\u001b[1m782/782\u001b[0m \u001b[32m━━━━━━━━━━━━━━━━━━━━\u001b[0m\u001b[37m\u001b[0m \u001b[1m41s\u001b[0m 31ms/step - accuracy: 0.7751 - loss: 0.6172 - val_accuracy: 0.4866 - val_loss: 2.2705\n",
            "Epoch 72/200\n",
            "\u001b[1m782/782\u001b[0m \u001b[32m━━━━━━━━━━━━━━━━━━━━\u001b[0m\u001b[37m\u001b[0m \u001b[1m25s\u001b[0m 31ms/step - accuracy: 0.7806 - loss: 0.6055 - val_accuracy: 0.4835 - val_loss: 2.2715\n",
            "Epoch 73/200\n",
            "\u001b[1m782/782\u001b[0m \u001b[32m━━━━━━━━━━━━━━━━━━━━\u001b[0m\u001b[37m\u001b[0m \u001b[1m25s\u001b[0m 32ms/step - accuracy: 0.7736 - loss: 0.6183 - val_accuracy: 0.4854 - val_loss: 2.3678\n",
            "Epoch 74/200\n",
            "\u001b[1m782/782\u001b[0m \u001b[32m━━━━━━━━━━━━━━━━━━━━\u001b[0m\u001b[37m\u001b[0m \u001b[1m41s\u001b[0m 31ms/step - accuracy: 0.7796 - loss: 0.6063 - val_accuracy: 0.4766 - val_loss: 2.3023\n",
            "Epoch 75/200\n",
            "\u001b[1m782/782\u001b[0m \u001b[32m━━━━━━━━━━━━━━━━━━━━\u001b[0m\u001b[37m\u001b[0m \u001b[1m40s\u001b[0m 31ms/step - accuracy: 0.7803 - loss: 0.6024 - val_accuracy: 0.4895 - val_loss: 2.3293\n",
            "Epoch 76/200\n",
            "\u001b[1m782/782\u001b[0m \u001b[32m━━━━━━━━━━━━━━━━━━━━\u001b[0m\u001b[37m\u001b[0m \u001b[1m42s\u001b[0m 32ms/step - accuracy: 0.7871 - loss: 0.5859 - val_accuracy: 0.4775 - val_loss: 2.4724\n",
            "Epoch 77/200\n",
            "\u001b[1m782/782\u001b[0m \u001b[32m━━━━━━━━━━━━━━━━━━━━\u001b[0m\u001b[37m\u001b[0m \u001b[1m41s\u001b[0m 31ms/step - accuracy: 0.7796 - loss: 0.6062 - val_accuracy: 0.4930 - val_loss: 2.2926\n",
            "Epoch 78/200\n",
            "\u001b[1m782/782\u001b[0m \u001b[32m━━━━━━━━━━━━━━━━━━━━\u001b[0m\u001b[37m\u001b[0m \u001b[1m41s\u001b[0m 31ms/step - accuracy: 0.7950 - loss: 0.5689 - val_accuracy: 0.4885 - val_loss: 2.5302\n",
            "Epoch 79/200\n",
            "\u001b[1m782/782\u001b[0m \u001b[32m━━━━━━━━━━━━━━━━━━━━\u001b[0m\u001b[37m\u001b[0m \u001b[1m41s\u001b[0m 31ms/step - accuracy: 0.7924 - loss: 0.5686 - val_accuracy: 0.4828 - val_loss: 2.4589\n",
            "Epoch 80/200\n",
            "\u001b[1m782/782\u001b[0m \u001b[32m━━━━━━━━━━━━━━━━━━━━\u001b[0m\u001b[37m\u001b[0m \u001b[1m24s\u001b[0m 30ms/step - accuracy: 0.7814 - loss: 0.5960 - val_accuracy: 0.4864 - val_loss: 2.3844\n",
            "Epoch 81/200\n",
            "\u001b[1m782/782\u001b[0m \u001b[32m━━━━━━━━━━━━━━━━━━━━\u001b[0m\u001b[37m\u001b[0m \u001b[1m24s\u001b[0m 31ms/step - accuracy: 0.7915 - loss: 0.5746 - val_accuracy: 0.4828 - val_loss: 2.3919\n",
            "Epoch 82/200\n",
            "\u001b[1m782/782\u001b[0m \u001b[32m━━━━━━━━━━━━━━━━━━━━\u001b[0m\u001b[37m\u001b[0m \u001b[1m42s\u001b[0m 32ms/step - accuracy: 0.7953 - loss: 0.5646 - val_accuracy: 0.4790 - val_loss: 2.4865\n",
            "Epoch 83/200\n",
            "\u001b[1m782/782\u001b[0m \u001b[32m━━━━━━━━━━━━━━━━━━━━\u001b[0m\u001b[37m\u001b[0m \u001b[1m26s\u001b[0m 33ms/step - accuracy: 0.7976 - loss: 0.5584 - val_accuracy: 0.4848 - val_loss: 2.4150\n",
            "Epoch 84/200\n",
            "\u001b[1m782/782\u001b[0m \u001b[32m━━━━━━━━━━━━━━━━━━━━\u001b[0m\u001b[37m\u001b[0m \u001b[1m39s\u001b[0m 31ms/step - accuracy: 0.7998 - loss: 0.5524 - val_accuracy: 0.4835 - val_loss: 2.4775\n",
            "Epoch 85/200\n",
            "\u001b[1m782/782\u001b[0m \u001b[32m━━━━━━━━━━━━━━━━━━━━\u001b[0m\u001b[37m\u001b[0m \u001b[1m41s\u001b[0m 31ms/step - accuracy: 0.7960 - loss: 0.5581 - val_accuracy: 0.4868 - val_loss: 2.4554\n",
            "Epoch 86/200\n",
            "\u001b[1m782/782\u001b[0m \u001b[32m━━━━━━━━━━━━━━━━━━━━\u001b[0m\u001b[37m\u001b[0m \u001b[1m42s\u001b[0m 32ms/step - accuracy: 0.8073 - loss: 0.5347 - val_accuracy: 0.4764 - val_loss: 2.5613\n",
            "Epoch 87/200\n",
            "\u001b[1m782/782\u001b[0m \u001b[32m━━━━━━━━━━━━━━━━━━━━\u001b[0m\u001b[37m\u001b[0m \u001b[1m24s\u001b[0m 31ms/step - accuracy: 0.8003 - loss: 0.5468 - val_accuracy: 0.4852 - val_loss: 2.6305\n",
            "Epoch 88/200\n",
            "\u001b[1m782/782\u001b[0m \u001b[32m━━━━━━━━━━━━━━━━━━━━\u001b[0m\u001b[37m\u001b[0m \u001b[1m42s\u001b[0m 32ms/step - accuracy: 0.7971 - loss: 0.5429 - val_accuracy: 0.4804 - val_loss: 2.6581\n",
            "Epoch 89/200\n",
            "\u001b[1m782/782\u001b[0m \u001b[32m━━━━━━━━━━━━━━━━━━━━\u001b[0m\u001b[37m\u001b[0m \u001b[1m41s\u001b[0m 31ms/step - accuracy: 0.7940 - loss: 0.5595 - val_accuracy: 0.4835 - val_loss: 2.6455\n",
            "Epoch 90/200\n",
            "\u001b[1m782/782\u001b[0m \u001b[32m━━━━━━━━━━━━━━━━━━━━\u001b[0m\u001b[37m\u001b[0m \u001b[1m24s\u001b[0m 31ms/step - accuracy: 0.8133 - loss: 0.5137 - val_accuracy: 0.4797 - val_loss: 2.6307\n",
            "Epoch 91/200\n",
            "\u001b[1m782/782\u001b[0m \u001b[32m━━━━━━━━━━━━━━━━━━━━\u001b[0m\u001b[37m\u001b[0m \u001b[1m24s\u001b[0m 31ms/step - accuracy: 0.8080 - loss: 0.5268 - val_accuracy: 0.4826 - val_loss: 2.6188\n",
            "Epoch 92/200\n",
            "\u001b[1m782/782\u001b[0m \u001b[32m━━━━━━━━━━━━━━━━━━━━\u001b[0m\u001b[37m\u001b[0m \u001b[1m40s\u001b[0m 30ms/step - accuracy: 0.8091 - loss: 0.5284 - val_accuracy: 0.4749 - val_loss: 2.6154\n",
            "Epoch 93/200\n",
            "\u001b[1m782/782\u001b[0m \u001b[32m━━━━━━━━━━━━━━━━━━━━\u001b[0m\u001b[37m\u001b[0m \u001b[1m24s\u001b[0m 31ms/step - accuracy: 0.8099 - loss: 0.5257 - val_accuracy: 0.4808 - val_loss: 2.6775\n",
            "Epoch 94/200\n",
            "\u001b[1m782/782\u001b[0m \u001b[32m━━━━━━━━━━━━━━━━━━━━\u001b[0m\u001b[37m\u001b[0m \u001b[1m24s\u001b[0m 31ms/step - accuracy: 0.8102 - loss: 0.5194 - val_accuracy: 0.4891 - val_loss: 2.6371\n",
            "Epoch 95/200\n",
            "\u001b[1m782/782\u001b[0m \u001b[32m━━━━━━━━━━━━━━━━━━━━\u001b[0m\u001b[37m\u001b[0m \u001b[1m42s\u001b[0m 32ms/step - accuracy: 0.8016 - loss: 0.5375 - val_accuracy: 0.4829 - val_loss: 2.6754\n",
            "Epoch 96/200\n",
            "\u001b[1m782/782\u001b[0m \u001b[32m━━━━━━━━━━━━━━━━━━━━\u001b[0m\u001b[37m\u001b[0m \u001b[1m41s\u001b[0m 32ms/step - accuracy: 0.8089 - loss: 0.5194 - val_accuracy: 0.4810 - val_loss: 2.7567\n",
            "Epoch 97/200\n",
            "\u001b[1m782/782\u001b[0m \u001b[32m━━━━━━━━━━━━━━━━━━━━\u001b[0m\u001b[37m\u001b[0m \u001b[1m41s\u001b[0m 32ms/step - accuracy: 0.8184 - loss: 0.4990 - val_accuracy: 0.4739 - val_loss: 2.7922\n",
            "Epoch 98/200\n",
            "\u001b[1m782/782\u001b[0m \u001b[32m━━━━━━━━━━━━━━━━━━━━\u001b[0m\u001b[37m\u001b[0m \u001b[1m41s\u001b[0m 32ms/step - accuracy: 0.8150 - loss: 0.5087 - val_accuracy: 0.4870 - val_loss: 2.7816\n",
            "Epoch 99/200\n",
            "\u001b[1m782/782\u001b[0m \u001b[32m━━━━━━━━━━━━━━━━━━━━\u001b[0m\u001b[37m\u001b[0m \u001b[1m41s\u001b[0m 32ms/step - accuracy: 0.8143 - loss: 0.5077 - val_accuracy: 0.4765 - val_loss: 2.7335\n",
            "Epoch 100/200\n",
            "\u001b[1m782/782\u001b[0m \u001b[32m━━━━━━━━━━━━━━━━━━━━\u001b[0m\u001b[37m\u001b[0m \u001b[1m41s\u001b[0m 32ms/step - accuracy: 0.8140 - loss: 0.5061 - val_accuracy: 0.4796 - val_loss: 2.8090\n",
            "Epoch 101/200\n",
            "\u001b[1m782/782\u001b[0m \u001b[32m━━━━━━━━━━━━━━━━━━━━\u001b[0m\u001b[37m\u001b[0m \u001b[1m42s\u001b[0m 33ms/step - accuracy: 0.8178 - loss: 0.4960 - val_accuracy: 0.4809 - val_loss: 2.7944\n",
            "Epoch 102/200\n",
            "\u001b[1m782/782\u001b[0m \u001b[32m━━━━━━━━━━━━━━━━━━━━\u001b[0m\u001b[37m\u001b[0m \u001b[1m40s\u001b[0m 32ms/step - accuracy: 0.8167 - loss: 0.4975 - val_accuracy: 0.4708 - val_loss: 2.9387\n",
            "Epoch 103/200\n",
            "\u001b[1m782/782\u001b[0m \u001b[32m━━━━━━━━━━━━━━━━━━━━\u001b[0m\u001b[37m\u001b[0m \u001b[1m25s\u001b[0m 32ms/step - accuracy: 0.8180 - loss: 0.5027 - val_accuracy: 0.4800 - val_loss: 2.9277\n",
            "Epoch 104/200\n",
            "\u001b[1m782/782\u001b[0m \u001b[32m━━━━━━━━━━━━━━━━━━━━\u001b[0m\u001b[37m\u001b[0m \u001b[1m25s\u001b[0m 32ms/step - accuracy: 0.8226 - loss: 0.4855 - val_accuracy: 0.4842 - val_loss: 2.7854\n",
            "Epoch 105/200\n",
            "\u001b[1m782/782\u001b[0m \u001b[32m━━━━━━━━━━━━━━━━━━━━\u001b[0m\u001b[37m\u001b[0m \u001b[1m41s\u001b[0m 32ms/step - accuracy: 0.8205 - loss: 0.4956 - val_accuracy: 0.4801 - val_loss: 2.9129\n",
            "Epoch 106/200\n",
            "\u001b[1m782/782\u001b[0m \u001b[32m━━━━━━━━━━━━━━━━━━━━\u001b[0m\u001b[37m\u001b[0m \u001b[1m40s\u001b[0m 31ms/step - accuracy: 0.8305 - loss: 0.4675 - val_accuracy: 0.4805 - val_loss: 2.9750\n",
            "Epoch 107/200\n",
            "\u001b[1m782/782\u001b[0m \u001b[32m━━━━━━━━━━━━━━━━━━━━\u001b[0m\u001b[37m\u001b[0m \u001b[1m42s\u001b[0m 32ms/step - accuracy: 0.8198 - loss: 0.4892 - val_accuracy: 0.4798 - val_loss: 2.8853\n",
            "Epoch 108/200\n",
            "\u001b[1m782/782\u001b[0m \u001b[32m━━━━━━━━━━━━━━━━━━━━\u001b[0m\u001b[37m\u001b[0m \u001b[1m41s\u001b[0m 32ms/step - accuracy: 0.8265 - loss: 0.4833 - val_accuracy: 0.4769 - val_loss: 2.9733\n",
            "Epoch 109/200\n",
            "\u001b[1m782/782\u001b[0m \u001b[32m━━━━━━━━━━━━━━━━━━━━\u001b[0m\u001b[37m\u001b[0m \u001b[1m25s\u001b[0m 32ms/step - accuracy: 0.8288 - loss: 0.4742 - val_accuracy: 0.4718 - val_loss: 2.9471\n",
            "Epoch 110/200\n",
            "\u001b[1m782/782\u001b[0m \u001b[32m━━━━━━━━━━━━━━━━━━━━\u001b[0m\u001b[37m\u001b[0m \u001b[1m42s\u001b[0m 32ms/step - accuracy: 0.8275 - loss: 0.4764 - val_accuracy: 0.4759 - val_loss: 2.9311\n",
            "Epoch 111/200\n",
            "\u001b[1m782/782\u001b[0m \u001b[32m━━━━━━━━━━━━━━━━━━━━\u001b[0m\u001b[37m\u001b[0m \u001b[1m41s\u001b[0m 32ms/step - accuracy: 0.8355 - loss: 0.4579 - val_accuracy: 0.4808 - val_loss: 3.0493\n",
            "Epoch 112/200\n",
            "\u001b[1m782/782\u001b[0m \u001b[32m━━━━━━━━━━━━━━━━━━━━\u001b[0m\u001b[37m\u001b[0m \u001b[1m41s\u001b[0m 32ms/step - accuracy: 0.8295 - loss: 0.4690 - val_accuracy: 0.4773 - val_loss: 3.0969\n",
            "Epoch 113/200\n",
            "\u001b[1m782/782\u001b[0m \u001b[32m━━━━━━━━━━━━━━━━━━━━\u001b[0m\u001b[37m\u001b[0m \u001b[1m25s\u001b[0m 32ms/step - accuracy: 0.8297 - loss: 0.4728 - val_accuracy: 0.4769 - val_loss: 3.0321\n",
            "Epoch 114/200\n",
            "\u001b[1m782/782\u001b[0m \u001b[32m━━━━━━━━━━━━━━━━━━━━\u001b[0m\u001b[37m\u001b[0m \u001b[1m40s\u001b[0m 31ms/step - accuracy: 0.8251 - loss: 0.4797 - val_accuracy: 0.4794 - val_loss: 2.9750\n",
            "Epoch 115/200\n",
            "\u001b[1m782/782\u001b[0m \u001b[32m━━━━━━━━━━━━━━━━━━━━\u001b[0m\u001b[37m\u001b[0m \u001b[1m42s\u001b[0m 32ms/step - accuracy: 0.8359 - loss: 0.4508 - val_accuracy: 0.4792 - val_loss: 3.0612\n",
            "Epoch 116/200\n",
            "\u001b[1m782/782\u001b[0m \u001b[32m━━━━━━━━━━━━━━━━━━━━\u001b[0m\u001b[37m\u001b[0m \u001b[1m40s\u001b[0m 31ms/step - accuracy: 0.8328 - loss: 0.4546 - val_accuracy: 0.4747 - val_loss: 3.0297\n",
            "Epoch 117/200\n",
            "\u001b[1m782/782\u001b[0m \u001b[32m━━━━━━━━━━━━━━━━━━━━\u001b[0m\u001b[37m\u001b[0m \u001b[1m25s\u001b[0m 31ms/step - accuracy: 0.8331 - loss: 0.4581 - val_accuracy: 0.4685 - val_loss: 3.0372\n",
            "Epoch 118/200\n",
            "\u001b[1m782/782\u001b[0m \u001b[32m━━━━━━━━━━━━━━━━━━━━\u001b[0m\u001b[37m\u001b[0m \u001b[1m25s\u001b[0m 31ms/step - accuracy: 0.8353 - loss: 0.4543 - val_accuracy: 0.4803 - val_loss: 3.0857\n",
            "Epoch 119/200\n",
            "\u001b[1m782/782\u001b[0m \u001b[32m━━━━━━━━━━━━━━━━━━━━\u001b[0m\u001b[37m\u001b[0m \u001b[1m24s\u001b[0m 31ms/step - accuracy: 0.8355 - loss: 0.4492 - val_accuracy: 0.4698 - val_loss: 3.0444\n",
            "Epoch 120/200\n",
            "\u001b[1m782/782\u001b[0m \u001b[32m━━━━━━━━━━━━━━━━━━━━\u001b[0m\u001b[37m\u001b[0m \u001b[1m42s\u001b[0m 32ms/step - accuracy: 0.8415 - loss: 0.4341 - val_accuracy: 0.4665 - val_loss: 3.2607\n",
            "Epoch 121/200\n",
            "\u001b[1m782/782\u001b[0m \u001b[32m━━━━━━━━━━━━━━━━━━━━\u001b[0m\u001b[37m\u001b[0m \u001b[1m41s\u001b[0m 32ms/step - accuracy: 0.8343 - loss: 0.4586 - val_accuracy: 0.4756 - val_loss: 3.1241\n",
            "Epoch 122/200\n",
            "\u001b[1m782/782\u001b[0m \u001b[32m━━━━━━━━━━━━━━━━━━━━\u001b[0m\u001b[37m\u001b[0m \u001b[1m25s\u001b[0m 32ms/step - accuracy: 0.8401 - loss: 0.4358 - val_accuracy: 0.4770 - val_loss: 3.2752\n",
            "Epoch 123/200\n",
            "\u001b[1m782/782\u001b[0m \u001b[32m━━━━━━━━━━━━━━━━━━━━\u001b[0m\u001b[37m\u001b[0m \u001b[1m24s\u001b[0m 31ms/step - accuracy: 0.8378 - loss: 0.4476 - val_accuracy: 0.4729 - val_loss: 3.1696\n",
            "Epoch 124/200\n",
            "\u001b[1m782/782\u001b[0m \u001b[32m━━━━━━━━━━━━━━━━━━━━\u001b[0m\u001b[37m\u001b[0m \u001b[1m41s\u001b[0m 31ms/step - accuracy: 0.8346 - loss: 0.4532 - val_accuracy: 0.4752 - val_loss: 3.2249\n",
            "Epoch 125/200\n",
            "\u001b[1m782/782\u001b[0m \u001b[32m━━━━━━━━━━━━━━━━━━━━\u001b[0m\u001b[37m\u001b[0m \u001b[1m24s\u001b[0m 31ms/step - accuracy: 0.8451 - loss: 0.4287 - val_accuracy: 0.4752 - val_loss: 3.1550\n",
            "Epoch 126/200\n",
            "\u001b[1m782/782\u001b[0m \u001b[32m━━━━━━━━━━━━━━━━━━━━\u001b[0m\u001b[37m\u001b[0m \u001b[1m41s\u001b[0m 31ms/step - accuracy: 0.8531 - loss: 0.4074 - val_accuracy: 0.4811 - val_loss: 3.1391\n",
            "Epoch 127/200\n",
            "\u001b[1m782/782\u001b[0m \u001b[32m━━━━━━━━━━━━━━━━━━━━\u001b[0m\u001b[37m\u001b[0m \u001b[1m42s\u001b[0m 32ms/step - accuracy: 0.8475 - loss: 0.4205 - val_accuracy: 0.4760 - val_loss: 3.3802\n",
            "Epoch 128/200\n",
            "\u001b[1m782/782\u001b[0m \u001b[32m━━━━━━━━━━━━━━━━━━━━\u001b[0m\u001b[37m\u001b[0m \u001b[1m24s\u001b[0m 31ms/step - accuracy: 0.8403 - loss: 0.4374 - val_accuracy: 0.4804 - val_loss: 3.1878\n",
            "Epoch 129/200\n",
            "\u001b[1m782/782\u001b[0m \u001b[32m━━━━━━━━━━━━━━━━━━━━\u001b[0m\u001b[37m\u001b[0m \u001b[1m42s\u001b[0m 32ms/step - accuracy: 0.8458 - loss: 0.4204 - val_accuracy: 0.4757 - val_loss: 3.2997\n",
            "Epoch 130/200\n",
            "\u001b[1m782/782\u001b[0m \u001b[32m━━━━━━━━━━━━━━━━━━━━\u001b[0m\u001b[37m\u001b[0m \u001b[1m25s\u001b[0m 32ms/step - accuracy: 0.8491 - loss: 0.4144 - val_accuracy: 0.4732 - val_loss: 3.3358\n",
            "Epoch 131/200\n",
            "\u001b[1m782/782\u001b[0m \u001b[32m━━━━━━━━━━━━━━━━━━━━\u001b[0m\u001b[37m\u001b[0m \u001b[1m41s\u001b[0m 31ms/step - accuracy: 0.8491 - loss: 0.4173 - val_accuracy: 0.4748 - val_loss: 3.4203\n",
            "Epoch 132/200\n",
            "\u001b[1m782/782\u001b[0m \u001b[32m━━━━━━━━━━━━━━━━━━━━\u001b[0m\u001b[37m\u001b[0m \u001b[1m41s\u001b[0m 32ms/step - accuracy: 0.8479 - loss: 0.4211 - val_accuracy: 0.4812 - val_loss: 3.3866\n",
            "Epoch 133/200\n",
            "\u001b[1m782/782\u001b[0m \u001b[32m━━━━━━━━━━━━━━━━━━━━\u001b[0m\u001b[37m\u001b[0m \u001b[1m40s\u001b[0m 31ms/step - accuracy: 0.8434 - loss: 0.4323 - val_accuracy: 0.4742 - val_loss: 3.3086\n",
            "Epoch 134/200\n",
            "\u001b[1m782/782\u001b[0m \u001b[32m━━━━━━━━━━━━━━━━━━━━\u001b[0m\u001b[37m\u001b[0m \u001b[1m25s\u001b[0m 31ms/step - accuracy: 0.8536 - loss: 0.4092 - val_accuracy: 0.4655 - val_loss: 3.4146\n",
            "Epoch 135/200\n",
            "\u001b[1m782/782\u001b[0m \u001b[32m━━━━━━━━━━━━━━━━━━━━\u001b[0m\u001b[37m\u001b[0m \u001b[1m41s\u001b[0m 32ms/step - accuracy: 0.8481 - loss: 0.4183 - val_accuracy: 0.4716 - val_loss: 3.4627\n",
            "Epoch 136/200\n",
            "\u001b[1m782/782\u001b[0m \u001b[32m━━━━━━━━━━━━━━━━━━━━\u001b[0m\u001b[37m\u001b[0m \u001b[1m25s\u001b[0m 31ms/step - accuracy: 0.8504 - loss: 0.4183 - val_accuracy: 0.4740 - val_loss: 3.3530\n",
            "Epoch 137/200\n",
            "\u001b[1m782/782\u001b[0m \u001b[32m━━━━━━━━━━━━━━━━━━━━\u001b[0m\u001b[37m\u001b[0m \u001b[1m41s\u001b[0m 31ms/step - accuracy: 0.8543 - loss: 0.4026 - val_accuracy: 0.4743 - val_loss: 3.4392\n",
            "Epoch 138/200\n",
            "\u001b[1m782/782\u001b[0m \u001b[32m━━━━━━━━━━━━━━━━━━━━\u001b[0m\u001b[37m\u001b[0m \u001b[1m25s\u001b[0m 31ms/step - accuracy: 0.8426 - loss: 0.4327 - val_accuracy: 0.4776 - val_loss: 3.3882\n",
            "Epoch 139/200\n",
            "\u001b[1m782/782\u001b[0m \u001b[32m━━━━━━━━━━━━━━━━━━━━\u001b[0m\u001b[37m\u001b[0m \u001b[1m42s\u001b[0m 33ms/step - accuracy: 0.8571 - loss: 0.3931 - val_accuracy: 0.4673 - val_loss: 3.6013\n",
            "Epoch 140/200\n",
            "\u001b[1m782/782\u001b[0m \u001b[32m━━━━━━━━━━━━━━━━━━━━\u001b[0m\u001b[37m\u001b[0m \u001b[1m26s\u001b[0m 33ms/step - accuracy: 0.8598 - loss: 0.3901 - val_accuracy: 0.4707 - val_loss: 3.5117\n",
            "Epoch 141/200\n",
            "\u001b[1m782/782\u001b[0m \u001b[32m━━━━━━━━━━━━━━━━━━━━\u001b[0m\u001b[37m\u001b[0m \u001b[1m40s\u001b[0m 32ms/step - accuracy: 0.8511 - loss: 0.4116 - val_accuracy: 0.4722 - val_loss: 3.5118\n",
            "Epoch 142/200\n",
            "\u001b[1m782/782\u001b[0m \u001b[32m━━━━━━━━━━━━━━━━━━━━\u001b[0m\u001b[37m\u001b[0m \u001b[1m41s\u001b[0m 32ms/step - accuracy: 0.8509 - loss: 0.4124 - val_accuracy: 0.4738 - val_loss: 3.5714\n",
            "Epoch 143/200\n",
            "\u001b[1m782/782\u001b[0m \u001b[32m━━━━━━━━━━━━━━━━━━━━\u001b[0m\u001b[37m\u001b[0m \u001b[1m41s\u001b[0m 31ms/step - accuracy: 0.8519 - loss: 0.4145 - val_accuracy: 0.4828 - val_loss: 3.6256\n",
            "Epoch 144/200\n",
            "\u001b[1m782/782\u001b[0m \u001b[32m━━━━━━━━━━━━━━━━━━━━\u001b[0m\u001b[37m\u001b[0m \u001b[1m41s\u001b[0m 32ms/step - accuracy: 0.8622 - loss: 0.3845 - val_accuracy: 0.4690 - val_loss: 3.6415\n",
            "Epoch 145/200\n",
            "\u001b[1m782/782\u001b[0m \u001b[32m━━━━━━━━━━━━━━━━━━━━\u001b[0m\u001b[37m\u001b[0m \u001b[1m41s\u001b[0m 32ms/step - accuracy: 0.8543 - loss: 0.4001 - val_accuracy: 0.4703 - val_loss: 3.5926\n",
            "Epoch 146/200\n",
            "\u001b[1m782/782\u001b[0m \u001b[32m━━━━━━━━━━━━━━━━━━━━\u001b[0m\u001b[37m\u001b[0m \u001b[1m42s\u001b[0m 33ms/step - accuracy: 0.8578 - loss: 0.3867 - val_accuracy: 0.4692 - val_loss: 3.6747\n",
            "Epoch 147/200\n",
            "\u001b[1m782/782\u001b[0m \u001b[32m━━━━━━━━━━━━━━━━━━━━\u001b[0m\u001b[37m\u001b[0m \u001b[1m40s\u001b[0m 32ms/step - accuracy: 0.8595 - loss: 0.3953 - val_accuracy: 0.4765 - val_loss: 3.6237\n",
            "Epoch 148/200\n",
            "\u001b[1m782/782\u001b[0m \u001b[32m━━━━━━━━━━━━━━━━━━━━\u001b[0m\u001b[37m\u001b[0m \u001b[1m25s\u001b[0m 31ms/step - accuracy: 0.8634 - loss: 0.3774 - val_accuracy: 0.4709 - val_loss: 3.4553\n",
            "Epoch 149/200\n",
            "\u001b[1m782/782\u001b[0m \u001b[32m━━━━━━━━━━━━━━━━━━━━\u001b[0m\u001b[37m\u001b[0m \u001b[1m25s\u001b[0m 31ms/step - accuracy: 0.8602 - loss: 0.3815 - val_accuracy: 0.4662 - val_loss: 3.5857\n",
            "Epoch 150/200\n",
            "\u001b[1m782/782\u001b[0m \u001b[32m━━━━━━━━━━━━━━━━━━━━\u001b[0m\u001b[37m\u001b[0m \u001b[1m41s\u001b[0m 32ms/step - accuracy: 0.8554 - loss: 0.3971 - val_accuracy: 0.4708 - val_loss: 3.6818\n",
            "Epoch 151/200\n",
            "\u001b[1m782/782\u001b[0m \u001b[32m━━━━━━━━━━━━━━━━━━━━\u001b[0m\u001b[37m\u001b[0m \u001b[1m41s\u001b[0m 31ms/step - accuracy: 0.8641 - loss: 0.3747 - val_accuracy: 0.4711 - val_loss: 3.6969\n",
            "Epoch 152/200\n",
            "\u001b[1m782/782\u001b[0m \u001b[32m━━━━━━━━━━━━━━━━━━━━\u001b[0m\u001b[37m\u001b[0m \u001b[1m41s\u001b[0m 32ms/step - accuracy: 0.8660 - loss: 0.3700 - val_accuracy: 0.4802 - val_loss: 3.6285\n",
            "Epoch 153/200\n",
            "\u001b[1m782/782\u001b[0m \u001b[32m━━━━━━━━━━━━━━━━━━━━\u001b[0m\u001b[37m\u001b[0m \u001b[1m41s\u001b[0m 32ms/step - accuracy: 0.8470 - loss: 0.4234 - val_accuracy: 0.4687 - val_loss: 3.6109\n",
            "Epoch 154/200\n",
            "\u001b[1m782/782\u001b[0m \u001b[32m━━━━━━━━━━━━━━━━━━━━\u001b[0m\u001b[37m\u001b[0m \u001b[1m42s\u001b[0m 33ms/step - accuracy: 0.8651 - loss: 0.3704 - val_accuracy: 0.4706 - val_loss: 3.5758\n",
            "Epoch 155/200\n",
            "\u001b[1m782/782\u001b[0m \u001b[32m━━━━━━━━━━━━━━━━━━━━\u001b[0m\u001b[37m\u001b[0m \u001b[1m40s\u001b[0m 32ms/step - accuracy: 0.8636 - loss: 0.3853 - val_accuracy: 0.4729 - val_loss: 3.7033\n",
            "Epoch 156/200\n",
            "\u001b[1m782/782\u001b[0m \u001b[32m━━━━━━━━━━━━━━━━━━━━\u001b[0m\u001b[37m\u001b[0m \u001b[1m41s\u001b[0m 32ms/step - accuracy: 0.8597 - loss: 0.3875 - val_accuracy: 0.4652 - val_loss: 3.7219\n",
            "Epoch 157/200\n",
            "\u001b[1m782/782\u001b[0m \u001b[32m━━━━━━━━━━━━━━━━━━━━\u001b[0m\u001b[37m\u001b[0m \u001b[1m25s\u001b[0m 32ms/step - accuracy: 0.8634 - loss: 0.3765 - val_accuracy: 0.4700 - val_loss: 3.5965\n",
            "Epoch 158/200\n",
            "\u001b[1m782/782\u001b[0m \u001b[32m━━━━━━━━━━━━━━━━━━━━\u001b[0m\u001b[37m\u001b[0m \u001b[1m40s\u001b[0m 31ms/step - accuracy: 0.8635 - loss: 0.3792 - val_accuracy: 0.4675 - val_loss: 3.9543\n",
            "Epoch 159/200\n",
            "\u001b[1m782/782\u001b[0m \u001b[32m━━━━━━━━━━━━━━━━━━━━\u001b[0m\u001b[37m\u001b[0m \u001b[1m25s\u001b[0m 32ms/step - accuracy: 0.8648 - loss: 0.3774 - val_accuracy: 0.4688 - val_loss: 3.7907\n",
            "Epoch 160/200\n",
            "\u001b[1m782/782\u001b[0m \u001b[32m━━━━━━━━━━━━━━━━━━━━\u001b[0m\u001b[37m\u001b[0m \u001b[1m25s\u001b[0m 32ms/step - accuracy: 0.8591 - loss: 0.3896 - val_accuracy: 0.4691 - val_loss: 3.7173\n",
            "Epoch 161/200\n",
            "\u001b[1m782/782\u001b[0m \u001b[32m━━━━━━━━━━━━━━━━━━━━\u001b[0m\u001b[37m\u001b[0m \u001b[1m42s\u001b[0m 33ms/step - accuracy: 0.8693 - loss: 0.3632 - val_accuracy: 0.4715 - val_loss: 3.8232\n",
            "Epoch 162/200\n",
            "\u001b[1m782/782\u001b[0m \u001b[32m━━━━━━━━━━━━━━━━━━━━\u001b[0m\u001b[37m\u001b[0m \u001b[1m26s\u001b[0m 33ms/step - accuracy: 0.8574 - loss: 0.3971 - val_accuracy: 0.4741 - val_loss: 3.7974\n",
            "Epoch 163/200\n",
            "\u001b[1m782/782\u001b[0m \u001b[32m━━━━━━━━━━━━━━━━━━━━\u001b[0m\u001b[37m\u001b[0m \u001b[1m26s\u001b[0m 33ms/step - accuracy: 0.8652 - loss: 0.3812 - val_accuracy: 0.4694 - val_loss: 3.9226\n",
            "Epoch 164/200\n",
            "\u001b[1m782/782\u001b[0m \u001b[32m━━━━━━━━━━━━━━━━━━━━\u001b[0m\u001b[37m\u001b[0m \u001b[1m40s\u001b[0m 32ms/step - accuracy: 0.8698 - loss: 0.3636 - val_accuracy: 0.4684 - val_loss: 3.7278\n",
            "Epoch 165/200\n",
            "\u001b[1m782/782\u001b[0m \u001b[32m━━━━━━━━━━━━━━━━━━━━\u001b[0m\u001b[37m\u001b[0m \u001b[1m25s\u001b[0m 32ms/step - accuracy: 0.8668 - loss: 0.3691 - val_accuracy: 0.4707 - val_loss: 3.7231\n",
            "Epoch 166/200\n",
            "\u001b[1m782/782\u001b[0m \u001b[32m━━━━━━━━━━━━━━━━━━━━\u001b[0m\u001b[37m\u001b[0m \u001b[1m25s\u001b[0m 32ms/step - accuracy: 0.8669 - loss: 0.3680 - val_accuracy: 0.4603 - val_loss: 3.7812\n",
            "Epoch 167/200\n",
            "\u001b[1m782/782\u001b[0m \u001b[32m━━━━━━━━━━━━━━━━━━━━\u001b[0m\u001b[37m\u001b[0m \u001b[1m41s\u001b[0m 31ms/step - accuracy: 0.8641 - loss: 0.3766 - val_accuracy: 0.4696 - val_loss: 3.9770\n",
            "Epoch 168/200\n",
            "\u001b[1m782/782\u001b[0m \u001b[32m━━━━━━━━━━━━━━━━━━━━\u001b[0m\u001b[37m\u001b[0m \u001b[1m25s\u001b[0m 32ms/step - accuracy: 0.8699 - loss: 0.3597 - val_accuracy: 0.4762 - val_loss: 3.7858\n",
            "Epoch 169/200\n",
            "\u001b[1m782/782\u001b[0m \u001b[32m━━━━━━━━━━━━━━━━━━━━\u001b[0m\u001b[37m\u001b[0m \u001b[1m41s\u001b[0m 32ms/step - accuracy: 0.8678 - loss: 0.3657 - val_accuracy: 0.4680 - val_loss: 3.9185\n",
            "Epoch 170/200\n",
            "\u001b[1m782/782\u001b[0m \u001b[32m━━━━━━━━━━━━━━━━━━━━\u001b[0m\u001b[37m\u001b[0m \u001b[1m25s\u001b[0m 32ms/step - accuracy: 0.8760 - loss: 0.3407 - val_accuracy: 0.4674 - val_loss: 4.0424\n",
            "Epoch 171/200\n",
            "\u001b[1m782/782\u001b[0m \u001b[32m━━━━━━━━━━━━━━━━━━━━\u001b[0m\u001b[37m\u001b[0m \u001b[1m25s\u001b[0m 32ms/step - accuracy: 0.8652 - loss: 0.3755 - val_accuracy: 0.4659 - val_loss: 3.8309\n",
            "Epoch 172/200\n",
            "\u001b[1m782/782\u001b[0m \u001b[32m━━━━━━━━━━━━━━━━━━━━\u001b[0m\u001b[37m\u001b[0m \u001b[1m41s\u001b[0m 32ms/step - accuracy: 0.8767 - loss: 0.3450 - val_accuracy: 0.4742 - val_loss: 3.9416\n",
            "Epoch 173/200\n",
            "\u001b[1m782/782\u001b[0m \u001b[32m━━━━━━━━━━━━━━━━━━━━\u001b[0m\u001b[37m\u001b[0m \u001b[1m41s\u001b[0m 32ms/step - accuracy: 0.8765 - loss: 0.3389 - val_accuracy: 0.4740 - val_loss: 3.9523\n",
            "Epoch 174/200\n",
            "\u001b[1m782/782\u001b[0m \u001b[32m━━━━━━━━━━━━━━━━━━━━\u001b[0m\u001b[37m\u001b[0m \u001b[1m41s\u001b[0m 32ms/step - accuracy: 0.8795 - loss: 0.3308 - val_accuracy: 0.4695 - val_loss: 3.9657\n",
            "Epoch 175/200\n",
            "\u001b[1m782/782\u001b[0m \u001b[32m━━━━━━━━━━━━━━━━━━━━\u001b[0m\u001b[37m\u001b[0m \u001b[1m25s\u001b[0m 31ms/step - accuracy: 0.8642 - loss: 0.3789 - val_accuracy: 0.4753 - val_loss: 3.9848\n",
            "Epoch 176/200\n",
            "\u001b[1m782/782\u001b[0m \u001b[32m━━━━━━━━━━━━━━━━━━━━\u001b[0m\u001b[37m\u001b[0m \u001b[1m25s\u001b[0m 32ms/step - accuracy: 0.8757 - loss: 0.3423 - val_accuracy: 0.4658 - val_loss: 3.9945\n",
            "Epoch 177/200\n",
            "\u001b[1m782/782\u001b[0m \u001b[32m━━━━━━━━━━━━━━━━━━━━\u001b[0m\u001b[37m\u001b[0m \u001b[1m25s\u001b[0m 32ms/step - accuracy: 0.8683 - loss: 0.3706 - val_accuracy: 0.4669 - val_loss: 4.0160\n",
            "Epoch 178/200\n",
            "\u001b[1m782/782\u001b[0m \u001b[32m━━━━━━━━━━━━━━━━━━━━\u001b[0m\u001b[37m\u001b[0m \u001b[1m41s\u001b[0m 32ms/step - accuracy: 0.8784 - loss: 0.3343 - val_accuracy: 0.4665 - val_loss: 3.9452\n",
            "Epoch 179/200\n",
            "\u001b[1m782/782\u001b[0m \u001b[32m━━━━━━━━━━━━━━━━━━━━\u001b[0m\u001b[37m\u001b[0m \u001b[1m25s\u001b[0m 32ms/step - accuracy: 0.8754 - loss: 0.3555 - val_accuracy: 0.4707 - val_loss: 3.8908\n",
            "Epoch 180/200\n",
            "\u001b[1m782/782\u001b[0m \u001b[32m━━━━━━━━━━━━━━━━━━━━\u001b[0m\u001b[37m\u001b[0m \u001b[1m42s\u001b[0m 33ms/step - accuracy: 0.8878 - loss: 0.3111 - val_accuracy: 0.4703 - val_loss: 4.1503\n",
            "Epoch 181/200\n",
            "\u001b[1m782/782\u001b[0m \u001b[32m━━━━━━━━━━━━━━━━━━━━\u001b[0m\u001b[37m\u001b[0m \u001b[1m26s\u001b[0m 33ms/step - accuracy: 0.8669 - loss: 0.3674 - val_accuracy: 0.4670 - val_loss: 4.0100\n",
            "Epoch 182/200\n",
            "\u001b[1m782/782\u001b[0m \u001b[32m━━━━━━━━━━━━━━━━━━━━\u001b[0m\u001b[37m\u001b[0m \u001b[1m40s\u001b[0m 32ms/step - accuracy: 0.8837 - loss: 0.3162 - val_accuracy: 0.4710 - val_loss: 4.1084\n",
            "Epoch 183/200\n",
            "\u001b[1m782/782\u001b[0m \u001b[32m━━━━━━━━━━━━━━━━━━━━\u001b[0m\u001b[37m\u001b[0m \u001b[1m41s\u001b[0m 32ms/step - accuracy: 0.8705 - loss: 0.3572 - val_accuracy: 0.4698 - val_loss: 4.0977\n",
            "Epoch 184/200\n",
            "\u001b[1m782/782\u001b[0m \u001b[32m━━━━━━━━━━━━━━━━━━━━\u001b[0m\u001b[37m\u001b[0m \u001b[1m25s\u001b[0m 32ms/step - accuracy: 0.8733 - loss: 0.3532 - val_accuracy: 0.4646 - val_loss: 4.0798\n",
            "Epoch 185/200\n",
            "\u001b[1m782/782\u001b[0m \u001b[32m━━━━━━━━━━━━━━━━━━━━\u001b[0m\u001b[37m\u001b[0m \u001b[1m26s\u001b[0m 33ms/step - accuracy: 0.8767 - loss: 0.3450 - val_accuracy: 0.4671 - val_loss: 4.1902\n",
            "Epoch 186/200\n",
            "\u001b[1m782/782\u001b[0m \u001b[32m━━━━━━━━━━━━━━━━━━━━\u001b[0m\u001b[37m\u001b[0m \u001b[1m25s\u001b[0m 32ms/step - accuracy: 0.8731 - loss: 0.3525 - val_accuracy: 0.4651 - val_loss: 4.2313\n",
            "Epoch 187/200\n",
            "\u001b[1m782/782\u001b[0m \u001b[32m━━━━━━━━━━━━━━━━━━━━\u001b[0m\u001b[37m\u001b[0m \u001b[1m41s\u001b[0m 32ms/step - accuracy: 0.8813 - loss: 0.3282 - val_accuracy: 0.4700 - val_loss: 4.0784\n",
            "Epoch 188/200\n",
            "\u001b[1m782/782\u001b[0m \u001b[32m━━━━━━━━━━━━━━━━━━━━\u001b[0m\u001b[37m\u001b[0m \u001b[1m25s\u001b[0m 32ms/step - accuracy: 0.8811 - loss: 0.3361 - val_accuracy: 0.4710 - val_loss: 4.1898\n",
            "Epoch 189/200\n",
            "\u001b[1m782/782\u001b[0m \u001b[32m━━━━━━━━━━━━━━━━━━━━\u001b[0m\u001b[37m\u001b[0m \u001b[1m41s\u001b[0m 32ms/step - accuracy: 0.8700 - loss: 0.3643 - val_accuracy: 0.4700 - val_loss: 4.2912\n",
            "Epoch 190/200\n",
            "\u001b[1m782/782\u001b[0m \u001b[32m━━━━━━━━━━━━━━━━━━━━\u001b[0m\u001b[37m\u001b[0m \u001b[1m26s\u001b[0m 33ms/step - accuracy: 0.8791 - loss: 0.3360 - val_accuracy: 0.4728 - val_loss: 4.1262\n",
            "Epoch 191/200\n",
            "\u001b[1m782/782\u001b[0m \u001b[32m━━━━━━━━━━━━━━━━━━━━\u001b[0m\u001b[37m\u001b[0m \u001b[1m25s\u001b[0m 32ms/step - accuracy: 0.8936 - loss: 0.2997 - val_accuracy: 0.4686 - val_loss: 4.1846\n",
            "Epoch 192/200\n",
            "\u001b[1m782/782\u001b[0m \u001b[32m━━━━━━━━━━━━━━━━━━━━\u001b[0m\u001b[37m\u001b[0m \u001b[1m26s\u001b[0m 34ms/step - accuracy: 0.8723 - loss: 0.3659 - val_accuracy: 0.4640 - val_loss: 4.2132\n",
            "Epoch 193/200\n",
            "\u001b[1m782/782\u001b[0m \u001b[32m━━━━━━━━━━━━━━━━━━━━\u001b[0m\u001b[37m\u001b[0m \u001b[1m40s\u001b[0m 32ms/step - accuracy: 0.8851 - loss: 0.3215 - val_accuracy: 0.4631 - val_loss: 4.3325\n",
            "Epoch 194/200\n",
            "\u001b[1m782/782\u001b[0m \u001b[32m━━━━━━━━━━━━━━━━━━━━\u001b[0m\u001b[37m\u001b[0m \u001b[1m42s\u001b[0m 33ms/step - accuracy: 0.8680 - loss: 0.3710 - val_accuracy: 0.4686 - val_loss: 4.3139\n",
            "Epoch 195/200\n",
            "\u001b[1m782/782\u001b[0m \u001b[32m━━━━━━━━━━━━━━━━━━━━\u001b[0m\u001b[37m\u001b[0m \u001b[1m41s\u001b[0m 33ms/step - accuracy: 0.8758 - loss: 0.3467 - val_accuracy: 0.4723 - val_loss: 4.2282\n",
            "Epoch 196/200\n",
            "\u001b[1m782/782\u001b[0m \u001b[32m━━━━━━━━━━━━━━━━━━━━\u001b[0m\u001b[37m\u001b[0m \u001b[1m26s\u001b[0m 33ms/step - accuracy: 0.8904 - loss: 0.3051 - val_accuracy: 0.4674 - val_loss: 4.3169\n",
            "Epoch 197/200\n",
            "\u001b[1m782/782\u001b[0m \u001b[32m━━━━━━━━━━━━━━━━━━━━\u001b[0m\u001b[37m\u001b[0m \u001b[1m40s\u001b[0m 32ms/step - accuracy: 0.8894 - loss: 0.3092 - val_accuracy: 0.4680 - val_loss: 4.4115\n",
            "Epoch 198/200\n",
            "\u001b[1m782/782\u001b[0m \u001b[32m━━━━━━━━━━━━━━━━━━━━\u001b[0m\u001b[37m\u001b[0m \u001b[1m41s\u001b[0m 32ms/step - accuracy: 0.8736 - loss: 0.3471 - val_accuracy: 0.4644 - val_loss: 4.3547\n",
            "Epoch 199/200\n",
            "\u001b[1m782/782\u001b[0m \u001b[32m━━━━━━━━━━━━━━━━━━━━\u001b[0m\u001b[37m\u001b[0m \u001b[1m42s\u001b[0m 33ms/step - accuracy: 0.8861 - loss: 0.3163 - val_accuracy: 0.4655 - val_loss: 4.2421\n",
            "Epoch 200/200\n",
            "\u001b[1m782/782\u001b[0m \u001b[32m━━━━━━━━━━━━━━━━━━━━\u001b[0m\u001b[37m\u001b[0m \u001b[1m26s\u001b[0m 33ms/step - accuracy: 0.8794 - loss: 0.3376 - val_accuracy: 0.4668 - val_loss: 4.3356\n",
            "\u001b[1m313/313\u001b[0m \u001b[32m━━━━━━━━━━━━━━━━━━━━\u001b[0m\u001b[37m\u001b[0m \u001b[1m2s\u001b[0m 6ms/step - accuracy: 0.4614 - loss: 4.3446\n"
          ]
        },
        {
          "output_type": "stream",
          "name": "stderr",
          "text": [
            "WARNING:absl:You are saving your model as an HDF5 file via `model.save()` or `keras.saving.save_model(model)`. This file format is considered legacy. We recommend using instead the native Keras format, e.g. `model.save('my_model.keras')` or `keras.saving.save_model(model, 'my_model.keras')`. \n"
          ]
        },
        {
          "output_type": "stream",
          "name": "stdout",
          "text": [
            "Accuracy: 46.68%\n"
          ]
        }
      ]
    },
    {
      "cell_type": "code",
      "source": [
        "import numpy as np\n",
        "import matplotlib.pyplot as plt\n",
        "import cv2\n",
        "from keras.models import load_model\n",
        "model = load_model(\"/content/cifar10_model.h5\")\n",
        "cifar10_labels = [\"Airplane\", \"Automobile\", \"Bird\", \"Cat\", \"Deer\", \"Dog\", \"Frog\", \"Horse\", \"Ship\", \"Truck\"]\n",
        "def preprocess_image(image_path):\n",
        "    img = cv2.imread(image_path)\n",
        "    img = cv2.resize(img, (32, 32))\n",
        "    img = img.astype(\"float32\") / 255.0\n",
        "    return img\n",
        "def predict_cifar10(image_path):\n",
        "    processed_img = preprocess_image(image_path)\n",
        "    img_for_prediction = processed_img.reshape(1, 32 * 32 * 3)\n",
        "    prediction = model.predict(img_for_prediction)[0]\n",
        "    predicted_label = np.argmax(prediction)\n",
        "    return predicted_label, processed_img\n",
        "image_paths = [\"i1.jpg\", \"i2.jpg\", \"i3.jpg\", \"i4.jpg\", \"i5.jpg\", \"i6.jpg\", \"i7.jpg\", \"i8.jpg\", \"i9.jpg\", \"i10.jpg\"]\n",
        "for path in image_paths:\n",
        "    print(f\"\\nImage: {path}\")\n",
        "    predicted_label, processed_img = predict_cifar10(path)\n",
        "    print(f\"Predicted Class: {cifar10_labels[predicted_label]}\")\n",
        "    plt.figure(figsize=(2, 2))\n",
        "    plt.imshow(processed_img)\n",
        "    plt.title(f\"Prediction: {cifar10_labels[predicted_label]}\", fontsize=8)\n",
        "    plt.axis(\"off\")\n",
        "    plt.show()\n",
        "\n"
      ],
      "metadata": {
        "colab": {
          "base_uri": "https://localhost:8080/",
          "height": 1000
        },
        "outputId": "f661ec3a-6392-4d1d-efab-1b1352ef8480",
        "id": "ylCj6YdaA_v3"
      },
      "execution_count": null,
      "outputs": [
        {
          "output_type": "stream",
          "name": "stderr",
          "text": [
            "WARNING:absl:Compiled the loaded model, but the compiled metrics have yet to be built. `model.compile_metrics` will be empty until you train or evaluate the model.\n"
          ]
        },
        {
          "output_type": "stream",
          "name": "stdout",
          "text": [
            "\n",
            "Image: i1.jpg\n",
            "\u001b[1m1/1\u001b[0m \u001b[32m━━━━━━━━━━━━━━━━━━━━\u001b[0m\u001b[37m\u001b[0m \u001b[1m0s\u001b[0m 104ms/step\n",
            "Predicted Class: Frog\n"
          ]
        },
        {
          "output_type": "display_data",
          "data": {
            "text/plain": [
              "<Figure size 200x200 with 1 Axes>"
            ],
            "image/png": "[encoded data removed]"
          },
          "metadata": {}
        },
        {
          "output_type": "stream",
          "name": "stdout",
          "text": [
            "\n",
            "Image: i2.jpg\n",
            "\u001b[1m1/1\u001b[0m \u001b[32m━━━━━━━━━━━━━━━━━━━━\u001b[0m\u001b[37m\u001b[0m \u001b[1m0s\u001b[0m 49ms/step\n",
            "Predicted Class: Truck\n"
          ]
        },
        {
          "output_type": "display_data",
          "data": {
            "text/plain": [
              "<Figure size 200x200 with 1 Axes>"
            ],
            "image/png": "[encoded data removed]"
          },
          "metadata": {}
        },
        {
          "output_type": "stream",
          "name": "stdout",
          "text": [
            "\n",
            "Image: i3.jpg\n",
            "\u001b[1m1/1\u001b[0m \u001b[32m━━━━━━━━━━━━━━━━━━━━\u001b[0m\u001b[37m\u001b[0m \u001b[1m0s\u001b[0m 52ms/step\n",
            "Predicted Class: Deer\n"
          ]
        },
        {
          "output_type": "display_data",
          "data": {
            "text/plain": [
              "<Figure size 200x200 with 1 Axes>"
            ],
            "image/png": "[encoded data removed]"
          },
          "metadata": {}
        },
        {
          "output_type": "stream",
          "name": "stdout",
          "text": [
            "\n",
            "Image: i4.jpg\n",
            "\u001b[1m1/1\u001b[0m \u001b[32m━━━━━━━━━━━━━━━━━━━━\u001b[0m\u001b[37m\u001b[0m \u001b[1m0s\u001b[0m 53ms/step\n",
            "Predicted Class: Automobile\n"
          ]
        },
        {
          "output_type": "display_data",
          "data": {
            "text/plain": [
              "<Figure size 200x200 with 1 Axes>"
            ],
            "image/png": "[encoded data removed]"
          },
          "metadata": {}
        },
        {
          "output_type": "stream",
          "name": "stdout",
          "text": [
            "\n",
            "Image: i5.jpg\n",
            "\u001b[1m1/1\u001b[0m \u001b[32m━━━━━━━━━━━━━━━━━━━━\u001b[0m\u001b[37m\u001b[0m \u001b[1m0s\u001b[0m 51ms/step\n",
            "Predicted Class: Bird\n"
          ]
        },
        {
          "output_type": "display_data",
          "data": {
            "text/plain": [
              "<Figure size 200x200 with 1 Axes>"
            ],
            "image/png": "[encoded data removed]"
          },
          "metadata": {}
        },
        {
          "output_type": "stream",
          "name": "stdout",
          "text": [
            "\n",
            "Image: i6.jpg\n",
            "\u001b[1m1/1\u001b[0m \u001b[32m━━━━━━━━━━━━━━━━━━━━\u001b[0m\u001b[37m\u001b[0m \u001b[1m0s\u001b[0m 68ms/step\n",
            "Predicted Class: Horse\n"
          ]
        },
        {
          "output_type": "display_data",
          "data": {
            "text/plain": [
              "<Figure size 200x200 with 1 Axes>"
            ],
            "image/png": "[encoded data removed]"
          },
          "metadata": {}
        },
        {
          "output_type": "stream",
          "name": "stdout",
          "text": [
            "\n",
            "Image: i7.jpg\n",
            "\u001b[1m1/1\u001b[0m \u001b[32m━━━━━━━━━━━━━━━━━━━━\u001b[0m\u001b[37m\u001b[0m \u001b[1m0s\u001b[0m 81ms/step\n",
            "Predicted Class: Ship\n"
          ]
        },
        {
          "output_type": "display_data",
          "data": {
            "text/plain": [
              "<Figure size 200x200 with 1 Axes>"
            ],
            "image/png": "[encoded data removed]"
          },
          "metadata": {}
        },
        {
          "output_type": "stream",
          "name": "stdout",
          "text": [
            "\n",
            "Image: i8.jpg\n",
            "\u001b[1m1/1\u001b[0m \u001b[32m━━━━━━━━━━━━━━━━━━━━\u001b[0m\u001b[37m\u001b[0m \u001b[1m0s\u001b[0m 69ms/step\n",
            "Predicted Class: Airplane\n"
          ]
        },
        {
          "output_type": "display_data",
          "data": {
            "text/plain": [
              "<Figure size 200x200 with 1 Axes>"
            ],
            "image/png": "[encoded data removed]"
          },
          "metadata": {}
        },
        {
          "output_type": "stream",
          "name": "stdout",
          "text": [
            "\n",
            "Image: i9.jpg\n",
            "\u001b[1m1/1\u001b[0m \u001b[32m━━━━━━━━━━━━━━━━━━━━\u001b[0m\u001b[37m\u001b[0m \u001b[1m0s\u001b[0m 70ms/step\n",
            "Predicted Class: Cat\n"
          ]
        },
        {
          "output_type": "display_data",
          "data": {
            "text/plain": [
              "<Figure size 200x200 with 1 Axes>"
            ],
            "image/png": "[encoded data removed]"
          },
          "metadata": {}
        },
        {
          "output_type": "stream",
          "name": "stdout",
          "text": [
            "\n",
            "Image: i10.jpg\n",
            "\u001b[1m1/1\u001b[0m \u001b[32m━━━━━━━━━━━━━━━━━━━━\u001b[0m\u001b[37m\u001b[0m \u001b[1m0s\u001b[0m 73ms/step\n",
            "Predicted Class: Dog\n"
          ]
        },
        {
          "output_type": "display_data",
          "data": {
            "text/plain": [
              "<Figure size 200x200 with 1 Axes>"
            ],
            "image/png": "[encoded data removed]"
          },
          "metadata": {}
        }
      ]
    },
    {
      "cell_type": "code",
      "source": [
        "# cifar100, same to previous requirements\n",
        "from keras.models import Sequential\n",
        "from keras.layers import Dense, BatchNormalization, Dropout\n",
        "from keras.datasets import cifar100\n",
        "from keras.utils import to_categorical\n",
        "from keras.optimizers import SGD\n",
        "(x_train, y_train), (x_test, y_test) = cifar100.load_data()\n",
        "\n",
        "x_train = x_train.reshape(50000, 32*32*3).astype(\"float32\") / 255\n",
        "x_test = x_test.reshape(10000, 32*32*3).astype(\"float32\") / 255\n",
        "y_train = to_categorical(y_train, 100)\n",
        "y_test = to_categorical(y_test, 100)\n",
        "\n",
        "model = Sequential([\n",
        "    Dense(512, activation='relu', input_shape=(32*32*3,)),\n",
        "    BatchNormalization(),\n",
        "    Dropout(0.3),\n",
        "\n",
        "    Dense(256, activation='relu'),\n",
        "    BatchNormalization(),\n",
        "    Dropout(0.3),\n",
        "\n",
        "    Dense(128, activation='relu'),\n",
        "    BatchNormalization(),\n",
        "    Dropout(0.3),\n",
        "\n",
        "    Dense(64, activation='relu'),\n",
        "    BatchNormalization(),\n",
        "    Dropout(0.3),\n",
        "\n",
        "    Dense(100, activation='softmax')\n",
        "])\n",
        "optimizer = SGD(learning_rate=0.01, momentum=0.9)\n",
        "model.compile(optimizer=optimizer, loss='categorical_crossentropy', metrics=['accuracy'])\n",
        "model.fit(x_train, y_train, epochs=150, batch_size=128, validation_data=(x_test, y_test))\n",
        "loss, acc = model.evaluate(x_test, y_test)\n",
        "print(f\"Final Accuracy: {acc*100:.2f}%\")\n",
        "model.save(\"/content/cifar100_model.h5\")"
      ],
      "metadata": {
        "colab": {
          "base_uri": "https://localhost:8080/"
        },
        "id": "1WByt2kWWsA3",
        "outputId": "c507bf81-e0bc-4250-f036-214845884055"
      },
      "execution_count": null,
      "outputs": [
        {
          "output_type": "stream",
          "name": "stdout",
          "text": [
            "Epoch 1/150\n",
            "\u001b[1m391/391\u001b[0m \u001b[32m━━━━━━━━━━━━━━━━━━━━\u001b[0m\u001b[37m\u001b[0m \u001b[1m18s\u001b[0m 39ms/step - accuracy: 0.0336 - loss: 4.6236 - val_accuracy: 0.0955 - val_loss: 3.9664\n",
            "Epoch 2/150\n",
            "\u001b[1m391/391\u001b[0m \u001b[32m━━━━━━━━━━━━━━━━━━━━\u001b[0m\u001b[37m\u001b[0m \u001b[1m14s\u001b[0m 37ms/step - accuracy: 0.0819 - loss: 4.0183 - val_accuracy: 0.1295 - val_loss: 3.7571\n",
            "Epoch 3/150\n",
            "\u001b[1m391/391\u001b[0m \u001b[32m━━━━━━━━━━━━━━━━━━━━\u001b[0m\u001b[37m\u001b[0m \u001b[1m21s\u001b[0m 37ms/step - accuracy: 0.1009 - loss: 3.8742 - val_accuracy: 0.1407 - val_loss: 3.7076\n",
            "Epoch 4/150\n",
            "\u001b[1m391/391\u001b[0m \u001b[32m━━━━━━━━━━━━━━━━━━━━\u001b[0m\u001b[37m\u001b[0m \u001b[1m22s\u001b[0m 40ms/step - accuracy: 0.1144 - loss: 3.7918 - val_accuracy: 0.1489 - val_loss: 3.6264\n",
            "Epoch 5/150\n",
            "\u001b[1m391/391\u001b[0m \u001b[32m━━━━━━━━━━━━━━━━━━━━\u001b[0m\u001b[37m\u001b[0m \u001b[1m19s\u001b[0m 37ms/step - accuracy: 0.1249 - loss: 3.7368 - val_accuracy: 0.1552 - val_loss: 3.5946\n",
            "Epoch 6/150\n",
            "\u001b[1m391/391\u001b[0m \u001b[32m━━━━━━━━━━━━━━━━━━━━\u001b[0m\u001b[37m\u001b[0m \u001b[1m20s\u001b[0m 36ms/step - accuracy: 0.1285 - loss: 3.7009 - val_accuracy: 0.1682 - val_loss: 3.5560\n",
            "Epoch 7/150\n",
            "\u001b[1m391/391\u001b[0m \u001b[32m━━━━━━━━━━━━━━━━━━━━\u001b[0m\u001b[37m\u001b[0m \u001b[1m14s\u001b[0m 36ms/step - accuracy: 0.1354 - loss: 3.6632 - val_accuracy: 0.1637 - val_loss: 3.5472\n",
            "Epoch 8/150\n",
            "\u001b[1m391/391\u001b[0m \u001b[32m━━━━━━━━━━━━━━━━━━━━\u001b[0m\u001b[37m\u001b[0m \u001b[1m21s\u001b[0m 37ms/step - accuracy: 0.1387 - loss: 3.6432 - val_accuracy: 0.1721 - val_loss: 3.5092\n",
            "Epoch 9/150\n",
            "\u001b[1m391/391\u001b[0m \u001b[32m━━━━━━━━━━━━━━━━━━━━\u001b[0m\u001b[37m\u001b[0m \u001b[1m20s\u001b[0m 37ms/step - accuracy: 0.1449 - loss: 3.6166 - val_accuracy: 0.1697 - val_loss: 3.5163\n",
            "Epoch 10/150\n",
            "\u001b[1m391/391\u001b[0m \u001b[32m━━━━━━━━━━━━━━━━━━━━\u001b[0m\u001b[37m\u001b[0m \u001b[1m21s\u001b[0m 38ms/step - accuracy: 0.1472 - loss: 3.6150 - val_accuracy: 0.1721 - val_loss: 3.4949\n",
            "Epoch 11/150\n",
            "\u001b[1m391/391\u001b[0m \u001b[32m━━━━━━━━━━━━━━━━━━━━\u001b[0m\u001b[37m\u001b[0m \u001b[1m15s\u001b[0m 37ms/step - accuracy: 0.1543 - loss: 3.5665 - val_accuracy: 0.1908 - val_loss: 3.4264\n",
            "Epoch 12/150\n",
            "\u001b[1m391/391\u001b[0m \u001b[32m━━━━━━━━━━━━━━━━━━━━\u001b[0m\u001b[37m\u001b[0m \u001b[1m20s\u001b[0m 37ms/step - accuracy: 0.1563 - loss: 3.5655 - val_accuracy: 0.1916 - val_loss: 3.4121\n",
            "Epoch 13/150\n",
            "\u001b[1m391/391\u001b[0m \u001b[32m━━━━━━━━━━━━━━━━━━━━\u001b[0m\u001b[37m\u001b[0m \u001b[1m15s\u001b[0m 38ms/step - accuracy: 0.1513 - loss: 3.5613 - val_accuracy: 0.1840 - val_loss: 3.4287\n",
            "Epoch 14/150\n",
            "\u001b[1m391/391\u001b[0m \u001b[32m━━━━━━━━━━━━━━━━━━━━\u001b[0m\u001b[37m\u001b[0m \u001b[1m15s\u001b[0m 38ms/step - accuracy: 0.1596 - loss: 3.5371 - val_accuracy: 0.1775 - val_loss: 3.4518\n",
            "Epoch 15/150\n",
            "\u001b[1m391/391\u001b[0m \u001b[32m━━━━━━━━━━━━━━━━━━━━\u001b[0m\u001b[37m\u001b[0m \u001b[1m20s\u001b[0m 37ms/step - accuracy: 0.1600 - loss: 3.5200 - val_accuracy: 0.1836 - val_loss: 3.4188\n",
            "Epoch 16/150\n",
            "\u001b[1m391/391\u001b[0m \u001b[32m━━━━━━━━━━━━━━━━━━━━\u001b[0m\u001b[37m\u001b[0m \u001b[1m15s\u001b[0m 37ms/step - accuracy: 0.1645 - loss: 3.5064 - val_accuracy: 0.1865 - val_loss: 3.4119\n",
            "Epoch 17/150\n",
            "\u001b[1m391/391\u001b[0m \u001b[32m━━━━━━━━━━━━━━━━━━━━\u001b[0m\u001b[37m\u001b[0m \u001b[1m20s\u001b[0m 36ms/step - accuracy: 0.1609 - loss: 3.5184 - val_accuracy: 0.1949 - val_loss: 3.3805\n",
            "Epoch 18/150\n",
            "\u001b[1m391/391\u001b[0m \u001b[32m━━━━━━━━━━━━━━━━━━━━\u001b[0m\u001b[37m\u001b[0m \u001b[1m22s\u001b[0m 40ms/step - accuracy: 0.1661 - loss: 3.5133 - val_accuracy: 0.1833 - val_loss: 3.4322\n",
            "Epoch 19/150\n",
            "\u001b[1m391/391\u001b[0m \u001b[32m━━━━━━━━━━━━━━━━━━━━\u001b[0m\u001b[37m\u001b[0m \u001b[1m15s\u001b[0m 37ms/step - accuracy: 0.1622 - loss: 3.5098 - val_accuracy: 0.1952 - val_loss: 3.3574\n",
            "Epoch 20/150\n",
            "\u001b[1m391/391\u001b[0m \u001b[32m━━━━━━━━━━━━━━━━━━━━\u001b[0m\u001b[37m\u001b[0m \u001b[1m20s\u001b[0m 37ms/step - accuracy: 0.1654 - loss: 3.4929 - val_accuracy: 0.2051 - val_loss: 3.3354\n",
            "Epoch 21/150\n",
            "\u001b[1m391/391\u001b[0m \u001b[32m━━━━━━━━━━━━━━━━━━━━\u001b[0m\u001b[37m\u001b[0m \u001b[1m20s\u001b[0m 36ms/step - accuracy: 0.1659 - loss: 3.5051 - val_accuracy: 0.1921 - val_loss: 3.3703\n",
            "Epoch 22/150\n",
            "\u001b[1m391/391\u001b[0m \u001b[32m━━━━━━━━━━━━━━━━━━━━\u001b[0m\u001b[37m\u001b[0m \u001b[1m21s\u001b[0m 37ms/step - accuracy: 0.1656 - loss: 3.4854 - val_accuracy: 0.1903 - val_loss: 3.3746\n",
            "Epoch 23/150\n",
            "\u001b[1m391/391\u001b[0m \u001b[32m━━━━━━━━━━━━━━━━━━━━\u001b[0m\u001b[37m\u001b[0m \u001b[1m15s\u001b[0m 37ms/step - accuracy: 0.1665 - loss: 3.4836 - val_accuracy: 0.1965 - val_loss: 3.3551\n",
            "Epoch 24/150\n",
            "\u001b[1m391/391\u001b[0m \u001b[32m━━━━━━━━━━━━━━━━━━━━\u001b[0m\u001b[37m\u001b[0m \u001b[1m20s\u001b[0m 36ms/step - accuracy: 0.1668 - loss: 3.4736 - val_accuracy: 0.2084 - val_loss: 3.3021\n",
            "Epoch 25/150\n",
            "\u001b[1m391/391\u001b[0m \u001b[32m━━━━━━━━━━━━━━━━━━━━\u001b[0m\u001b[37m\u001b[0m \u001b[1m14s\u001b[0m 37ms/step - accuracy: 0.1708 - loss: 3.4784 - val_accuracy: 0.2030 - val_loss: 3.3357\n",
            "Epoch 26/150\n",
            "\u001b[1m391/391\u001b[0m \u001b[32m━━━━━━━━━━━━━━━━━━━━\u001b[0m\u001b[37m\u001b[0m \u001b[1m21s\u001b[0m 38ms/step - accuracy: 0.1720 - loss: 3.4538 - val_accuracy: 0.1963 - val_loss: 3.3556\n",
            "Epoch 27/150\n",
            "\u001b[1m391/391\u001b[0m \u001b[32m━━━━━━━━━━━━━━━━━━━━\u001b[0m\u001b[37m\u001b[0m \u001b[1m20s\u001b[0m 37ms/step - accuracy: 0.1694 - loss: 3.4746 - val_accuracy: 0.1983 - val_loss: 3.3398\n",
            "Epoch 28/150\n",
            "\u001b[1m391/391\u001b[0m \u001b[32m━━━━━━━━━━━━━━━━━━━━\u001b[0m\u001b[37m\u001b[0m \u001b[1m14s\u001b[0m 37ms/step - accuracy: 0.1731 - loss: 3.4461 - val_accuracy: 0.2056 - val_loss: 3.3027\n",
            "Epoch 29/150\n",
            "\u001b[1m391/391\u001b[0m \u001b[32m━━━━━━━━━━━━━━━━━━━━\u001b[0m\u001b[37m\u001b[0m \u001b[1m21s\u001b[0m 37ms/step - accuracy: 0.1753 - loss: 3.4592 - val_accuracy: 0.2091 - val_loss: 3.3113\n",
            "Epoch 30/150\n",
            "\u001b[1m391/391\u001b[0m \u001b[32m━━━━━━━━━━━━━━━━━━━━\u001b[0m\u001b[37m\u001b[0m \u001b[1m20s\u001b[0m 37ms/step - accuracy: 0.1739 - loss: 3.4436 - val_accuracy: 0.2068 - val_loss: 3.3302\n",
            "Epoch 31/150\n",
            "\u001b[1m391/391\u001b[0m \u001b[32m━━━━━━━━━━━━━━━━━━━━\u001b[0m\u001b[37m\u001b[0m \u001b[1m20s\u001b[0m 36ms/step - accuracy: 0.1759 - loss: 3.4363 - val_accuracy: 0.2124 - val_loss: 3.2825\n",
            "Epoch 32/150\n",
            "\u001b[1m391/391\u001b[0m \u001b[32m━━━━━━━━━━━━━━━━━━━━\u001b[0m\u001b[37m\u001b[0m \u001b[1m15s\u001b[0m 37ms/step - accuracy: 0.1782 - loss: 3.4280 - val_accuracy: 0.2136 - val_loss: 3.2738\n",
            "Epoch 33/150\n",
            "\u001b[1m391/391\u001b[0m \u001b[32m━━━━━━━━━━━━━━━━━━━━\u001b[0m\u001b[37m\u001b[0m \u001b[1m20s\u001b[0m 37ms/step - accuracy: 0.1761 - loss: 3.4258 - val_accuracy: 0.2015 - val_loss: 3.3183\n",
            "Epoch 34/150\n",
            "\u001b[1m391/391\u001b[0m \u001b[32m━━━━━━━━━━━━━━━━━━━━\u001b[0m\u001b[37m\u001b[0m \u001b[1m20s\u001b[0m 37ms/step - accuracy: 0.1780 - loss: 3.4249 - val_accuracy: 0.2148 - val_loss: 3.2677\n",
            "Epoch 35/150\n",
            "\u001b[1m391/391\u001b[0m \u001b[32m━━━━━━━━━━━━━━━━━━━━\u001b[0m\u001b[37m\u001b[0m \u001b[1m22s\u001b[0m 40ms/step - accuracy: 0.1761 - loss: 3.4166 - val_accuracy: 0.2128 - val_loss: 3.2814\n",
            "Epoch 36/150\n",
            "\u001b[1m391/391\u001b[0m \u001b[32m━━━━━━━━━━━━━━━━━━━━\u001b[0m\u001b[37m\u001b[0m \u001b[1m19s\u001b[0m 37ms/step - accuracy: 0.1810 - loss: 3.4034 - val_accuracy: 0.2160 - val_loss: 3.2735\n",
            "Epoch 37/150\n",
            "\u001b[1m391/391\u001b[0m \u001b[32m━━━━━━━━━━━━━━━━━━━━\u001b[0m\u001b[37m\u001b[0m \u001b[1m20s\u001b[0m 36ms/step - accuracy: 0.1814 - loss: 3.4098 - val_accuracy: 0.2121 - val_loss: 3.2807\n",
            "Epoch 38/150\n",
            "\u001b[1m391/391\u001b[0m \u001b[32m━━━━━━━━━━━━━━━━━━━━\u001b[0m\u001b[37m\u001b[0m \u001b[1m14s\u001b[0m 36ms/step - accuracy: 0.1836 - loss: 3.3869 - val_accuracy: 0.2124 - val_loss: 3.2606\n",
            "Epoch 39/150\n",
            "\u001b[1m391/391\u001b[0m \u001b[32m━━━━━━━━━━━━━━━━━━━━\u001b[0m\u001b[37m\u001b[0m \u001b[1m15s\u001b[0m 37ms/step - accuracy: 0.1814 - loss: 3.3911 - val_accuracy: 0.2010 - val_loss: 3.2975\n",
            "Epoch 40/150\n",
            "\u001b[1m391/391\u001b[0m \u001b[32m━━━━━━━━━━━━━━━━━━━━\u001b[0m\u001b[37m\u001b[0m \u001b[1m15s\u001b[0m 37ms/step - accuracy: 0.1867 - loss: 3.3861 - val_accuracy: 0.2172 - val_loss: 3.2664\n",
            "Epoch 41/150\n",
            "\u001b[1m391/391\u001b[0m \u001b[32m━━━━━━━━━━━━━━━━━━━━\u001b[0m\u001b[37m\u001b[0m \u001b[1m14s\u001b[0m 36ms/step - accuracy: 0.1858 - loss: 3.3771 - val_accuracy: 0.2141 - val_loss: 3.2462\n",
            "Epoch 42/150\n",
            "\u001b[1m391/391\u001b[0m \u001b[32m━━━━━━━━━━━━━━━━━━━━\u001b[0m\u001b[37m\u001b[0m \u001b[1m21s\u001b[0m 37ms/step - accuracy: 0.1886 - loss: 3.3730 - val_accuracy: 0.2157 - val_loss: 3.2521\n",
            "Epoch 43/150\n",
            "\u001b[1m391/391\u001b[0m \u001b[32m━━━━━━━━━━━━━━━━━━━━\u001b[0m\u001b[37m\u001b[0m \u001b[1m20s\u001b[0m 37ms/step - accuracy: 0.1868 - loss: 3.3701 - val_accuracy: 0.2221 - val_loss: 3.2275\n",
            "Epoch 44/150\n",
            "\u001b[1m391/391\u001b[0m \u001b[32m━━━━━━━━━━━━━━━━━━━━\u001b[0m\u001b[37m\u001b[0m \u001b[1m21s\u001b[0m 37ms/step - accuracy: 0.1868 - loss: 3.3831 - val_accuracy: 0.2203 - val_loss: 3.2250\n",
            "Epoch 45/150\n",
            "\u001b[1m391/391\u001b[0m \u001b[32m━━━━━━━━━━━━━━━━━━━━\u001b[0m\u001b[37m\u001b[0m \u001b[1m15s\u001b[0m 37ms/step - accuracy: 0.1843 - loss: 3.3706 - val_accuracy: 0.2203 - val_loss: 3.2351\n",
            "Epoch 46/150\n",
            "\u001b[1m391/391\u001b[0m \u001b[32m━━━━━━━━━━━━━━━━━━━━\u001b[0m\u001b[37m\u001b[0m \u001b[1m20s\u001b[0m 37ms/step - accuracy: 0.1900 - loss: 3.3659 - val_accuracy: 0.2156 - val_loss: 3.2614\n",
            "Epoch 47/150\n",
            "\u001b[1m391/391\u001b[0m \u001b[32m━━━━━━━━━━━━━━━━━━━━\u001b[0m\u001b[37m\u001b[0m \u001b[1m15s\u001b[0m 39ms/step - accuracy: 0.1901 - loss: 3.3542 - val_accuracy: 0.2227 - val_loss: 3.2219\n",
            "Epoch 48/150\n",
            "\u001b[1m391/391\u001b[0m \u001b[32m━━━━━━━━━━━━━━━━━━━━\u001b[0m\u001b[37m\u001b[0m \u001b[1m21s\u001b[0m 41ms/step - accuracy: 0.1946 - loss: 3.3455 - val_accuracy: 0.2194 - val_loss: 3.2263\n",
            "Epoch 49/150\n",
            "\u001b[1m391/391\u001b[0m \u001b[32m━━━━━━━━━━━━━━━━━━━━\u001b[0m\u001b[37m\u001b[0m \u001b[1m15s\u001b[0m 38ms/step - accuracy: 0.1912 - loss: 3.3542 - val_accuracy: 0.2195 - val_loss: 3.2192\n",
            "Epoch 50/150\n",
            "\u001b[1m391/391\u001b[0m \u001b[32m━━━━━━━━━━━━━━━━━━━━\u001b[0m\u001b[37m\u001b[0m \u001b[1m20s\u001b[0m 37ms/step - accuracy: 0.1933 - loss: 3.3427 - val_accuracy: 0.2306 - val_loss: 3.2016\n",
            "Epoch 51/150\n",
            "\u001b[1m391/391\u001b[0m \u001b[32m━━━━━━━━━━━━━━━━━━━━\u001b[0m\u001b[37m\u001b[0m \u001b[1m20s\u001b[0m 37ms/step - accuracy: 0.1886 - loss: 3.3581 - val_accuracy: 0.2161 - val_loss: 3.2530\n",
            "Epoch 52/150\n",
            "\u001b[1m391/391\u001b[0m \u001b[32m━━━━━━━━━━━━━━━━━━━━\u001b[0m\u001b[37m\u001b[0m \u001b[1m21s\u001b[0m 38ms/step - accuracy: 0.1915 - loss: 3.3397 - val_accuracy: 0.2227 - val_loss: 3.2346\n",
            "Epoch 53/150\n",
            "\u001b[1m391/391\u001b[0m \u001b[32m━━━━━━━━━━━━━━━━━━━━\u001b[0m\u001b[37m\u001b[0m \u001b[1m15s\u001b[0m 37ms/step - accuracy: 0.1950 - loss: 3.3404 - val_accuracy: 0.2239 - val_loss: 3.2101\n",
            "Epoch 54/150\n",
            "\u001b[1m391/391\u001b[0m \u001b[32m━━━━━━━━━━━━━━━━━━━━\u001b[0m\u001b[37m\u001b[0m \u001b[1m15s\u001b[0m 37ms/step - accuracy: 0.1936 - loss: 3.3353 - val_accuracy: 0.2248 - val_loss: 3.2031\n",
            "Epoch 55/150\n",
            "\u001b[1m391/391\u001b[0m \u001b[32m━━━━━━━━━━━━━━━━━━━━\u001b[0m\u001b[37m\u001b[0m \u001b[1m15s\u001b[0m 37ms/step - accuracy: 0.1974 - loss: 3.3191 - val_accuracy: 0.2220 - val_loss: 3.2045\n",
            "Epoch 56/150\n",
            "\u001b[1m391/391\u001b[0m \u001b[32m━━━━━━━━━━━━━━━━━━━━\u001b[0m\u001b[37m\u001b[0m \u001b[1m15s\u001b[0m 38ms/step - accuracy: 0.1980 - loss: 3.3242 - val_accuracy: 0.2268 - val_loss: 3.1973\n",
            "Epoch 57/150\n",
            "\u001b[1m391/391\u001b[0m \u001b[32m━━━━━━━━━━━━━━━━━━━━\u001b[0m\u001b[37m\u001b[0m \u001b[1m15s\u001b[0m 37ms/step - accuracy: 0.1965 - loss: 3.3203 - val_accuracy: 0.2297 - val_loss: 3.1864\n",
            "Epoch 58/150\n",
            "\u001b[1m391/391\u001b[0m \u001b[32m━━━━━━━━━━━━━━━━━━━━\u001b[0m\u001b[37m\u001b[0m \u001b[1m20s\u001b[0m 37ms/step - accuracy: 0.1987 - loss: 3.3133 - val_accuracy: 0.2216 - val_loss: 3.2062\n",
            "Epoch 59/150\n",
            "\u001b[1m391/391\u001b[0m \u001b[32m━━━━━━━━━━━━━━━━━━━━\u001b[0m\u001b[37m\u001b[0m \u001b[1m20s\u001b[0m 37ms/step - accuracy: 0.1994 - loss: 3.3178 - val_accuracy: 0.2295 - val_loss: 3.1838\n",
            "Epoch 60/150\n",
            "\u001b[1m391/391\u001b[0m \u001b[32m━━━━━━━━━━━━━━━━━━━━\u001b[0m\u001b[37m\u001b[0m \u001b[1m20s\u001b[0m 36ms/step - accuracy: 0.1995 - loss: 3.3080 - val_accuracy: 0.2192 - val_loss: 3.2127\n",
            "Epoch 61/150\n",
            "\u001b[1m391/391\u001b[0m \u001b[32m━━━━━━━━━━━━━━━━━━━━\u001b[0m\u001b[37m\u001b[0m \u001b[1m21s\u001b[0m 37ms/step - accuracy: 0.2010 - loss: 3.2994 - val_accuracy: 0.2213 - val_loss: 3.1979\n",
            "Epoch 62/150\n",
            "\u001b[1m391/391\u001b[0m \u001b[32m━━━━━━━━━━━━━━━━━━━━\u001b[0m\u001b[37m\u001b[0m \u001b[1m21s\u001b[0m 37ms/step - accuracy: 0.1978 - loss: 3.3115 - val_accuracy: 0.2254 - val_loss: 3.1970\n",
            "Epoch 63/150\n",
            "\u001b[1m391/391\u001b[0m \u001b[32m━━━━━━━━━━━━━━━━━━━━\u001b[0m\u001b[37m\u001b[0m \u001b[1m15s\u001b[0m 37ms/step - accuracy: 0.2010 - loss: 3.3050 - val_accuracy: 0.2225 - val_loss: 3.2178\n",
            "Epoch 64/150\n",
            "\u001b[1m391/391\u001b[0m \u001b[32m━━━━━━━━━━━━━━━━━━━━\u001b[0m\u001b[37m\u001b[0m \u001b[1m21s\u001b[0m 38ms/step - accuracy: 0.2041 - loss: 3.2889 - val_accuracy: 0.2286 - val_loss: 3.1981\n",
            "Epoch 65/150\n",
            "\u001b[1m391/391\u001b[0m \u001b[32m━━━━━━━━━━━━━━━━━━━━\u001b[0m\u001b[37m\u001b[0m \u001b[1m14s\u001b[0m 37ms/step - accuracy: 0.2020 - loss: 3.2910 - val_accuracy: 0.2228 - val_loss: 3.2096\n",
            "Epoch 66/150\n",
            "\u001b[1m391/391\u001b[0m \u001b[32m━━━━━━━━━━━━━━━━━━━━\u001b[0m\u001b[37m\u001b[0m \u001b[1m20s\u001b[0m 37ms/step - accuracy: 0.1988 - loss: 3.2997 - val_accuracy: 0.2247 - val_loss: 3.2032\n",
            "Epoch 67/150\n",
            "\u001b[1m391/391\u001b[0m \u001b[32m━━━━━━━━━━━━━━━━━━━━\u001b[0m\u001b[37m\u001b[0m \u001b[1m20s\u001b[0m 37ms/step - accuracy: 0.2040 - loss: 3.2946 - val_accuracy: 0.2213 - val_loss: 3.2227\n",
            "Epoch 68/150\n",
            "\u001b[1m391/391\u001b[0m \u001b[32m━━━━━━━━━━━━━━━━━━━━\u001b[0m\u001b[37m\u001b[0m \u001b[1m20s\u001b[0m 37ms/step - accuracy: 0.2035 - loss: 3.2809 - val_accuracy: 0.2227 - val_loss: 3.1985\n",
            "Epoch 69/150\n",
            "\u001b[1m391/391\u001b[0m \u001b[32m━━━━━━━━━━━━━━━━━━━━\u001b[0m\u001b[37m\u001b[0m \u001b[1m15s\u001b[0m 38ms/step - accuracy: 0.2029 - loss: 3.2820 - val_accuracy: 0.2228 - val_loss: 3.2097\n",
            "Epoch 70/150\n",
            "\u001b[1m391/391\u001b[0m \u001b[32m━━━━━━━━━━━━━━━━━━━━\u001b[0m\u001b[37m\u001b[0m \u001b[1m21s\u001b[0m 38ms/step - accuracy: 0.2068 - loss: 3.2639 - val_accuracy: 0.2260 - val_loss: 3.2212\n",
            "Epoch 71/150\n",
            "\u001b[1m391/391\u001b[0m \u001b[32m━━━━━━━━━━━━━━━━━━━━\u001b[0m\u001b[37m\u001b[0m \u001b[1m20s\u001b[0m 37ms/step - accuracy: 0.2051 - loss: 3.2779 - val_accuracy: 0.2330 - val_loss: 3.1585\n",
            "Epoch 72/150\n",
            "\u001b[1m391/391\u001b[0m \u001b[32m━━━━━━━━━━━━━━━━━━━━\u001b[0m\u001b[37m\u001b[0m \u001b[1m15s\u001b[0m 38ms/step - accuracy: 0.2074 - loss: 3.2754 - val_accuracy: 0.2307 - val_loss: 3.1635\n",
            "Epoch 73/150\n",
            "\u001b[1m391/391\u001b[0m \u001b[32m━━━━━━━━━━━━━━━━━━━━\u001b[0m\u001b[37m\u001b[0m \u001b[1m16s\u001b[0m 41ms/step - accuracy: 0.2074 - loss: 3.2709 - val_accuracy: 0.2347 - val_loss: 3.1648\n",
            "Epoch 74/150\n",
            "\u001b[1m391/391\u001b[0m \u001b[32m━━━━━━━━━━━━━━━━━━━━\u001b[0m\u001b[37m\u001b[0m \u001b[1m19s\u001b[0m 38ms/step - accuracy: 0.2084 - loss: 3.2797 - val_accuracy: 0.2287 - val_loss: 3.2006\n",
            "Epoch 75/150\n",
            "\u001b[1m391/391\u001b[0m \u001b[32m━━━━━━━━━━━━━━━━━━━━\u001b[0m\u001b[37m\u001b[0m \u001b[1m15s\u001b[0m 38ms/step - accuracy: 0.2079 - loss: 3.2627 - val_accuracy: 0.2309 - val_loss: 3.1637\n",
            "Epoch 76/150\n",
            "\u001b[1m391/391\u001b[0m \u001b[32m━━━━━━━━━━━━━━━━━━━━\u001b[0m\u001b[37m\u001b[0m \u001b[1m21s\u001b[0m 38ms/step - accuracy: 0.2094 - loss: 3.2598 - val_accuracy: 0.2358 - val_loss: 3.1448\n",
            "Epoch 77/150\n",
            "\u001b[1m391/391\u001b[0m \u001b[32m━━━━━━━━━━━━━━━━━━━━\u001b[0m\u001b[37m\u001b[0m \u001b[1m20s\u001b[0m 38ms/step - accuracy: 0.2087 - loss: 3.2591 - val_accuracy: 0.2332 - val_loss: 3.1726\n",
            "Epoch 78/150\n",
            "\u001b[1m391/391\u001b[0m \u001b[32m━━━━━━━━━━━━━━━━━━━━\u001b[0m\u001b[37m\u001b[0m \u001b[1m20s\u001b[0m 37ms/step - accuracy: 0.2031 - loss: 3.2700 - val_accuracy: 0.2346 - val_loss: 3.1474\n",
            "Epoch 79/150\n",
            "\u001b[1m391/391\u001b[0m \u001b[32m━━━━━━━━━━━━━━━━━━━━\u001b[0m\u001b[37m\u001b[0m \u001b[1m21s\u001b[0m 38ms/step - accuracy: 0.2055 - loss: 3.2746 - val_accuracy: 0.2269 - val_loss: 3.1851\n",
            "Epoch 80/150\n",
            "\u001b[1m391/391\u001b[0m \u001b[32m━━━━━━━━━━━━━━━━━━━━\u001b[0m\u001b[37m\u001b[0m \u001b[1m21s\u001b[0m 38ms/step - accuracy: 0.2077 - loss: 3.2606 - val_accuracy: 0.2255 - val_loss: 3.2194\n",
            "Epoch 81/150\n",
            "\u001b[1m391/391\u001b[0m \u001b[32m━━━━━━━━━━━━━━━━━━━━\u001b[0m\u001b[37m\u001b[0m \u001b[1m15s\u001b[0m 38ms/step - accuracy: 0.2126 - loss: 3.2571 - val_accuracy: 0.2185 - val_loss: 3.2390\n",
            "Epoch 82/150\n",
            "\u001b[1m391/391\u001b[0m \u001b[32m━━━━━━━━━━━━━━━━━━━━\u001b[0m\u001b[37m\u001b[0m \u001b[1m20s\u001b[0m 37ms/step - accuracy: 0.2098 - loss: 3.2628 - val_accuracy: 0.2346 - val_loss: 3.1470\n",
            "Epoch 83/150\n",
            "\u001b[1m391/391\u001b[0m \u001b[32m━━━━━━━━━━━━━━━━━━━━\u001b[0m\u001b[37m\u001b[0m \u001b[1m15s\u001b[0m 38ms/step - accuracy: 0.2057 - loss: 3.2696 - val_accuracy: 0.2257 - val_loss: 3.1913\n",
            "Epoch 84/150\n",
            "\u001b[1m391/391\u001b[0m \u001b[32m━━━━━━━━━━━━━━━━━━━━\u001b[0m\u001b[37m\u001b[0m \u001b[1m20s\u001b[0m 37ms/step - accuracy: 0.2099 - loss: 3.2584 - val_accuracy: 0.2402 - val_loss: 3.1284\n",
            "Epoch 85/150\n",
            "\u001b[1m391/391\u001b[0m \u001b[32m━━━━━━━━━━━━━━━━━━━━\u001b[0m\u001b[37m\u001b[0m \u001b[1m21s\u001b[0m 38ms/step - accuracy: 0.2117 - loss: 3.2414 - val_accuracy: 0.2238 - val_loss: 3.2284\n",
            "Epoch 86/150\n",
            "\u001b[1m391/391\u001b[0m \u001b[32m━━━━━━━━━━━━━━━━━━━━\u001b[0m\u001b[37m\u001b[0m \u001b[1m21s\u001b[0m 38ms/step - accuracy: 0.2088 - loss: 3.2557 - val_accuracy: 0.2281 - val_loss: 3.1861\n",
            "Epoch 87/150\n",
            "\u001b[1m391/391\u001b[0m \u001b[32m━━━━━━━━━━━━━━━━━━━━\u001b[0m\u001b[37m\u001b[0m \u001b[1m22s\u001b[0m 41ms/step - accuracy: 0.2136 - loss: 3.2393 - val_accuracy: 0.2382 - val_loss: 3.1450\n",
            "Epoch 88/150\n",
            "\u001b[1m391/391\u001b[0m \u001b[32m━━━━━━━━━━━━━━━━━━━━\u001b[0m\u001b[37m\u001b[0m \u001b[1m15s\u001b[0m 38ms/step - accuracy: 0.2121 - loss: 3.2458 - val_accuracy: 0.2400 - val_loss: 3.1235\n",
            "Epoch 89/150\n",
            "\u001b[1m391/391\u001b[0m \u001b[32m━━━━━━━━━━━━━━━━━━━━\u001b[0m\u001b[37m\u001b[0m \u001b[1m20s\u001b[0m 37ms/step - accuracy: 0.2155 - loss: 3.2265 - val_accuracy: 0.2357 - val_loss: 3.1492\n",
            "Epoch 90/150\n",
            "\u001b[1m391/391\u001b[0m \u001b[32m━━━━━━━━━━━━━━━━━━━━\u001b[0m\u001b[37m\u001b[0m \u001b[1m16s\u001b[0m 41ms/step - accuracy: 0.2151 - loss: 3.2369 - val_accuracy: 0.2297 - val_loss: 3.1783\n",
            "Epoch 91/150\n",
            "\u001b[1m391/391\u001b[0m \u001b[32m━━━━━━━━━━━━━━━━━━━━\u001b[0m\u001b[37m\u001b[0m \u001b[1m19s\u001b[0m 38ms/step - accuracy: 0.2160 - loss: 3.2299 - val_accuracy: 0.2423 - val_loss: 3.1188\n",
            "Epoch 92/150\n",
            "\u001b[1m391/391\u001b[0m \u001b[32m━━━━━━━━━━━━━━━━━━━━\u001b[0m\u001b[37m\u001b[0m \u001b[1m14s\u001b[0m 37ms/step - accuracy: 0.2098 - loss: 3.2437 - val_accuracy: 0.2253 - val_loss: 3.1753\n",
            "Epoch 93/150\n",
            "\u001b[1m391/391\u001b[0m \u001b[32m━━━━━━━━━━━━━━━━━━━━\u001b[0m\u001b[37m\u001b[0m \u001b[1m21s\u001b[0m 37ms/step - accuracy: 0.2172 - loss: 3.2315 - val_accuracy: 0.2390 - val_loss: 3.1332\n",
            "Epoch 94/150\n",
            "\u001b[1m391/391\u001b[0m \u001b[32m━━━━━━━━━━━━━━━━━━━━\u001b[0m\u001b[37m\u001b[0m \u001b[1m21s\u001b[0m 38ms/step - accuracy: 0.2148 - loss: 3.2412 - val_accuracy: 0.2389 - val_loss: 3.1459\n",
            "Epoch 95/150\n",
            "\u001b[1m391/391\u001b[0m \u001b[32m━━━━━━━━━━━━━━━━━━━━\u001b[0m\u001b[37m\u001b[0m \u001b[1m16s\u001b[0m 41ms/step - accuracy: 0.2145 - loss: 3.2335 - val_accuracy: 0.2379 - val_loss: 3.1501\n",
            "Epoch 96/150\n",
            "\u001b[1m391/391\u001b[0m \u001b[32m━━━━━━━━━━━━━━━━━━━━\u001b[0m\u001b[37m\u001b[0m \u001b[1m19s\u001b[0m 38ms/step - accuracy: 0.2112 - loss: 3.2487 - val_accuracy: 0.2379 - val_loss: 3.1313\n",
            "Epoch 97/150\n",
            "\u001b[1m391/391\u001b[0m \u001b[32m━━━━━━━━━━━━━━━━━━━━\u001b[0m\u001b[37m\u001b[0m \u001b[1m15s\u001b[0m 38ms/step - accuracy: 0.2133 - loss: 3.2315 - val_accuracy: 0.2367 - val_loss: 3.1605\n",
            "Epoch 98/150\n",
            "\u001b[1m391/391\u001b[0m \u001b[32m━━━━━━━━━━━━━━━━━━━━\u001b[0m\u001b[37m\u001b[0m \u001b[1m15s\u001b[0m 38ms/step - accuracy: 0.2143 - loss: 3.2344 - val_accuracy: 0.2413 - val_loss: 3.1334\n",
            "Epoch 99/150\n",
            "\u001b[1m391/391\u001b[0m \u001b[32m━━━━━━━━━━━━━━━━━━━━\u001b[0m\u001b[37m\u001b[0m \u001b[1m15s\u001b[0m 38ms/step - accuracy: 0.2153 - loss: 3.2177 - val_accuracy: 0.2356 - val_loss: 3.1434\n",
            "Epoch 100/150\n",
            "\u001b[1m391/391\u001b[0m \u001b[32m━━━━━━━━━━━━━━━━━━━━\u001b[0m\u001b[37m\u001b[0m \u001b[1m15s\u001b[0m 39ms/step - accuracy: 0.2098 - loss: 3.2414 - val_accuracy: 0.2334 - val_loss: 3.1720\n",
            "Epoch 101/150\n",
            "\u001b[1m391/391\u001b[0m \u001b[32m━━━━━━━━━━━━━━━━━━━━\u001b[0m\u001b[37m\u001b[0m \u001b[1m20s\u001b[0m 38ms/step - accuracy: 0.2142 - loss: 3.2252 - val_accuracy: 0.2366 - val_loss: 3.1263\n",
            "Epoch 102/150\n",
            "\u001b[1m391/391\u001b[0m \u001b[32m━━━━━━━━━━━━━━━━━━━━\u001b[0m\u001b[37m\u001b[0m \u001b[1m20s\u001b[0m 38ms/step - accuracy: 0.2182 - loss: 3.2071 - val_accuracy: 0.2331 - val_loss: 3.1372\n",
            "Epoch 103/150\n",
            "\u001b[1m391/391\u001b[0m \u001b[32m━━━━━━━━━━━━━━━━━━━━\u001b[0m\u001b[37m\u001b[0m \u001b[1m15s\u001b[0m 37ms/step - accuracy: 0.2181 - loss: 3.2170 - val_accuracy: 0.2265 - val_loss: 3.1642\n",
            "Epoch 104/150\n",
            "\u001b[1m391/391\u001b[0m \u001b[32m━━━━━━━━━━━━━━━━━━━━\u001b[0m\u001b[37m\u001b[0m \u001b[1m15s\u001b[0m 38ms/step - accuracy: 0.2180 - loss: 3.2205 - val_accuracy: 0.2238 - val_loss: 3.1969\n",
            "Epoch 105/150\n",
            "\u001b[1m391/391\u001b[0m \u001b[32m━━━━━━━━━━━━━━━━━━━━\u001b[0m\u001b[37m\u001b[0m \u001b[1m15s\u001b[0m 37ms/step - accuracy: 0.2196 - loss: 3.2089 - val_accuracy: 0.2339 - val_loss: 3.1510\n",
            "Epoch 106/150\n",
            "\u001b[1m391/391\u001b[0m \u001b[32m━━━━━━━━━━━━━━━━━━━━\u001b[0m\u001b[37m\u001b[0m \u001b[1m21s\u001b[0m 38ms/step - accuracy: 0.2170 - loss: 3.2240 - val_accuracy: 0.2435 - val_loss: 3.1025\n",
            "Epoch 107/150\n",
            "\u001b[1m391/391\u001b[0m \u001b[32m━━━━━━━━━━━━━━━━━━━━\u001b[0m\u001b[37m\u001b[0m \u001b[1m15s\u001b[0m 38ms/step - accuracy: 0.2176 - loss: 3.2159 - val_accuracy: 0.2414 - val_loss: 3.1297\n",
            "Epoch 108/150\n",
            "\u001b[1m391/391\u001b[0m \u001b[32m━━━━━━━━━━━━━━━━━━━━\u001b[0m\u001b[37m\u001b[0m \u001b[1m20s\u001b[0m 37ms/step - accuracy: 0.2215 - loss: 3.1956 - val_accuracy: 0.2382 - val_loss: 3.1254\n",
            "Epoch 109/150\n",
            "\u001b[1m391/391\u001b[0m \u001b[32m━━━━━━━━━━━━━━━━━━━━\u001b[0m\u001b[37m\u001b[0m \u001b[1m21s\u001b[0m 39ms/step - accuracy: 0.2236 - loss: 3.1944 - val_accuracy: 0.2381 - val_loss: 3.1348\n",
            "Epoch 110/150\n",
            "\u001b[1m391/391\u001b[0m \u001b[32m━━━━━━━━━━━━━━━━━━━━\u001b[0m\u001b[37m\u001b[0m \u001b[1m15s\u001b[0m 38ms/step - accuracy: 0.2216 - loss: 3.1945 - val_accuracy: 0.2372 - val_loss: 3.1374\n",
            "Epoch 111/150\n",
            "\u001b[1m391/391\u001b[0m \u001b[32m━━━━━━━━━━━━━━━━━━━━\u001b[0m\u001b[37m\u001b[0m \u001b[1m20s\u001b[0m 37ms/step - accuracy: 0.2175 - loss: 3.2064 - val_accuracy: 0.2442 - val_loss: 3.1021\n",
            "Epoch 112/150\n",
            "\u001b[1m391/391\u001b[0m \u001b[32m━━━━━━━━━━━━━━━━━━━━\u001b[0m\u001b[37m\u001b[0m \u001b[1m21s\u001b[0m 37ms/step - accuracy: 0.2237 - loss: 3.1870 - val_accuracy: 0.2420 - val_loss: 3.1042\n",
            "Epoch 113/150\n",
            "\u001b[1m391/391\u001b[0m \u001b[32m━━━━━━━━━━━━━━━━━━━━\u001b[0m\u001b[37m\u001b[0m \u001b[1m21s\u001b[0m 38ms/step - accuracy: 0.2233 - loss: 3.1996 - val_accuracy: 0.2404 - val_loss: 3.1238\n",
            "Epoch 114/150\n",
            "\u001b[1m391/391\u001b[0m \u001b[32m━━━━━━━━━━━━━━━━━━━━\u001b[0m\u001b[37m\u001b[0m \u001b[1m21s\u001b[0m 39ms/step - accuracy: 0.2214 - loss: 3.1950 - val_accuracy: 0.2427 - val_loss: 3.1062\n",
            "Epoch 115/150\n",
            "\u001b[1m391/391\u001b[0m \u001b[32m━━━━━━━━━━━━━━━━━━━━\u001b[0m\u001b[37m\u001b[0m \u001b[1m20s\u001b[0m 38ms/step - accuracy: 0.2210 - loss: 3.2073 - val_accuracy: 0.2423 - val_loss: 3.1278\n",
            "Epoch 116/150\n",
            "\u001b[1m391/391\u001b[0m \u001b[32m━━━━━━━━━━━━━━━━━━━━\u001b[0m\u001b[37m\u001b[0m \u001b[1m20s\u001b[0m 38ms/step - accuracy: 0.2226 - loss: 3.1878 - val_accuracy: 0.2385 - val_loss: 3.1354\n",
            "Epoch 117/150\n",
            "\u001b[1m391/391\u001b[0m \u001b[32m━━━━━━━━━━━━━━━━━━━━\u001b[0m\u001b[37m\u001b[0m \u001b[1m20s\u001b[0m 37ms/step - accuracy: 0.2195 - loss: 3.2000 - val_accuracy: 0.2428 - val_loss: 3.1256\n",
            "Epoch 118/150\n",
            "\u001b[1m391/391\u001b[0m \u001b[32m━━━━━━━━━━━━━━━━━━━━\u001b[0m\u001b[37m\u001b[0m \u001b[1m16s\u001b[0m 42ms/step - accuracy: 0.2190 - loss: 3.2032 - val_accuracy: 0.2406 - val_loss: 3.1285\n",
            "Epoch 119/150\n",
            "\u001b[1m391/391\u001b[0m \u001b[32m━━━━━━━━━━━━━━━━━━━━\u001b[0m\u001b[37m\u001b[0m \u001b[1m19s\u001b[0m 38ms/step - accuracy: 0.2242 - loss: 3.1912 - val_accuracy: 0.2483 - val_loss: 3.0989\n",
            "Epoch 120/150\n",
            "\u001b[1m391/391\u001b[0m \u001b[32m━━━━━━━━━━━━━━━━━━━━\u001b[0m\u001b[37m\u001b[0m \u001b[1m21s\u001b[0m 38ms/step - accuracy: 0.2188 - loss: 3.1936 - val_accuracy: 0.2426 - val_loss: 3.1390\n",
            "Epoch 121/150\n",
            "\u001b[1m391/391\u001b[0m \u001b[32m━━━━━━━━━━━━━━━━━━━━\u001b[0m\u001b[37m\u001b[0m \u001b[1m21s\u001b[0m 39ms/step - accuracy: 0.2189 - loss: 3.1999 - val_accuracy: 0.2387 - val_loss: 3.1364\n",
            "Epoch 122/150\n",
            "\u001b[1m391/391\u001b[0m \u001b[32m━━━━━━━━━━━━━━━━━━━━\u001b[0m\u001b[37m\u001b[0m \u001b[1m15s\u001b[0m 38ms/step - accuracy: 0.2227 - loss: 3.1875 - val_accuracy: 0.2482 - val_loss: 3.0991\n",
            "Epoch 123/150\n",
            "\u001b[1m391/391\u001b[0m \u001b[32m━━━━━━━━━━━━━━━━━━━━\u001b[0m\u001b[37m\u001b[0m \u001b[1m20s\u001b[0m 38ms/step - accuracy: 0.2212 - loss: 3.2015 - val_accuracy: 0.2365 - val_loss: 3.1471\n",
            "Epoch 124/150\n",
            "\u001b[1m391/391\u001b[0m \u001b[32m━━━━━━━━━━━━━━━━━━━━\u001b[0m\u001b[37m\u001b[0m \u001b[1m21s\u001b[0m 38ms/step - accuracy: 0.2215 - loss: 3.1848 - val_accuracy: 0.2415 - val_loss: 3.1156\n",
            "Epoch 125/150\n",
            "\u001b[1m391/391\u001b[0m \u001b[32m━━━━━━━━━━━━━━━━━━━━\u001b[0m\u001b[37m\u001b[0m \u001b[1m20s\u001b[0m 38ms/step - accuracy: 0.2230 - loss: 3.1861 - val_accuracy: 0.2388 - val_loss: 3.1557\n",
            "Epoch 126/150\n",
            "\u001b[1m391/391\u001b[0m \u001b[32m━━━━━━━━━━━━━━━━━━━━\u001b[0m\u001b[37m\u001b[0m \u001b[1m20s\u001b[0m 38ms/step - accuracy: 0.2250 - loss: 3.1895 - val_accuracy: 0.2469 - val_loss: 3.1118\n",
            "Epoch 127/150\n",
            "\u001b[1m391/391\u001b[0m \u001b[32m━━━━━━━━━━━━━━━━━━━━\u001b[0m\u001b[37m\u001b[0m \u001b[1m20s\u001b[0m 38ms/step - accuracy: 0.2252 - loss: 3.1788 - val_accuracy: 0.2378 - val_loss: 3.1373\n",
            "Epoch 128/150\n",
            "\u001b[1m391/391\u001b[0m \u001b[32m━━━━━━━━━━━━━━━━━━━━\u001b[0m\u001b[37m\u001b[0m \u001b[1m20s\u001b[0m 38ms/step - accuracy: 0.2269 - loss: 3.1812 - val_accuracy: 0.2462 - val_loss: 3.0926\n",
            "Epoch 129/150\n",
            "\u001b[1m391/391\u001b[0m \u001b[32m━━━━━━━━━━━━━━━━━━━━\u001b[0m\u001b[37m\u001b[0m \u001b[1m15s\u001b[0m 37ms/step - accuracy: 0.2279 - loss: 3.1680 - val_accuracy: 0.2410 - val_loss: 3.1235\n",
            "Epoch 130/150\n",
            "\u001b[1m391/391\u001b[0m \u001b[32m━━━━━━━━━━━━━━━━━━━━\u001b[0m\u001b[37m\u001b[0m \u001b[1m15s\u001b[0m 38ms/step - accuracy: 0.2265 - loss: 3.1680 - val_accuracy: 0.2432 - val_loss: 3.1194\n",
            "Epoch 131/150\n",
            "\u001b[1m391/391\u001b[0m \u001b[32m━━━━━━━━━━━━━━━━━━━━\u001b[0m\u001b[37m\u001b[0m \u001b[1m20s\u001b[0m 38ms/step - accuracy: 0.2244 - loss: 3.1769 - val_accuracy: 0.2385 - val_loss: 3.1201\n",
            "Epoch 132/150\n",
            "\u001b[1m391/391\u001b[0m \u001b[32m━━━━━━━━━━━━━━━━━━━━\u001b[0m\u001b[37m\u001b[0m \u001b[1m21s\u001b[0m 39ms/step - accuracy: 0.2251 - loss: 3.1799 - val_accuracy: 0.2472 - val_loss: 3.1004\n",
            "Epoch 133/150\n",
            "\u001b[1m391/391\u001b[0m \u001b[32m━━━━━━━━━━━━━━━━━━━━\u001b[0m\u001b[37m\u001b[0m \u001b[1m17s\u001b[0m 42ms/step - accuracy: 0.2264 - loss: 3.1797 - val_accuracy: 0.2406 - val_loss: 3.1183\n",
            "Epoch 134/150\n",
            "\u001b[1m391/391\u001b[0m \u001b[32m━━━━━━━━━━━━━━━━━━━━\u001b[0m\u001b[37m\u001b[0m \u001b[1m15s\u001b[0m 38ms/step - accuracy: 0.2225 - loss: 3.1655 - val_accuracy: 0.2365 - val_loss: 3.1269\n",
            "Epoch 135/150\n",
            "\u001b[1m391/391\u001b[0m \u001b[32m━━━━━━━━━━━━━━━━━━━━\u001b[0m\u001b[37m\u001b[0m \u001b[1m15s\u001b[0m 37ms/step - accuracy: 0.2289 - loss: 3.1659 - val_accuracy: 0.2450 - val_loss: 3.0903\n",
            "Epoch 136/150\n",
            "\u001b[1m391/391\u001b[0m \u001b[32m━━━━━━━━━━━━━━━━━━━━\u001b[0m\u001b[37m\u001b[0m \u001b[1m22s\u001b[0m 42ms/step - accuracy: 0.2253 - loss: 3.1739 - val_accuracy: 0.2366 - val_loss: 3.1160\n",
            "Epoch 137/150\n",
            "\u001b[1m391/391\u001b[0m \u001b[32m━━━━━━━━━━━━━━━━━━━━\u001b[0m\u001b[37m\u001b[0m \u001b[1m19s\u001b[0m 39ms/step - accuracy: 0.2258 - loss: 3.1709 - val_accuracy: 0.2430 - val_loss: 3.1004\n",
            "Epoch 138/150\n",
            "\u001b[1m391/391\u001b[0m \u001b[32m━━━━━━━━━━━━━━━━━━━━\u001b[0m\u001b[37m\u001b[0m \u001b[1m20s\u001b[0m 39ms/step - accuracy: 0.2271 - loss: 3.1620 - val_accuracy: 0.2438 - val_loss: 3.1340\n",
            "Epoch 139/150\n",
            "\u001b[1m391/391\u001b[0m \u001b[32m━━━━━━━━━━━━━━━━━━━━\u001b[0m\u001b[37m\u001b[0m \u001b[1m15s\u001b[0m 38ms/step - accuracy: 0.2282 - loss: 3.1632 - val_accuracy: 0.2476 - val_loss: 3.0967\n",
            "Epoch 140/150\n",
            "\u001b[1m391/391\u001b[0m \u001b[32m━━━━━━━━━━━━━━━━━━━━\u001b[0m\u001b[37m\u001b[0m \u001b[1m21s\u001b[0m 39ms/step - accuracy: 0.2221 - loss: 3.1828 - val_accuracy: 0.2384 - val_loss: 3.1261\n",
            "Epoch 141/150\n",
            "\u001b[1m391/391\u001b[0m \u001b[32m━━━━━━━━━━━━━━━━━━━━\u001b[0m\u001b[37m\u001b[0m \u001b[1m20s\u001b[0m 37ms/step - accuracy: 0.2278 - loss: 3.1639 - val_accuracy: 0.2360 - val_loss: 3.1390\n",
            "Epoch 142/150\n",
            "\u001b[1m391/391\u001b[0m \u001b[32m━━━━━━━━━━━━━━━━━━━━\u001b[0m\u001b[37m\u001b[0m \u001b[1m15s\u001b[0m 38ms/step - accuracy: 0.2264 - loss: 3.1555 - val_accuracy: 0.2455 - val_loss: 3.0929\n",
            "Epoch 143/150\n",
            "\u001b[1m391/391\u001b[0m \u001b[32m━━━━━━━━━━━━━━━━━━━━\u001b[0m\u001b[37m\u001b[0m \u001b[1m21s\u001b[0m 39ms/step - accuracy: 0.2238 - loss: 3.1793 - val_accuracy: 0.2512 - val_loss: 3.0844\n",
            "Epoch 144/150\n",
            "\u001b[1m391/391\u001b[0m \u001b[32m━━━━━━━━━━━━━━━━━━━━\u001b[0m\u001b[37m\u001b[0m \u001b[1m20s\u001b[0m 39ms/step - accuracy: 0.2233 - loss: 3.1619 - val_accuracy: 0.2408 - val_loss: 3.1223\n",
            "Epoch 145/150\n",
            "\u001b[1m391/391\u001b[0m \u001b[32m━━━━━━━━━━━━━━━━━━━━\u001b[0m\u001b[37m\u001b[0m \u001b[1m20s\u001b[0m 38ms/step - accuracy: 0.2280 - loss: 3.1655 - val_accuracy: 0.2467 - val_loss: 3.0897\n",
            "Epoch 146/150\n",
            "\u001b[1m391/391\u001b[0m \u001b[32m━━━━━━━━━━━━━━━━━━━━\u001b[0m\u001b[37m\u001b[0m \u001b[1m22s\u001b[0m 42ms/step - accuracy: 0.2283 - loss: 3.1576 - val_accuracy: 0.2398 - val_loss: 3.1219\n",
            "Epoch 147/150\n",
            "\u001b[1m391/391\u001b[0m \u001b[32m━━━━━━━━━━━━━━━━━━━━\u001b[0m\u001b[37m\u001b[0m \u001b[1m15s\u001b[0m 38ms/step - accuracy: 0.2293 - loss: 3.1536 - val_accuracy: 0.2432 - val_loss: 3.1099\n",
            "Epoch 148/150\n",
            "\u001b[1m391/391\u001b[0m \u001b[32m━━━━━━━━━━━━━━━━━━━━\u001b[0m\u001b[37m\u001b[0m \u001b[1m21s\u001b[0m 39ms/step - accuracy: 0.2272 - loss: 3.1471 - val_accuracy: 0.2280 - val_loss: 3.1560\n",
            "Epoch 149/150\n",
            "\u001b[1m391/391\u001b[0m \u001b[32m━━━━━━━━━━━━━━━━━━━━\u001b[0m\u001b[37m\u001b[0m \u001b[1m16s\u001b[0m 42ms/step - accuracy: 0.2251 - loss: 3.1497 - val_accuracy: 0.2426 - val_loss: 3.1186\n",
            "Epoch 150/150\n",
            "\u001b[1m391/391\u001b[0m \u001b[32m━━━━━━━━━━━━━━━━━━━━\u001b[0m\u001b[37m\u001b[0m \u001b[1m15s\u001b[0m 39ms/step - accuracy: 0.2310 - loss: 3.1565 - val_accuracy: 0.2449 - val_loss: 3.1065\n",
            "\u001b[1m313/313\u001b[0m \u001b[32m━━━━━━━━━━━━━━━━━━━━\u001b[0m\u001b[37m\u001b[0m \u001b[1m2s\u001b[0m 7ms/step - accuracy: 0.2437 - loss: 3.1017\n"
          ]
        },
        {
          "output_type": "stream",
          "name": "stderr",
          "text": [
            "WARNING:absl:You are saving your model as an HDF5 file via `model.save()` or `keras.saving.save_model(model)`. This file format is considered legacy. We recommend using instead the native Keras format, e.g. `model.save('my_model.keras')` or `keras.saving.save_model(model, 'my_model.keras')`. \n"
          ]
        },
        {
          "output_type": "stream",
          "name": "stdout",
          "text": [
            "Final Accuracy: 24.49%\n"
          ]
        }
      ]
    },
    {
      "cell_type": "code",
      "source": [
        "import numpy as np\n",
        "import matplotlib.pyplot as plt\n",
        "import cv2\n",
        "from keras.models import load_model\n",
        "model = load_model(\"/content/cifar100_model.h5\")\n",
        "\n",
        "from keras.datasets import cifar100\n",
        "(_, _), (_, y_test_labels) = cifar100.load_data(label_mode=\"fine\")\n",
        "cifar100_labels = [f\"Class {i}\" for i in range(100)]\n",
        "\n",
        "def preprocess_image(image_path):\n",
        "    img = cv2.imread(image_path)\n",
        "    img = cv2.resize(img, (32, 32))\n",
        "    img = img.astype(\"float32\") / 255.0\n",
        "    return img\n",
        "\n",
        "def predict_cifar100(image_path):\n",
        "\n",
        "    processed_img = preprocess_image(image_path)\n",
        "    img_for_prediction = processed_img.reshape(1, 32 * 32 * 3)\n",
        "    prediction = model.predict(img_for_prediction)[0]\n",
        "    predicted_label = np.argmax(prediction)\n",
        "    return predicted_label, processed_img\n",
        "\n",
        "image_paths = [\"i1.jpg\", \"i2.jpg\", \"i3.jpg\", \"i4.jpg\", \"i5.jpg\",\n",
        "               \"i6.jpg\", \"i7.jpg\", \"i8.jpg\", \"i9.jpg\", \"i10.jpg\"]\n",
        "for path in image_paths:\n",
        "    print(f\"\\n Image: {path}\")\n",
        "    predicted_label, processed_img = predict_cifar100(path)\n",
        "    print(f\" Predicted Class: {cifar100_labels[predicted_label]}\")\n",
        "    plt.figure(figsize=(2, 2))\n",
        "    plt.imshow(processed_img)\n",
        "    plt.title(f\"Prediction: {cifar100_labels[predicted_label]}\", fontsize=8)\n",
        "    plt.axis(\"off\")\n",
        "    plt.show()"
      ],
      "metadata": {
        "colab": {
          "base_uri": "https://localhost:8080/",
          "height": 1000
        },
        "id": "kQokmSBhuRtx",
        "outputId": "7a408f72-00ad-44da-ddec-e2d80d66fc34"
      },
      "execution_count": null,
      "outputs": [
        {
          "output_type": "stream",
          "name": "stderr",
          "text": [
            "WARNING:absl:Compiled the loaded model, but the compiled metrics have yet to be built. `model.compile_metrics` will be empty until you train or evaluate the model.\n"
          ]
        },
        {
          "output_type": "stream",
          "name": "stdout",
          "text": [
            "\n",
            " Image: i1.jpg\n",
            "\u001b[1m1/1\u001b[0m \u001b[32m━━━━━━━━━━━━━━━━━━━━\u001b[0m\u001b[37m\u001b[0m \u001b[1m0s\u001b[0m 182ms/step\n",
            " Predicted Class: Class 86\n"
          ]
        },
        {
          "output_type": "display_data",
          "data": {
            "text/plain": [
              "<Figure size 200x200 with 1 Axes>"
            ],
            "image/png": "[encoded data removed]"
          },
          "metadata": {}
        },
        {
          "output_type": "stream",
          "name": "stdout",
          "text": [
            "\n",
            " Image: i2.jpg\n",
            "\u001b[1m1/1\u001b[0m \u001b[32m━━━━━━━━━━━━━━━━━━━━\u001b[0m\u001b[37m\u001b[0m \u001b[1m0s\u001b[0m 48ms/step\n",
            " Predicted Class: Class 41\n"
          ]
        },
        {
          "output_type": "display_data",
          "data": {
            "text/plain": [
              "<Figure size 200x200 with 1 Axes>"
            ],
            "image/png": "[encoded data removed]"
          },
          "metadata": {}
        },
        {
          "output_type": "stream",
          "name": "stdout",
          "text": [
            "\n",
            " Image: i3.jpg\n",
            "\u001b[1m1/1\u001b[0m \u001b[32m━━━━━━━━━━━━━━━━━━━━\u001b[0m\u001b[37m\u001b[0m \u001b[1m0s\u001b[0m 47ms/step\n",
            " Predicted Class: Class 30\n"
          ]
        },
        {
          "output_type": "display_data",
          "data": {
            "text/plain": [
              "<Figure size 200x200 with 1 Axes>"
            ],
            "image/png": "[encoded data removed]"
          },
          "metadata": {}
        },
        {
          "output_type": "stream",
          "name": "stdout",
          "text": [
            "\n",
            " Image: i4.jpg\n",
            "\u001b[1m1/1\u001b[0m \u001b[32m━━━━━━━━━━━━━━━━━━━━\u001b[0m\u001b[37m\u001b[0m \u001b[1m0s\u001b[0m 51ms/step\n",
            " Predicted Class: Class 58\n"
          ]
        },
        {
          "output_type": "display_data",
          "data": {
            "text/plain": [
              "<Figure size 200x200 with 1 Axes>"
            ],
            "image/png": "[encoded data removed]"
          },
          "metadata": {}
        },
        {
          "output_type": "stream",
          "name": "stdout",
          "text": [
            "\n",
            " Image: i5.jpg\n",
            "\u001b[1m1/1\u001b[0m \u001b[32m━━━━━━━━━━━━━━━━━━━━\u001b[0m\u001b[37m\u001b[0m \u001b[1m0s\u001b[0m 50ms/step\n",
            " Predicted Class: Class 30\n"
          ]
        },
        {
          "output_type": "display_data",
          "data": {
            "text/plain": [
              "<Figure size 200x200 with 1 Axes>"
            ],
            "image/png": "[encoded data removed]"
          },
          "metadata": {}
        },
        {
          "output_type": "stream",
          "name": "stdout",
          "text": [
            "\n",
            " Image: i6.jpg\n",
            "\u001b[1m1/1\u001b[0m \u001b[32m━━━━━━━━━━━━━━━━━━━━\u001b[0m\u001b[37m\u001b[0m \u001b[1m0s\u001b[0m 51ms/step\n",
            " Predicted Class: Class 30\n"
          ]
        },
        {
          "output_type": "display_data",
          "data": {
            "text/plain": [
              "<Figure size 200x200 with 1 Axes>"
            ],
            "image/png": "[encoded data removed]"
          },
          "metadata": {}
        },
        {
          "output_type": "stream",
          "name": "stdout",
          "text": [
            "\n",
            " Image: i7.jpg\n",
            "\u001b[1m1/1\u001b[0m \u001b[32m━━━━━━━━━━━━━━━━━━━━\u001b[0m\u001b[37m\u001b[0m \u001b[1m0s\u001b[0m 45ms/step\n",
            " Predicted Class: Class 94\n"
          ]
        },
        {
          "output_type": "display_data",
          "data": {
            "text/plain": [
              "<Figure size 200x200 with 1 Axes>"
            ],
            "image/png": "[encoded data removed]"
          },
          "metadata": {}
        },
        {
          "output_type": "stream",
          "name": "stdout",
          "text": [
            "\n",
            " Image: i8.jpg\n",
            "\u001b[1m1/1\u001b[0m \u001b[32m━━━━━━━━━━━━━━━━━━━━\u001b[0m\u001b[37m\u001b[0m \u001b[1m0s\u001b[0m 48ms/step\n",
            " Predicted Class: Class 24\n"
          ]
        },
        {
          "output_type": "display_data",
          "data": {
            "text/plain": [
              "<Figure size 200x200 with 1 Axes>"
            ],
            "image/png": "[encoded data removed]"
          },
          "metadata": {}
        },
        {
          "output_type": "stream",
          "name": "stdout",
          "text": [
            "\n",
            " Image: i9.jpg\n",
            "\u001b[1m1/1\u001b[0m \u001b[32m━━━━━━━━━━━━━━━━━━━━\u001b[0m\u001b[37m\u001b[0m \u001b[1m0s\u001b[0m 53ms/step\n",
            " Predicted Class: Class 73\n"
          ]
        },
        {
          "output_type": "display_data",
          "data": {
            "text/plain": [
              "<Figure size 200x200 with 1 Axes>"
            ],
            "image/png": "[encoded data removed]"
          },
          "metadata": {}
        },
        {
          "output_type": "stream",
          "name": "stdout",
          "text": [
            "\n",
            " Image: i10.jpg\n",
            "\u001b[1m1/1\u001b[0m \u001b[32m━━━━━━━━━━━━━━━━━━━━\u001b[0m\u001b[37m\u001b[0m \u001b[1m0s\u001b[0m 49ms/step\n",
            " Predicted Class: Class 95\n"
          ]
        },
        {
          "output_type": "display_data",
          "data": {
            "text/plain": [
              "<Figure size 200x200 with 1 Axes>"
            ],
            "image/png": "[encoded data removed]"
          },
          "metadata": {}
        }
      ]
    }
  ],
  "metadata": {
    "colab": {
      "provenance": [],
      "authorship_tag": "ABX9TyOCnySvWT2CqZquAfiHpRyu",
      "include_colab_link": true
    },
    "kernelspec": {
      "display_name": "Python 3",
      "name": "python3"
    },
    "language_info": {
      "name": "python"
    }
  },
  "nbformat": 4,
  "nbformat_minor": 0
}